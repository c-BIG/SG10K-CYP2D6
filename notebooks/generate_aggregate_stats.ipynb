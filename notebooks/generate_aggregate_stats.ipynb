{
 "cells": [
  {
   "cell_type": "markdown",
   "id": "separate-healing",
   "metadata": {},
   "source": [
    "# Set up"
   ]
  },
  {
   "cell_type": "code",
   "execution_count": 1,
   "id": "focal-recording",
   "metadata": {
    "ExecuteTime": {
     "end_time": "2021-11-26T06:23:26.561724Z",
     "start_time": "2021-11-26T06:23:25.312Z"
    }
   },
   "outputs": [
    {
     "name": "stderr",
     "output_type": "stream",
     "text": [
      "── \u001b[1mAttaching packages\u001b[22m ─────────────────────────────────────── tidyverse 1.3.1 ──\n",
      "\n",
      "\u001b[32m✔\u001b[39m \u001b[34mggplot2\u001b[39m 3.3.5     \u001b[32m✔\u001b[39m \u001b[34mpurrr  \u001b[39m 0.3.4\n",
      "\u001b[32m✔\u001b[39m \u001b[34mtibble \u001b[39m 3.1.4     \u001b[32m✔\u001b[39m \u001b[34mdplyr  \u001b[39m 1.0.7\n",
      "\u001b[32m✔\u001b[39m \u001b[34mtidyr  \u001b[39m 1.1.3     \u001b[32m✔\u001b[39m \u001b[34mstringr\u001b[39m 1.4.0\n",
      "\u001b[32m✔\u001b[39m \u001b[34mreadr  \u001b[39m 2.0.1     \u001b[32m✔\u001b[39m \u001b[34mforcats\u001b[39m 0.5.1\n",
      "\n",
      "── \u001b[1mConflicts\u001b[22m ────────────────────────────────────────── tidyverse_conflicts() ──\n",
      "\u001b[31m✖\u001b[39m \u001b[34mdplyr\u001b[39m::\u001b[32mfilter()\u001b[39m masks \u001b[34mstats\u001b[39m::filter()\n",
      "\u001b[31m✖\u001b[39m \u001b[34mdplyr\u001b[39m::\u001b[32mlag()\u001b[39m    masks \u001b[34mstats\u001b[39m::lag()\n",
      "\n",
      "\n",
      "Attaching package: ‘janitor’\n",
      "\n",
      "\n",
      "The following objects are masked from ‘package:stats’:\n",
      "\n",
      "    chisq.test, fisher.test\n",
      "\n",
      "\n"
     ]
    }
   ],
   "source": [
    "library(\"tidyverse\")\n",
    "library(\"janitor\")"
   ]
  },
  {
   "cell_type": "markdown",
   "id": "intimate-fireplace",
   "metadata": {},
   "source": [
    "# Load data"
   ]
  },
  {
   "cell_type": "code",
   "execution_count": 2,
   "id": "mediterranean-white",
   "metadata": {
    "ExecuteTime": {
     "end_time": "2021-11-26T06:23:26.897983Z",
     "start_time": "2021-11-26T06:23:25.316Z"
    }
   },
   "outputs": [
    {
     "data": {
      "text/html": [
       "<table class=\"dataframe\">\n",
       "<caption>A tibble: 6 × 12</caption>\n",
       "<thead>\n",
       "\t<tr><th scope=col>sample_id</th><th scope=col>cyrius_filter</th><th scope=col>cyrius_diplotype_original</th><th scope=col>cyrius_diplotype</th><th scope=col>aldy_filter</th><th scope=col>aldy_diplotype_original</th><th scope=col>aldy_diplotype</th><th scope=col>stellarpgx_filter</th><th scope=col>stellarpgx_diplotype_original</th><th scope=col>stellarpgx_diplotype</th><th scope=col>consensus_filter</th><th scope=col>consensus_diplotype</th></tr>\n",
       "\t<tr><th scope=col>&lt;chr&gt;</th><th scope=col>&lt;chr&gt;</th><th scope=col>&lt;chr&gt;</th><th scope=col>&lt;chr&gt;</th><th scope=col>&lt;lgl&gt;</th><th scope=col>&lt;chr&gt;</th><th scope=col>&lt;chr&gt;</th><th scope=col>&lt;lgl&gt;</th><th scope=col>&lt;chr&gt;</th><th scope=col>&lt;chr&gt;</th><th scope=col>&lt;chr&gt;</th><th scope=col>&lt;chr&gt;</th></tr>\n",
       "</thead>\n",
       "<tbody>\n",
       "\t<tr><td>WHB10000</td><td>PASS</td><td>*10/*2     </td><td>*2/*10     </td><td>NA</td><td>*2/*13                                           </td><td>*2/*13           </td><td>NA</td><td>*10/*2                                                                                                                                       </td><td>*2/*10               </td><td>PASS</td><td>*2/*10     </td></tr>\n",
       "\t<tr><td>WHB10001</td><td>None</td><td>None       </td><td>no_call    </td><td>NA</td><td>*36.ALDY+*10/*63                                 </td><td>*36+*10/*63      </td><td>NA</td><td>*2/*36+*10                                                                                                                                   </td><td>*2/*10+*36           </td><td>FAIL</td><td>no_call    </td></tr>\n",
       "\t<tr><td>WHB10002</td><td>PASS</td><td>*2/*39     </td><td>*2/*39     </td><td>NA</td><td>*2/*39                                           </td><td>*2/*39           </td><td>NA</td><td>*2/*39                                                                                                                                       </td><td>*2/*39               </td><td>PASS</td><td>*2/*39     </td></tr>\n",
       "\t<tr><td>WHB10003</td><td>None</td><td>None       </td><td>no_call    </td><td>NA</td><td>*1+rs1065852/*10                                 </td><td>*1+rs1065852/*10 </td><td>NA</td><td>Possible novel allele or suballele present: interpret with caution; experimental validation and expert review through PharmVar is recommended</td><td>possible_novel_allele</td><td>FAIL</td><td>no_call    </td></tr>\n",
       "\t<tr><td>WHB10005</td><td>PASS</td><td>*10/*36+*10</td><td>*10/*10+*36</td><td>NA</td><td>*10/*36.ALDY+*10                                 </td><td>*10/*10+*36      </td><td>NA</td><td>*10/*36x2                                                                                                                                    </td><td>*10/*36x2            </td><td>PASS</td><td>*10/*10+*36</td></tr>\n",
       "\t<tr><td>WHB10006</td><td>None</td><td>None       </td><td>no_call    </td><td>NA</td><td>*10+*10+*10+*10+*10+*10+*36.ALDY+*10/*36.ALDY+*10</td><td>*10x7+*36/*10+*36</td><td>NA</td><td>NA                                                                                                                                           </td><td>no_call              </td><td>FAIL</td><td>no_call    </td></tr>\n",
       "</tbody>\n",
       "</table>\n"
      ],
      "text/latex": [
       "A tibble: 6 × 12\n",
       "\\begin{tabular}{llllllllllll}\n",
       " sample\\_id & cyrius\\_filter & cyrius\\_diplotype\\_original & cyrius\\_diplotype & aldy\\_filter & aldy\\_diplotype\\_original & aldy\\_diplotype & stellarpgx\\_filter & stellarpgx\\_diplotype\\_original & stellarpgx\\_diplotype & consensus\\_filter & consensus\\_diplotype\\\\\n",
       " <chr> & <chr> & <chr> & <chr> & <lgl> & <chr> & <chr> & <lgl> & <chr> & <chr> & <chr> & <chr>\\\\\n",
       "\\hline\n",
       "\t WHB10000 & PASS & *10/*2      & *2/*10      & NA & *2/*13                                            & *2/*13            & NA & *10/*2                                                                                                                                        & *2/*10                & PASS & *2/*10     \\\\\n",
       "\t WHB10001 & None & None        & no\\_call     & NA & *36.ALDY+*10/*63                                  & *36+*10/*63       & NA & *2/*36+*10                                                                                                                                    & *2/*10+*36            & FAIL & no\\_call    \\\\\n",
       "\t WHB10002 & PASS & *2/*39      & *2/*39      & NA & *2/*39                                            & *2/*39            & NA & *2/*39                                                                                                                                        & *2/*39                & PASS & *2/*39     \\\\\n",
       "\t WHB10003 & None & None        & no\\_call     & NA & *1+rs1065852/*10                                  & *1+rs1065852/*10  & NA & Possible novel allele or suballele present: interpret with caution; experimental validation and expert review through PharmVar is recommended & possible\\_novel\\_allele & FAIL & no\\_call    \\\\\n",
       "\t WHB10005 & PASS & *10/*36+*10 & *10/*10+*36 & NA & *10/*36.ALDY+*10                                  & *10/*10+*36       & NA & *10/*36x2                                                                                                                                     & *10/*36x2             & PASS & *10/*10+*36\\\\\n",
       "\t WHB10006 & None & None        & no\\_call     & NA & *10+*10+*10+*10+*10+*10+*36.ALDY+*10/*36.ALDY+*10 & *10x7+*36/*10+*36 & NA & NA                                                                                                                                            & no\\_call               & FAIL & no\\_call    \\\\\n",
       "\\end{tabular}\n"
      ],
      "text/markdown": [
       "\n",
       "A tibble: 6 × 12\n",
       "\n",
       "| sample_id &lt;chr&gt; | cyrius_filter &lt;chr&gt; | cyrius_diplotype_original &lt;chr&gt; | cyrius_diplotype &lt;chr&gt; | aldy_filter &lt;lgl&gt; | aldy_diplotype_original &lt;chr&gt; | aldy_diplotype &lt;chr&gt; | stellarpgx_filter &lt;lgl&gt; | stellarpgx_diplotype_original &lt;chr&gt; | stellarpgx_diplotype &lt;chr&gt; | consensus_filter &lt;chr&gt; | consensus_diplotype &lt;chr&gt; |\n",
       "|---|---|---|---|---|---|---|---|---|---|---|---|\n",
       "| WHB10000 | PASS | *10/*2      | *2/*10      | NA | *2/*13                                            | *2/*13            | NA | *10/*2                                                                                                                                        | *2/*10                | PASS | *2/*10      |\n",
       "| WHB10001 | None | None        | no_call     | NA | *36.ALDY+*10/*63                                  | *36+*10/*63       | NA | *2/*36+*10                                                                                                                                    | *2/*10+*36            | FAIL | no_call     |\n",
       "| WHB10002 | PASS | *2/*39      | *2/*39      | NA | *2/*39                                            | *2/*39            | NA | *2/*39                                                                                                                                        | *2/*39                | PASS | *2/*39      |\n",
       "| WHB10003 | None | None        | no_call     | NA | *1+rs1065852/*10                                  | *1+rs1065852/*10  | NA | Possible novel allele or suballele present: interpret with caution; experimental validation and expert review through PharmVar is recommended | possible_novel_allele | FAIL | no_call     |\n",
       "| WHB10005 | PASS | *10/*36+*10 | *10/*10+*36 | NA | *10/*36.ALDY+*10                                  | *10/*10+*36       | NA | *10/*36x2                                                                                                                                     | *10/*36x2             | PASS | *10/*10+*36 |\n",
       "| WHB10006 | None | None        | no_call     | NA | *10+*10+*10+*10+*10+*10+*36.ALDY+*10/*36.ALDY+*10 | *10x7+*36/*10+*36 | NA | NA                                                                                                                                            | no_call               | FAIL | no_call     |\n",
       "\n"
      ],
      "text/plain": [
       "  sample_id cyrius_filter cyrius_diplotype_original cyrius_diplotype\n",
       "1 WHB10000  PASS          *10/*2                    *2/*10          \n",
       "2 WHB10001  None          None                      no_call         \n",
       "3 WHB10002  PASS          *2/*39                    *2/*39          \n",
       "4 WHB10003  None          None                      no_call         \n",
       "5 WHB10005  PASS          *10/*36+*10               *10/*10+*36     \n",
       "6 WHB10006  None          None                      no_call         \n",
       "  aldy_filter aldy_diplotype_original                          \n",
       "1 NA          *2/*13                                           \n",
       "2 NA          *36.ALDY+*10/*63                                 \n",
       "3 NA          *2/*39                                           \n",
       "4 NA          *1+rs1065852/*10                                 \n",
       "5 NA          *10/*36.ALDY+*10                                 \n",
       "6 NA          *10+*10+*10+*10+*10+*10+*36.ALDY+*10/*36.ALDY+*10\n",
       "  aldy_diplotype    stellarpgx_filter\n",
       "1 *2/*13            NA               \n",
       "2 *36+*10/*63       NA               \n",
       "3 *2/*39            NA               \n",
       "4 *1+rs1065852/*10  NA               \n",
       "5 *10/*10+*36       NA               \n",
       "6 *10x7+*36/*10+*36 NA               \n",
       "  stellarpgx_diplotype_original                                                                                                                \n",
       "1 *10/*2                                                                                                                                       \n",
       "2 *2/*36+*10                                                                                                                                   \n",
       "3 *2/*39                                                                                                                                       \n",
       "4 Possible novel allele or suballele present: interpret with caution; experimental validation and expert review through PharmVar is recommended\n",
       "5 *10/*36x2                                                                                                                                    \n",
       "6 NA                                                                                                                                           \n",
       "  stellarpgx_diplotype  consensus_filter consensus_diplotype\n",
       "1 *2/*10                PASS             *2/*10             \n",
       "2 *2/*10+*36            FAIL             no_call            \n",
       "3 *2/*39                PASS             *2/*39             \n",
       "4 possible_novel_allele FAIL             no_call            \n",
       "5 *10/*36x2             PASS             *10/*10+*36        \n",
       "6 no_call               FAIL             no_call            "
      ]
     },
     "metadata": {},
     "output_type": "display_data"
    },
    {
     "data": {
      "text/html": [
       "<table class=\"dataframe\">\n",
       "<caption>A spec_tbl_df: 1 × 1</caption>\n",
       "<thead>\n",
       "\t<tr><th scope=col>n</th></tr>\n",
       "\t<tr><th scope=col>&lt;int&gt;</th></tr>\n",
       "</thead>\n",
       "<tbody>\n",
       "\t<tr><td>90</td></tr>\n",
       "</tbody>\n",
       "</table>\n"
      ],
      "text/latex": [
       "A spec\\_tbl\\_df: 1 × 1\n",
       "\\begin{tabular}{l}\n",
       " n\\\\\n",
       " <int>\\\\\n",
       "\\hline\n",
       "\t 90\\\\\n",
       "\\end{tabular}\n"
      ],
      "text/markdown": [
       "\n",
       "A spec_tbl_df: 1 × 1\n",
       "\n",
       "| n &lt;int&gt; |\n",
       "|---|\n",
       "| 90 |\n",
       "\n"
      ],
      "text/plain": [
       "  n \n",
       "1 90"
      ]
     },
     "metadata": {},
     "output_type": "display_data"
    }
   ],
   "source": [
    "## CYP2D6 consensus haplotype calls\n",
    "## s3://sg10k-cyp2d6-workspace/call_haplotypes/pilot/consensus_cyrius_aldy_stellarpgx.csv\n",
    "## note: not shared with nala yet\n",
    "\n",
    "in_csv = \"/data/SG10K-CYP2D6/sandbox/aggregate_stats/consensus_cyrius_aldy_stellarpgx.csv\"\n",
    "calls = read_csv(in_csv, col_types = cols()) %>% clean_names()\n",
    "calls %>% head\n",
    "\n",
    "# sanity checks\n",
    "calls %>% count()"
   ]
  },
  {
   "cell_type": "code",
   "execution_count": 3,
   "id": "worse-compilation",
   "metadata": {
    "ExecuteTime": {
     "end_time": "2021-11-26T06:23:27.187370Z",
     "start_time": "2021-11-26T06:23:25.319Z"
    }
   },
   "outputs": [
    {
     "data": {
      "text/html": [
       "<table class=\"dataframe\">\n",
       "<caption>A tibble: 6 × 14</caption>\n",
       "<thead>\n",
       "\t<tr><th scope=col>npm_research_id</th><th scope=col>multiplex_pool_id</th><th scope=col>supplier_id</th><th scope=col>site_supplying_sample</th><th scope=col>supplied_gender</th><th scope=col>genetic_sex</th><th scope=col>self_reported_ethnicity</th><th scope=col>genetic_ancestry</th><th scope=col>extraction_kit</th><th scope=col>library_prep_kit</th><th scope=col>sequencing_depth</th><th scope=col>estimate_of_sequence_coverage</th><th scope=col>qc_pass_in_r5_3</th><th scope=col>industry_consent</th></tr>\n",
       "\t<tr><th scope=col>&lt;chr&gt;</th><th scope=col>&lt;chr&gt;</th><th scope=col>&lt;chr&gt;</th><th scope=col>&lt;chr&gt;</th><th scope=col>&lt;chr&gt;</th><th scope=col>&lt;chr&gt;</th><th scope=col>&lt;chr&gt;</th><th scope=col>&lt;chr&gt;</th><th scope=col>&lt;chr&gt;</th><th scope=col>&lt;chr&gt;</th><th scope=col>&lt;chr&gt;</th><th scope=col>&lt;dbl&gt;</th><th scope=col>&lt;lgl&gt;</th><th scope=col>&lt;lgl&gt;</th></tr>\n",
       "</thead>\n",
       "<tbody>\n",
       "\t<tr><td>WHB3854</td><td>MUX8960</td><td>020-66085-011</td><td>GUSTO_Kids</td><td>M</td><td>male  </td><td>Chinese</td><td>C</td><td>QIAsymphony DSP DNA Midi Kit</td><td>NEBNext UltraII DNA library Prep Kit for Illumina</td><td>30x</td><td>30.22588</td><td>TRUE</td><td>TRUE</td></tr>\n",
       "\t<tr><td>WHB3855</td><td>MUX8960</td><td>010-22048    </td><td>GUSTO_Kids</td><td>F</td><td>female</td><td>Malay  </td><td>M</td><td>QIAsymphony DSP DNA Midi Kit</td><td>NEBNext UltraII DNA library Prep Kit for Illumina</td><td>30x</td><td>36.72887</td><td>TRUE</td><td>TRUE</td></tr>\n",
       "\t<tr><td>WHB3856</td><td>MUX8960</td><td>020-04240    </td><td>GUSTO_Kids</td><td>F</td><td>female</td><td>Chinese</td><td>C</td><td>QIAsymphony DSP DNA Midi Kit</td><td>NEBNext UltraII DNA library Prep Kit for Illumina</td><td>30x</td><td>22.70551</td><td>TRUE</td><td>TRUE</td></tr>\n",
       "\t<tr><td>WHB3857</td><td>MUX8960</td><td>020-66123    </td><td>GUSTO_Kids</td><td>M</td><td>male  </td><td>Indian </td><td>I</td><td>QIAsymphony DSP DNA Midi Kit</td><td>NEBNext UltraII DNA library Prep Kit for Illumina</td><td>30x</td><td>31.11992</td><td>TRUE</td><td>TRUE</td></tr>\n",
       "\t<tr><td>WHB3858</td><td>MUX8960</td><td>010-20267    </td><td>GUSTO_Kids</td><td>F</td><td>female</td><td>Malay  </td><td>M</td><td>QIAsymphony DSP DNA Midi Kit</td><td>NEBNext UltraII DNA library Prep Kit for Illumina</td><td>30x</td><td>26.51214</td><td>TRUE</td><td>TRUE</td></tr>\n",
       "\t<tr><td>WHB3859</td><td>MUX8961</td><td>010-21795    </td><td>GUSTO_Kids</td><td>F</td><td>female</td><td>Malay  </td><td>M</td><td>QIAsymphony DSP DNA Midi Kit</td><td>NEBNext UltraII DNA library Prep Kit for Illumina</td><td>30x</td><td>29.33307</td><td>TRUE</td><td>TRUE</td></tr>\n",
       "</tbody>\n",
       "</table>\n"
      ],
      "text/latex": [
       "A tibble: 6 × 14\n",
       "\\begin{tabular}{llllllllllllll}\n",
       " npm\\_research\\_id & multiplex\\_pool\\_id & supplier\\_id & site\\_supplying\\_sample & supplied\\_gender & genetic\\_sex & self\\_reported\\_ethnicity & genetic\\_ancestry & extraction\\_kit & library\\_prep\\_kit & sequencing\\_depth & estimate\\_of\\_sequence\\_coverage & qc\\_pass\\_in\\_r5\\_3 & industry\\_consent\\\\\n",
       " <chr> & <chr> & <chr> & <chr> & <chr> & <chr> & <chr> & <chr> & <chr> & <chr> & <chr> & <dbl> & <lgl> & <lgl>\\\\\n",
       "\\hline\n",
       "\t WHB3854 & MUX8960 & 020-66085-011 & GUSTO\\_Kids & M & male   & Chinese & C & QIAsymphony DSP DNA Midi Kit & NEBNext UltraII DNA library Prep Kit for Illumina & 30x & 30.22588 & TRUE & TRUE\\\\\n",
       "\t WHB3855 & MUX8960 & 010-22048     & GUSTO\\_Kids & F & female & Malay   & M & QIAsymphony DSP DNA Midi Kit & NEBNext UltraII DNA library Prep Kit for Illumina & 30x & 36.72887 & TRUE & TRUE\\\\\n",
       "\t WHB3856 & MUX8960 & 020-04240     & GUSTO\\_Kids & F & female & Chinese & C & QIAsymphony DSP DNA Midi Kit & NEBNext UltraII DNA library Prep Kit for Illumina & 30x & 22.70551 & TRUE & TRUE\\\\\n",
       "\t WHB3857 & MUX8960 & 020-66123     & GUSTO\\_Kids & M & male   & Indian  & I & QIAsymphony DSP DNA Midi Kit & NEBNext UltraII DNA library Prep Kit for Illumina & 30x & 31.11992 & TRUE & TRUE\\\\\n",
       "\t WHB3858 & MUX8960 & 010-20267     & GUSTO\\_Kids & F & female & Malay   & M & QIAsymphony DSP DNA Midi Kit & NEBNext UltraII DNA library Prep Kit for Illumina & 30x & 26.51214 & TRUE & TRUE\\\\\n",
       "\t WHB3859 & MUX8961 & 010-21795     & GUSTO\\_Kids & F & female & Malay   & M & QIAsymphony DSP DNA Midi Kit & NEBNext UltraII DNA library Prep Kit for Illumina & 30x & 29.33307 & TRUE & TRUE\\\\\n",
       "\\end{tabular}\n"
      ],
      "text/markdown": [
       "\n",
       "A tibble: 6 × 14\n",
       "\n",
       "| npm_research_id &lt;chr&gt; | multiplex_pool_id &lt;chr&gt; | supplier_id &lt;chr&gt; | site_supplying_sample &lt;chr&gt; | supplied_gender &lt;chr&gt; | genetic_sex &lt;chr&gt; | self_reported_ethnicity &lt;chr&gt; | genetic_ancestry &lt;chr&gt; | extraction_kit &lt;chr&gt; | library_prep_kit &lt;chr&gt; | sequencing_depth &lt;chr&gt; | estimate_of_sequence_coverage &lt;dbl&gt; | qc_pass_in_r5_3 &lt;lgl&gt; | industry_consent &lt;lgl&gt; |\n",
       "|---|---|---|---|---|---|---|---|---|---|---|---|---|---|\n",
       "| WHB3854 | MUX8960 | 020-66085-011 | GUSTO_Kids | M | male   | Chinese | C | QIAsymphony DSP DNA Midi Kit | NEBNext UltraII DNA library Prep Kit for Illumina | 30x | 30.22588 | TRUE | TRUE |\n",
       "| WHB3855 | MUX8960 | 010-22048     | GUSTO_Kids | F | female | Malay   | M | QIAsymphony DSP DNA Midi Kit | NEBNext UltraII DNA library Prep Kit for Illumina | 30x | 36.72887 | TRUE | TRUE |\n",
       "| WHB3856 | MUX8960 | 020-04240     | GUSTO_Kids | F | female | Chinese | C | QIAsymphony DSP DNA Midi Kit | NEBNext UltraII DNA library Prep Kit for Illumina | 30x | 22.70551 | TRUE | TRUE |\n",
       "| WHB3857 | MUX8960 | 020-66123     | GUSTO_Kids | M | male   | Indian  | I | QIAsymphony DSP DNA Midi Kit | NEBNext UltraII DNA library Prep Kit for Illumina | 30x | 31.11992 | TRUE | TRUE |\n",
       "| WHB3858 | MUX8960 | 010-20267     | GUSTO_Kids | F | female | Malay   | M | QIAsymphony DSP DNA Midi Kit | NEBNext UltraII DNA library Prep Kit for Illumina | 30x | 26.51214 | TRUE | TRUE |\n",
       "| WHB3859 | MUX8961 | 010-21795     | GUSTO_Kids | F | female | Malay   | M | QIAsymphony DSP DNA Midi Kit | NEBNext UltraII DNA library Prep Kit for Illumina | 30x | 29.33307 | TRUE | TRUE |\n",
       "\n"
      ],
      "text/plain": [
       "  npm_research_id multiplex_pool_id supplier_id   site_supplying_sample\n",
       "1 WHB3854         MUX8960           020-66085-011 GUSTO_Kids           \n",
       "2 WHB3855         MUX8960           010-22048     GUSTO_Kids           \n",
       "3 WHB3856         MUX8960           020-04240     GUSTO_Kids           \n",
       "4 WHB3857         MUX8960           020-66123     GUSTO_Kids           \n",
       "5 WHB3858         MUX8960           010-20267     GUSTO_Kids           \n",
       "6 WHB3859         MUX8961           010-21795     GUSTO_Kids           \n",
       "  supplied_gender genetic_sex self_reported_ethnicity genetic_ancestry\n",
       "1 M               male        Chinese                 C               \n",
       "2 F               female      Malay                   M               \n",
       "3 F               female      Chinese                 C               \n",
       "4 M               male        Indian                  I               \n",
       "5 F               female      Malay                   M               \n",
       "6 F               female      Malay                   M               \n",
       "  extraction_kit              \n",
       "1 QIAsymphony DSP DNA Midi Kit\n",
       "2 QIAsymphony DSP DNA Midi Kit\n",
       "3 QIAsymphony DSP DNA Midi Kit\n",
       "4 QIAsymphony DSP DNA Midi Kit\n",
       "5 QIAsymphony DSP DNA Midi Kit\n",
       "6 QIAsymphony DSP DNA Midi Kit\n",
       "  library_prep_kit                                  sequencing_depth\n",
       "1 NEBNext UltraII DNA library Prep Kit for Illumina 30x             \n",
       "2 NEBNext UltraII DNA library Prep Kit for Illumina 30x             \n",
       "3 NEBNext UltraII DNA library Prep Kit for Illumina 30x             \n",
       "4 NEBNext UltraII DNA library Prep Kit for Illumina 30x             \n",
       "5 NEBNext UltraII DNA library Prep Kit for Illumina 30x             \n",
       "6 NEBNext UltraII DNA library Prep Kit for Illumina 30x             \n",
       "  estimate_of_sequence_coverage qc_pass_in_r5_3 industry_consent\n",
       "1 30.22588                      TRUE            TRUE            \n",
       "2 36.72887                      TRUE            TRUE            \n",
       "3 22.70551                      TRUE            TRUE            \n",
       "4 31.11992                      TRUE            TRUE            \n",
       "5 26.51214                      TRUE            TRUE            \n",
       "6 29.33307                      TRUE            TRUE            "
      ]
     },
     "metadata": {},
     "output_type": "display_data"
    },
    {
     "data": {
      "text/html": [
       "<table class=\"dataframe\">\n",
       "<caption>A spec_tbl_df: 1 × 1</caption>\n",
       "<thead>\n",
       "\t<tr><th scope=col>n</th></tr>\n",
       "\t<tr><th scope=col>&lt;int&gt;</th></tr>\n",
       "</thead>\n",
       "<tbody>\n",
       "\t<tr><td>60</td></tr>\n",
       "</tbody>\n",
       "</table>\n"
      ],
      "text/latex": [
       "A spec\\_tbl\\_df: 1 × 1\n",
       "\\begin{tabular}{l}\n",
       " n\\\\\n",
       " <int>\\\\\n",
       "\\hline\n",
       "\t 60\\\\\n",
       "\\end{tabular}\n"
      ],
      "text/markdown": [
       "\n",
       "A spec_tbl_df: 1 × 1\n",
       "\n",
       "| n &lt;int&gt; |\n",
       "|---|\n",
       "| 60 |\n",
       "\n"
      ],
      "text/plain": [
       "  n \n",
       "1 60"
      ]
     },
     "metadata": {},
     "output_type": "display_data"
    }
   ],
   "source": [
    "## ethnicity information\n",
    "## s3://sg10k-cyp2d6/metadata/SG10K-CYP2D6.sample_list.20210722.csv\n",
    "\n",
    "in_csv = \"/data/SG10K-CYP2D6/s3/sg10k-cyp2d6/metadata/SG10K-CYP2D6.sample_list.20210722.csv\"\n",
    "metadata = read_csv(in_csv, col_types = cols()) %>% clean_names()\n",
    "metadata %>% head\n",
    "\n",
    "## sanity checks\n",
    "## we expect 60 samples at 30X\n",
    "metadata %>% \n",
    "filter(sequencing_depth == \"30x\") %>% \n",
    "filter(npm_research_id %in% calls$sample_id) %>% \n",
    "count()"
   ]
  },
  {
   "cell_type": "code",
   "execution_count": 4,
   "id": "human-evaluation",
   "metadata": {
    "ExecuteTime": {
     "end_time": "2021-11-26T06:23:27.239820Z",
     "start_time": "2021-11-26T06:23:25.322Z"
    }
   },
   "outputs": [
    {
     "data": {
      "text/html": [
       "<table class=\"dataframe\">\n",
       "<caption>A data.frame: 6 × 16</caption>\n",
       "<thead>\n",
       "\t<tr><th></th><th scope=col>sample_id</th><th scope=col>consensus_filter</th><th scope=col>consensus_diplotype</th><th scope=col>multiplex_pool_id</th><th scope=col>supplier_id</th><th scope=col>site_supplying_sample</th><th scope=col>supplied_gender</th><th scope=col>genetic_sex</th><th scope=col>self_reported_ethnicity</th><th scope=col>genetic_ancestry</th><th scope=col>extraction_kit</th><th scope=col>library_prep_kit</th><th scope=col>sequencing_depth</th><th scope=col>estimate_of_sequence_coverage</th><th scope=col>qc_pass_in_r5_3</th><th scope=col>industry_consent</th></tr>\n",
       "\t<tr><th></th><th scope=col>&lt;chr&gt;</th><th scope=col>&lt;chr&gt;</th><th scope=col>&lt;chr&gt;</th><th scope=col>&lt;chr&gt;</th><th scope=col>&lt;chr&gt;</th><th scope=col>&lt;chr&gt;</th><th scope=col>&lt;chr&gt;</th><th scope=col>&lt;chr&gt;</th><th scope=col>&lt;chr&gt;</th><th scope=col>&lt;chr&gt;</th><th scope=col>&lt;chr&gt;</th><th scope=col>&lt;chr&gt;</th><th scope=col>&lt;chr&gt;</th><th scope=col>&lt;dbl&gt;</th><th scope=col>&lt;lgl&gt;</th><th scope=col>&lt;lgl&gt;</th></tr>\n",
       "</thead>\n",
       "<tbody>\n",
       "\t<tr><th scope=row>1</th><td>WHB3854</td><td>PASS</td><td>*1/*10+*36     </td><td>MUX8960</td><td>020-66085-011</td><td>GUSTO_Kids</td><td>M</td><td>male  </td><td>Chinese</td><td>C</td><td>QIAsymphony DSP DNA Midi Kit</td><td>NEBNext UltraII DNA library Prep Kit for Illumina</td><td>30x</td><td>30.22588</td><td>TRUE</td><td>TRUE</td></tr>\n",
       "\t<tr><th scope=row>2</th><td>WHB3855</td><td>PASS</td><td>*1/*10         </td><td>MUX8960</td><td>010-22048    </td><td>GUSTO_Kids</td><td>F</td><td>female</td><td>Malay  </td><td>M</td><td>QIAsymphony DSP DNA Midi Kit</td><td>NEBNext UltraII DNA library Prep Kit for Illumina</td><td>30x</td><td>36.72887</td><td>TRUE</td><td>TRUE</td></tr>\n",
       "\t<tr><th scope=row>3</th><td>WHB3856</td><td>PASS</td><td>*10+*36/*10+*36</td><td>MUX8960</td><td>020-04240    </td><td>GUSTO_Kids</td><td>F</td><td>female</td><td>Chinese</td><td>C</td><td>QIAsymphony DSP DNA Midi Kit</td><td>NEBNext UltraII DNA library Prep Kit for Illumina</td><td>30x</td><td>22.70551</td><td>TRUE</td><td>TRUE</td></tr>\n",
       "\t<tr><th scope=row>4</th><td>WHB3857</td><td>PASS</td><td>*1/*2          </td><td>MUX8960</td><td>020-66123    </td><td>GUSTO_Kids</td><td>M</td><td>male  </td><td>Indian </td><td>I</td><td>QIAsymphony DSP DNA Midi Kit</td><td>NEBNext UltraII DNA library Prep Kit for Illumina</td><td>30x</td><td>31.11992</td><td>TRUE</td><td>TRUE</td></tr>\n",
       "\t<tr><th scope=row>5</th><td>WHB3858</td><td>PASS</td><td>*4/*10         </td><td>MUX8960</td><td>010-20267    </td><td>GUSTO_Kids</td><td>F</td><td>female</td><td>Malay  </td><td>M</td><td>QIAsymphony DSP DNA Midi Kit</td><td>NEBNext UltraII DNA library Prep Kit for Illumina</td><td>30x</td><td>26.51214</td><td>TRUE</td><td>TRUE</td></tr>\n",
       "\t<tr><th scope=row>6</th><td>WHB3859</td><td>PASS</td><td>*1/*1          </td><td>MUX8961</td><td>010-21795    </td><td>GUSTO_Kids</td><td>F</td><td>female</td><td>Malay  </td><td>M</td><td>QIAsymphony DSP DNA Midi Kit</td><td>NEBNext UltraII DNA library Prep Kit for Illumina</td><td>30x</td><td>29.33307</td><td>TRUE</td><td>TRUE</td></tr>\n",
       "</tbody>\n",
       "</table>\n"
      ],
      "text/latex": [
       "A data.frame: 6 × 16\n",
       "\\begin{tabular}{r|llllllllllllllll}\n",
       "  & sample\\_id & consensus\\_filter & consensus\\_diplotype & multiplex\\_pool\\_id & supplier\\_id & site\\_supplying\\_sample & supplied\\_gender & genetic\\_sex & self\\_reported\\_ethnicity & genetic\\_ancestry & extraction\\_kit & library\\_prep\\_kit & sequencing\\_depth & estimate\\_of\\_sequence\\_coverage & qc\\_pass\\_in\\_r5\\_3 & industry\\_consent\\\\\n",
       "  & <chr> & <chr> & <chr> & <chr> & <chr> & <chr> & <chr> & <chr> & <chr> & <chr> & <chr> & <chr> & <chr> & <dbl> & <lgl> & <lgl>\\\\\n",
       "\\hline\n",
       "\t1 & WHB3854 & PASS & *1/*10+*36      & MUX8960 & 020-66085-011 & GUSTO\\_Kids & M & male   & Chinese & C & QIAsymphony DSP DNA Midi Kit & NEBNext UltraII DNA library Prep Kit for Illumina & 30x & 30.22588 & TRUE & TRUE\\\\\n",
       "\t2 & WHB3855 & PASS & *1/*10          & MUX8960 & 010-22048     & GUSTO\\_Kids & F & female & Malay   & M & QIAsymphony DSP DNA Midi Kit & NEBNext UltraII DNA library Prep Kit for Illumina & 30x & 36.72887 & TRUE & TRUE\\\\\n",
       "\t3 & WHB3856 & PASS & *10+*36/*10+*36 & MUX8960 & 020-04240     & GUSTO\\_Kids & F & female & Chinese & C & QIAsymphony DSP DNA Midi Kit & NEBNext UltraII DNA library Prep Kit for Illumina & 30x & 22.70551 & TRUE & TRUE\\\\\n",
       "\t4 & WHB3857 & PASS & *1/*2           & MUX8960 & 020-66123     & GUSTO\\_Kids & M & male   & Indian  & I & QIAsymphony DSP DNA Midi Kit & NEBNext UltraII DNA library Prep Kit for Illumina & 30x & 31.11992 & TRUE & TRUE\\\\\n",
       "\t5 & WHB3858 & PASS & *4/*10          & MUX8960 & 010-20267     & GUSTO\\_Kids & F & female & Malay   & M & QIAsymphony DSP DNA Midi Kit & NEBNext UltraII DNA library Prep Kit for Illumina & 30x & 26.51214 & TRUE & TRUE\\\\\n",
       "\t6 & WHB3859 & PASS & *1/*1           & MUX8961 & 010-21795     & GUSTO\\_Kids & F & female & Malay   & M & QIAsymphony DSP DNA Midi Kit & NEBNext UltraII DNA library Prep Kit for Illumina & 30x & 29.33307 & TRUE & TRUE\\\\\n",
       "\\end{tabular}\n"
      ],
      "text/markdown": [
       "\n",
       "A data.frame: 6 × 16\n",
       "\n",
       "| <!--/--> | sample_id &lt;chr&gt; | consensus_filter &lt;chr&gt; | consensus_diplotype &lt;chr&gt; | multiplex_pool_id &lt;chr&gt; | supplier_id &lt;chr&gt; | site_supplying_sample &lt;chr&gt; | supplied_gender &lt;chr&gt; | genetic_sex &lt;chr&gt; | self_reported_ethnicity &lt;chr&gt; | genetic_ancestry &lt;chr&gt; | extraction_kit &lt;chr&gt; | library_prep_kit &lt;chr&gt; | sequencing_depth &lt;chr&gt; | estimate_of_sequence_coverage &lt;dbl&gt; | qc_pass_in_r5_3 &lt;lgl&gt; | industry_consent &lt;lgl&gt; |\n",
       "|---|---|---|---|---|---|---|---|---|---|---|---|---|---|---|---|---|\n",
       "| 1 | WHB3854 | PASS | *1/*10+*36      | MUX8960 | 020-66085-011 | GUSTO_Kids | M | male   | Chinese | C | QIAsymphony DSP DNA Midi Kit | NEBNext UltraII DNA library Prep Kit for Illumina | 30x | 30.22588 | TRUE | TRUE |\n",
       "| 2 | WHB3855 | PASS | *1/*10          | MUX8960 | 010-22048     | GUSTO_Kids | F | female | Malay   | M | QIAsymphony DSP DNA Midi Kit | NEBNext UltraII DNA library Prep Kit for Illumina | 30x | 36.72887 | TRUE | TRUE |\n",
       "| 3 | WHB3856 | PASS | *10+*36/*10+*36 | MUX8960 | 020-04240     | GUSTO_Kids | F | female | Chinese | C | QIAsymphony DSP DNA Midi Kit | NEBNext UltraII DNA library Prep Kit for Illumina | 30x | 22.70551 | TRUE | TRUE |\n",
       "| 4 | WHB3857 | PASS | *1/*2           | MUX8960 | 020-66123     | GUSTO_Kids | M | male   | Indian  | I | QIAsymphony DSP DNA Midi Kit | NEBNext UltraII DNA library Prep Kit for Illumina | 30x | 31.11992 | TRUE | TRUE |\n",
       "| 5 | WHB3858 | PASS | *4/*10          | MUX8960 | 010-20267     | GUSTO_Kids | F | female | Malay   | M | QIAsymphony DSP DNA Midi Kit | NEBNext UltraII DNA library Prep Kit for Illumina | 30x | 26.51214 | TRUE | TRUE |\n",
       "| 6 | WHB3859 | PASS | *1/*1           | MUX8961 | 010-21795     | GUSTO_Kids | F | female | Malay   | M | QIAsymphony DSP DNA Midi Kit | NEBNext UltraII DNA library Prep Kit for Illumina | 30x | 29.33307 | TRUE | TRUE |\n",
       "\n"
      ],
      "text/plain": [
       "  sample_id consensus_filter consensus_diplotype multiplex_pool_id\n",
       "1 WHB3854   PASS             *1/*10+*36          MUX8960          \n",
       "2 WHB3855   PASS             *1/*10              MUX8960          \n",
       "3 WHB3856   PASS             *10+*36/*10+*36     MUX8960          \n",
       "4 WHB3857   PASS             *1/*2               MUX8960          \n",
       "5 WHB3858   PASS             *4/*10              MUX8960          \n",
       "6 WHB3859   PASS             *1/*1               MUX8961          \n",
       "  supplier_id   site_supplying_sample supplied_gender genetic_sex\n",
       "1 020-66085-011 GUSTO_Kids            M               male       \n",
       "2 010-22048     GUSTO_Kids            F               female     \n",
       "3 020-04240     GUSTO_Kids            F               female     \n",
       "4 020-66123     GUSTO_Kids            M               male       \n",
       "5 010-20267     GUSTO_Kids            F               female     \n",
       "6 010-21795     GUSTO_Kids            F               female     \n",
       "  self_reported_ethnicity genetic_ancestry extraction_kit              \n",
       "1 Chinese                 C                QIAsymphony DSP DNA Midi Kit\n",
       "2 Malay                   M                QIAsymphony DSP DNA Midi Kit\n",
       "3 Chinese                 C                QIAsymphony DSP DNA Midi Kit\n",
       "4 Indian                  I                QIAsymphony DSP DNA Midi Kit\n",
       "5 Malay                   M                QIAsymphony DSP DNA Midi Kit\n",
       "6 Malay                   M                QIAsymphony DSP DNA Midi Kit\n",
       "  library_prep_kit                                  sequencing_depth\n",
       "1 NEBNext UltraII DNA library Prep Kit for Illumina 30x             \n",
       "2 NEBNext UltraII DNA library Prep Kit for Illumina 30x             \n",
       "3 NEBNext UltraII DNA library Prep Kit for Illumina 30x             \n",
       "4 NEBNext UltraII DNA library Prep Kit for Illumina 30x             \n",
       "5 NEBNext UltraII DNA library Prep Kit for Illumina 30x             \n",
       "6 NEBNext UltraII DNA library Prep Kit for Illumina 30x             \n",
       "  estimate_of_sequence_coverage qc_pass_in_r5_3 industry_consent\n",
       "1 30.22588                      TRUE            TRUE            \n",
       "2 36.72887                      TRUE            TRUE            \n",
       "3 22.70551                      TRUE            TRUE            \n",
       "4 31.11992                      TRUE            TRUE            \n",
       "5 26.51214                      TRUE            TRUE            \n",
       "6 29.33307                      TRUE            TRUE            "
      ]
     },
     "metadata": {},
     "output_type": "display_data"
    },
    {
     "data": {
      "text/html": [
       "<table class=\"dataframe\">\n",
       "<caption>A grouped_df: 2 × 2</caption>\n",
       "<thead>\n",
       "\t<tr><th scope=col>consensus_filter</th><th scope=col>n</th></tr>\n",
       "\t<tr><th scope=col>&lt;chr&gt;</th><th scope=col>&lt;int&gt;</th></tr>\n",
       "</thead>\n",
       "<tbody>\n",
       "\t<tr><td>FAIL</td><td> 8</td></tr>\n",
       "\t<tr><td>PASS</td><td>52</td></tr>\n",
       "</tbody>\n",
       "</table>\n"
      ],
      "text/latex": [
       "A grouped\\_df: 2 × 2\n",
       "\\begin{tabular}{ll}\n",
       " consensus\\_filter & n\\\\\n",
       " <chr> & <int>\\\\\n",
       "\\hline\n",
       "\t FAIL &  8\\\\\n",
       "\t PASS & 52\\\\\n",
       "\\end{tabular}\n"
      ],
      "text/markdown": [
       "\n",
       "A grouped_df: 2 × 2\n",
       "\n",
       "| consensus_filter &lt;chr&gt; | n &lt;int&gt; |\n",
       "|---|---|\n",
       "| FAIL |  8 |\n",
       "| PASS | 52 |\n",
       "\n"
      ],
      "text/plain": [
       "  consensus_filter n \n",
       "1 FAIL              8\n",
       "2 PASS             52"
      ]
     },
     "metadata": {},
     "output_type": "display_data"
    }
   ],
   "source": [
    "## merge\n",
    "a = calls %>% \n",
    "select(sample_id, consensus_filter, consensus_diplotype)\n",
    "\n",
    "b = metadata %>% \n",
    "rename(sample_id = npm_research_id)\n",
    "\n",
    "annotated_calls = merge(a, b, by = \"sample_id\")\n",
    "annotated_calls %>% head()\n",
    "annotated_calls %>%\n",
    "group_by(consensus_filter) %>% \n",
    "count()"
   ]
  },
  {
   "cell_type": "markdown",
   "id": "spoken-amber",
   "metadata": {},
   "source": [
    "# Calculate aggregate stats"
   ]
  },
  {
   "cell_type": "code",
   "execution_count": 5,
   "id": "incorrect-flower",
   "metadata": {
    "ExecuteTime": {
     "end_time": "2021-11-26T06:23:27.249154Z",
     "start_time": "2021-11-26T06:23:25.326Z"
    }
   },
   "outputs": [],
   "source": [
    "## Note: using data-derived genetic ancestry, as oppposed to self-reported ethnicity\n",
    "## Need to account for cases where that info is missing, if any (TODO)"
   ]
  },
  {
   "cell_type": "code",
   "execution_count": 6,
   "id": "automotive-struggle",
   "metadata": {
    "ExecuteTime": {
     "end_time": "2021-11-26T06:23:27.335218Z",
     "start_time": "2021-11-26T06:23:25.331Z"
    }
   },
   "outputs": [
    {
     "data": {
      "text/html": [
       "<strong>n:</strong> 52"
      ],
      "text/latex": [
       "\\textbf{n:} 52"
      ],
      "text/markdown": [
       "**n:** 52"
      ],
      "text/plain": [
       " n \n",
       "52 "
      ]
     },
     "metadata": {},
     "output_type": "display_data"
    },
    {
     "data": {
      "text/html": [
       "<table class=\"dataframe\">\n",
       "<caption>A tibble: 6 × 9</caption>\n",
       "<thead>\n",
       "\t<tr><th scope=col>consensus_diplotype</th><th scope=col>n_chinese</th><th scope=col>n_indian</th><th scope=col>n_malay</th><th scope=col>n_all</th><th scope=col>freq_chinese</th><th scope=col>freq_indian</th><th scope=col>freq_malay</th><th scope=col>freq_all</th></tr>\n",
       "\t<tr><th scope=col>&lt;chr&gt;</th><th scope=col>&lt;int&gt;</th><th scope=col>&lt;int&gt;</th><th scope=col>&lt;int&gt;</th><th scope=col>&lt;int&gt;</th><th scope=col>&lt;dbl&gt;</th><th scope=col>&lt;dbl&gt;</th><th scope=col>&lt;dbl&gt;</th><th scope=col>&lt;dbl&gt;</th></tr>\n",
       "</thead>\n",
       "<tbody>\n",
       "\t<tr><td>*1/*1       </td><td>NA</td><td> 2</td><td> 1</td><td>3</td><td>        NA</td><td>0.03846154</td><td>0.01923077</td><td>0.05769231</td></tr>\n",
       "\t<tr><td>*1/*10      </td><td>NA</td><td>NA</td><td> 3</td><td>3</td><td>        NA</td><td>        NA</td><td>0.05769231</td><td>0.05769231</td></tr>\n",
       "\t<tr><td>*1/*10+*36  </td><td> 2</td><td>NA</td><td> 3</td><td>5</td><td>0.03846154</td><td>        NA</td><td>0.05769231</td><td>0.09615385</td></tr>\n",
       "\t<tr><td>*1/*10+*36x2</td><td>NA</td><td>NA</td><td> 1</td><td>1</td><td>        NA</td><td>        NA</td><td>0.01923077</td><td>0.01923077</td></tr>\n",
       "\t<tr><td>*1/*1x2     </td><td>NA</td><td> 1</td><td>NA</td><td>1</td><td>        NA</td><td>0.01923077</td><td>        NA</td><td>0.01923077</td></tr>\n",
       "\t<tr><td>*1/*2       </td><td> 1</td><td> 5</td><td> 2</td><td>8</td><td>0.01923077</td><td>0.09615385</td><td>0.03846154</td><td>0.15384615</td></tr>\n",
       "</tbody>\n",
       "</table>\n"
      ],
      "text/latex": [
       "A tibble: 6 × 9\n",
       "\\begin{tabular}{lllllllll}\n",
       " consensus\\_diplotype & n\\_chinese & n\\_indian & n\\_malay & n\\_all & freq\\_chinese & freq\\_indian & freq\\_malay & freq\\_all\\\\\n",
       " <chr> & <int> & <int> & <int> & <int> & <dbl> & <dbl> & <dbl> & <dbl>\\\\\n",
       "\\hline\n",
       "\t *1/*1        & NA &  2 &  1 & 3 &         NA & 0.03846154 & 0.01923077 & 0.05769231\\\\\n",
       "\t *1/*10       & NA & NA &  3 & 3 &         NA &         NA & 0.05769231 & 0.05769231\\\\\n",
       "\t *1/*10+*36   &  2 & NA &  3 & 5 & 0.03846154 &         NA & 0.05769231 & 0.09615385\\\\\n",
       "\t *1/*10+*36x2 & NA & NA &  1 & 1 &         NA &         NA & 0.01923077 & 0.01923077\\\\\n",
       "\t *1/*1x2      & NA &  1 & NA & 1 &         NA & 0.01923077 &         NA & 0.01923077\\\\\n",
       "\t *1/*2        &  1 &  5 &  2 & 8 & 0.01923077 & 0.09615385 & 0.03846154 & 0.15384615\\\\\n",
       "\\end{tabular}\n"
      ],
      "text/markdown": [
       "\n",
       "A tibble: 6 × 9\n",
       "\n",
       "| consensus_diplotype &lt;chr&gt; | n_chinese &lt;int&gt; | n_indian &lt;int&gt; | n_malay &lt;int&gt; | n_all &lt;int&gt; | freq_chinese &lt;dbl&gt; | freq_indian &lt;dbl&gt; | freq_malay &lt;dbl&gt; | freq_all &lt;dbl&gt; |\n",
       "|---|---|---|---|---|---|---|---|---|\n",
       "| *1/*1        | NA |  2 |  1 | 3 |         NA | 0.03846154 | 0.01923077 | 0.05769231 |\n",
       "| *1/*10       | NA | NA |  3 | 3 |         NA |         NA | 0.05769231 | 0.05769231 |\n",
       "| *1/*10+*36   |  2 | NA |  3 | 5 | 0.03846154 |         NA | 0.05769231 | 0.09615385 |\n",
       "| *1/*10+*36x2 | NA | NA |  1 | 1 |         NA |         NA | 0.01923077 | 0.01923077 |\n",
       "| *1/*1x2      | NA |  1 | NA | 1 |         NA | 0.01923077 |         NA | 0.01923077 |\n",
       "| *1/*2        |  1 |  5 |  2 | 8 | 0.01923077 | 0.09615385 | 0.03846154 | 0.15384615 |\n",
       "\n"
      ],
      "text/plain": [
       "  consensus_diplotype n_chinese n_indian n_malay n_all freq_chinese freq_indian\n",
       "1 *1/*1               NA         2        1      3             NA   0.03846154 \n",
       "2 *1/*10              NA        NA        3      3             NA           NA \n",
       "3 *1/*10+*36           2        NA        3      5     0.03846154           NA \n",
       "4 *1/*10+*36x2        NA        NA        1      1             NA           NA \n",
       "5 *1/*1x2             NA         1       NA      1             NA   0.01923077 \n",
       "6 *1/*2                1         5        2      8     0.01923077   0.09615385 \n",
       "  freq_malay freq_all  \n",
       "1 0.01923077 0.05769231\n",
       "2 0.05769231 0.05769231\n",
       "3 0.05769231 0.09615385\n",
       "4 0.01923077 0.01923077\n",
       "5         NA 0.01923077\n",
       "6 0.03846154 0.15384615"
      ]
     },
     "metadata": {},
     "output_type": "display_data"
    },
    {
     "data": {
      "text/html": [
       "52"
      ],
      "text/latex": [
       "52"
      ],
      "text/markdown": [
       "52"
      ],
      "text/plain": [
       "[1] 52"
      ]
     },
     "metadata": {},
     "output_type": "display_data"
    },
    {
     "data": {
      "text/html": [
       "1"
      ],
      "text/latex": [
       "1"
      ],
      "text/markdown": [
       "1"
      ],
      "text/plain": [
       "[1] 1"
      ]
     },
     "metadata": {},
     "output_type": "display_data"
    }
   ],
   "source": [
    "## diplotype-level\n",
    "\n",
    "## prepare data table\n",
    "annotated_calls_pass = annotated_calls %>% \n",
    "filter(consensus_filter == \"PASS\")\n",
    "\n",
    "## calculate stats (count + freq)\n",
    "TOTAL_DIPLOTYPES = annotated_calls_pass %>% count() %>% unlist()\n",
    "TOTAL_DIPLOTYPES\n",
    "\n",
    "aggregate_stats_diplotypes = annotated_calls_pass %>% \n",
    "group_by(consensus_diplotype, genetic_ancestry) %>% \n",
    "count() %>% \n",
    "spread(key = genetic_ancestry, value = n) %>% \n",
    "rename(n_chinese = C) %>% \n",
    "rename(n_indian = I) %>% \n",
    "rename(n_malay = M) %>% \n",
    "mutate(n_all = sum(n_chinese, n_indian, n_malay, na.rm = TRUE)) %>% \n",
    "mutate(freq_chinese = n_chinese / TOTAL_DIPLOTYPES) %>% \n",
    "mutate(freq_indian = n_indian / TOTAL_DIPLOTYPES) %>% \n",
    "mutate(freq_malay = n_malay / TOTAL_DIPLOTYPES) %>% \n",
    "mutate(freq_all = n_all / TOTAL_DIPLOTYPES) %>% \n",
    "ungroup()\n",
    "\n",
    "aggregate_stats_diplotypes %>% head\n",
    "\n",
    "## sanity checks\n",
    "aggregate_stats_diplotypes %>% select(n_all) %>% sum()\n",
    "aggregate_stats_diplotypes %>% select(freq_all) %>% sum()\n",
    "\n",
    "## save output\n",
    "out_csv = \"/data/SG10K-CYP2D6/s3/sg10k-cyp2d6/pilot/aggregate_stats_diplotypes.csv\"\n",
    "write_csv(aggregate_stats_diplotypes, file = out_csv)\n"
   ]
  },
  {
   "cell_type": "code",
   "execution_count": 7,
   "id": "likely-nigeria",
   "metadata": {
    "ExecuteTime": {
     "end_time": "2021-11-26T06:23:27.422871Z",
     "start_time": "2021-11-26T06:23:25.334Z"
    }
   },
   "outputs": [
    {
     "data": {
      "text/html": [
       "<strong>n:</strong> 104"
      ],
      "text/latex": [
       "\\textbf{n:} 104"
      ],
      "text/markdown": [
       "**n:** 104"
      ],
      "text/plain": [
       "  n \n",
       "104 "
      ]
     },
     "metadata": {},
     "output_type": "display_data"
    },
    {
     "data": {
      "text/html": [
       "<table class=\"dataframe\">\n",
       "<caption>A tibble: 6 × 9</caption>\n",
       "<thead>\n",
       "\t<tr><th scope=col>consensus_haplotype</th><th scope=col>n_chinese</th><th scope=col>n_indian</th><th scope=col>n_malay</th><th scope=col>n_all</th><th scope=col>freq_chinese</th><th scope=col>freq_indian</th><th scope=col>freq_malay</th><th scope=col>freq_all</th></tr>\n",
       "\t<tr><th scope=col>&lt;chr&gt;</th><th scope=col>&lt;int&gt;</th><th scope=col>&lt;int&gt;</th><th scope=col>&lt;int&gt;</th><th scope=col>&lt;int&gt;</th><th scope=col>&lt;dbl&gt;</th><th scope=col>&lt;dbl&gt;</th><th scope=col>&lt;dbl&gt;</th><th scope=col>&lt;dbl&gt;</th></tr>\n",
       "</thead>\n",
       "<tbody>\n",
       "\t<tr><td>*1       </td><td> 5</td><td>14</td><td>13</td><td>32</td><td>0.048076923</td><td>0.134615385</td><td>0.125000000</td><td>0.307692308</td></tr>\n",
       "\t<tr><td>*10      </td><td> 3</td><td>NA</td><td> 9</td><td>12</td><td>0.028846154</td><td>         NA</td><td>0.086538462</td><td>0.115384615</td></tr>\n",
       "\t<tr><td>*10+*36  </td><td>10</td><td>NA</td><td> 7</td><td>17</td><td>0.096153846</td><td>         NA</td><td>0.067307692</td><td>0.163461538</td></tr>\n",
       "\t<tr><td>*10+*36x2</td><td> 1</td><td>NA</td><td> 1</td><td> 2</td><td>0.009615385</td><td>         NA</td><td>0.009615385</td><td>0.019230769</td></tr>\n",
       "\t<tr><td>*112     </td><td>NA</td><td> 1</td><td>NA</td><td> 1</td><td>         NA</td><td>0.009615385</td><td>         NA</td><td>0.009615385</td></tr>\n",
       "\t<tr><td>*1x2     </td><td>NA</td><td> 2</td><td>NA</td><td> 2</td><td>         NA</td><td>0.019230769</td><td>         NA</td><td>0.019230769</td></tr>\n",
       "</tbody>\n",
       "</table>\n"
      ],
      "text/latex": [
       "A tibble: 6 × 9\n",
       "\\begin{tabular}{lllllllll}\n",
       " consensus\\_haplotype & n\\_chinese & n\\_indian & n\\_malay & n\\_all & freq\\_chinese & freq\\_indian & freq\\_malay & freq\\_all\\\\\n",
       " <chr> & <int> & <int> & <int> & <int> & <dbl> & <dbl> & <dbl> & <dbl>\\\\\n",
       "\\hline\n",
       "\t *1        &  5 & 14 & 13 & 32 & 0.048076923 & 0.134615385 & 0.125000000 & 0.307692308\\\\\n",
       "\t *10       &  3 & NA &  9 & 12 & 0.028846154 &          NA & 0.086538462 & 0.115384615\\\\\n",
       "\t *10+*36   & 10 & NA &  7 & 17 & 0.096153846 &          NA & 0.067307692 & 0.163461538\\\\\n",
       "\t *10+*36x2 &  1 & NA &  1 &  2 & 0.009615385 &          NA & 0.009615385 & 0.019230769\\\\\n",
       "\t *112      & NA &  1 & NA &  1 &          NA & 0.009615385 &          NA & 0.009615385\\\\\n",
       "\t *1x2      & NA &  2 & NA &  2 &          NA & 0.019230769 &          NA & 0.019230769\\\\\n",
       "\\end{tabular}\n"
      ],
      "text/markdown": [
       "\n",
       "A tibble: 6 × 9\n",
       "\n",
       "| consensus_haplotype &lt;chr&gt; | n_chinese &lt;int&gt; | n_indian &lt;int&gt; | n_malay &lt;int&gt; | n_all &lt;int&gt; | freq_chinese &lt;dbl&gt; | freq_indian &lt;dbl&gt; | freq_malay &lt;dbl&gt; | freq_all &lt;dbl&gt; |\n",
       "|---|---|---|---|---|---|---|---|---|\n",
       "| *1        |  5 | 14 | 13 | 32 | 0.048076923 | 0.134615385 | 0.125000000 | 0.307692308 |\n",
       "| *10       |  3 | NA |  9 | 12 | 0.028846154 |          NA | 0.086538462 | 0.115384615 |\n",
       "| *10+*36   | 10 | NA |  7 | 17 | 0.096153846 |          NA | 0.067307692 | 0.163461538 |\n",
       "| *10+*36x2 |  1 | NA |  1 |  2 | 0.009615385 |          NA | 0.009615385 | 0.019230769 |\n",
       "| *112      | NA |  1 | NA |  1 |          NA | 0.009615385 |          NA | 0.009615385 |\n",
       "| *1x2      | NA |  2 | NA |  2 |          NA | 0.019230769 |          NA | 0.019230769 |\n",
       "\n"
      ],
      "text/plain": [
       "  consensus_haplotype n_chinese n_indian n_malay n_all freq_chinese freq_indian\n",
       "1 *1                   5        14       13      32    0.048076923  0.134615385\n",
       "2 *10                  3        NA        9      12    0.028846154           NA\n",
       "3 *10+*36             10        NA        7      17    0.096153846           NA\n",
       "4 *10+*36x2            1        NA        1       2    0.009615385           NA\n",
       "5 *112                NA         1       NA       1             NA  0.009615385\n",
       "6 *1x2                NA         2       NA       2             NA  0.019230769\n",
       "  freq_malay  freq_all   \n",
       "1 0.125000000 0.307692308\n",
       "2 0.086538462 0.115384615\n",
       "3 0.067307692 0.163461538\n",
       "4 0.009615385 0.019230769\n",
       "5          NA 0.009615385\n",
       "6          NA 0.019230769"
      ]
     },
     "metadata": {},
     "output_type": "display_data"
    },
    {
     "data": {
      "text/html": [
       "104"
      ],
      "text/latex": [
       "104"
      ],
      "text/markdown": [
       "104"
      ],
      "text/plain": [
       "[1] 104"
      ]
     },
     "metadata": {},
     "output_type": "display_data"
    },
    {
     "data": {
      "text/html": [
       "1"
      ],
      "text/latex": [
       "1"
      ],
      "text/markdown": [
       "1"
      ],
      "text/plain": [
       "[1] 1"
      ]
     },
     "metadata": {},
     "output_type": "display_data"
    }
   ],
   "source": [
    "## haplotype-level\n",
    "\n",
    "## prepare data table\n",
    "annotated_calls_pass = annotated_calls %>% \n",
    "filter(consensus_filter == \"PASS\") %>% \n",
    "separate_rows(consensus_diplotype, sep = \"/\") %>% \n",
    "rename(consensus_haplotype = consensus_diplotype) %>% \n",
    "select(sample_id, consensus_haplotype, genetic_ancestry)\n",
    "\n",
    "# annotated_calls_pass %>% head\n",
    "\n",
    "## calculate stats (count + freq)\n",
    "TOTAL_HAPLOTYPES = annotated_calls_pass %>% count() %>% unlist()\n",
    "TOTAL_HAPLOTYPES\n",
    "\n",
    "aggregate_stats_haplotypes = annotated_calls_pass %>% \n",
    "group_by(consensus_haplotype, genetic_ancestry) %>% \n",
    "count() %>% \n",
    "spread(key = genetic_ancestry, value = n) %>% \n",
    "rename(n_chinese = C) %>% \n",
    "rename(n_indian = I) %>% \n",
    "rename(n_malay = M) %>% \n",
    "mutate(n_all = sum(n_chinese, n_indian, n_malay, na.rm = TRUE)) %>% \n",
    "mutate(freq_chinese = n_chinese / TOTAL_HAPLOTYPES) %>% \n",
    "mutate(freq_indian = n_indian / TOTAL_HAPLOTYPES) %>% \n",
    "mutate(freq_malay = n_malay / TOTAL_HAPLOTYPES) %>% \n",
    "mutate(freq_all = n_all / TOTAL_HAPLOTYPES) %>% \n",
    "ungroup()\n",
    "\n",
    "aggregate_stats_haplotypes %>% head\n",
    "\n",
    "## sanity checks\n",
    "aggregate_stats_haplotypes %>% select(n_all) %>% sum() ## 2*N samples\n",
    "aggregate_stats_haplotypes %>% select(freq_all) %>% sum()\n",
    "\n",
    "## save output\n",
    "out_csv = \"/data/SG10K-CYP2D6/s3/sg10k-cyp2d6/pilot/aggregate_stats_haplotypes.csv\"\n",
    "write_csv(aggregate_stats_haplotypes, file = out_csv)\n"
   ]
  },
  {
   "cell_type": "markdown",
   "id": "musical-board",
   "metadata": {},
   "source": [
    "# EOF"
   ]
  }
 ],
 "metadata": {
  "kernelspec": {
   "display_name": "R 3.6.3",
   "language": "R",
   "name": "ir363"
  },
  "language_info": {
   "codemirror_mode": "r",
   "file_extension": ".r",
   "mimetype": "text/x-r-source",
   "name": "R",
   "pygments_lexer": "r",
   "version": "3.6.3"
  },
  "toc": {
   "base_numbering": 1,
   "nav_menu": {},
   "number_sections": true,
   "sideBar": true,
   "skip_h1_title": false,
   "title_cell": "Table of Contents",
   "title_sidebar": "Contents",
   "toc_cell": false,
   "toc_position": {},
   "toc_section_display": true,
   "toc_window_display": false
  }
 },
 "nbformat": 4,
 "nbformat_minor": 5
}
