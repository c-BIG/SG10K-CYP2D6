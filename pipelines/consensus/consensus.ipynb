{
 "cells": [
  {
   "cell_type": "markdown",
   "metadata": {},
   "source": [
    "# Caller Consensus"
   ]
  },
  {
   "cell_type": "markdown",
   "metadata": {},
   "source": [
    "## Data prep"
   ]
  },
  {
   "cell_type": "code",
   "execution_count": 1,
   "metadata": {},
   "outputs": [],
   "source": [
    "import pandas as pd\n",
    "import numpy as np\n",
    "\n",
    "from collections import Counter\n",
    "from pathlib import Path\n",
    "from callers import Cyp2d6CallerOutput\n",
    "from diplotype import Diplotype"
   ]
  },
  {
   "cell_type": "code",
   "execution_count": 2,
   "metadata": {},
   "outputs": [],
   "source": [
    "caller_outputs_path = Path(\"../../_data/caller_outputs\")\n",
    "stellarpgx_outputs_path = caller_outputs_path / \"stellarpgx\"\n",
    "stellarpgx_sample_dirs = stellarpgx_outputs_path.glob(\"*\")\n",
    "sample_list = [sample.name for sample in stellarpgx_sample_dirs]"
   ]
  },
  {
   "cell_type": "code",
   "execution_count": 3,
   "metadata": {},
   "outputs": [
    {
     "name": "stderr",
     "output_type": "stream",
     "text": [
      "WARNING:root:More than one genotype found in Aldy output, only first solution will be processed\n",
      "WARNING:root:[cyrius]Invalid diplotype string: \"*119_*2;*1_*41\", returning \"no_call\"\n",
      "WARNING:root:[cyrius]Invalid diplotype string: \"*10_*10_*68\", returning \"no_call\"\n",
      "WARNING:root:[stellarpgx]Invalid diplotype string: \"Possible novel allele or suballele present: interpret with caution; experimental validation and expert review through PharmVar is recommended\", returning \"no_call\"\n",
      "WARNING:root:[stellarpgx]Invalid diplotype string: \"Possible novel allele or suballele present: interpret with caution; experimental validation and expert review through PharmVar is recommended\", returning \"no_call\"\n",
      "WARNING:root:[cyrius]Invalid diplotype string: \"*10_*10_*68\", returning \"no_call\"\n",
      "WARNING:root:[stellarpgx]Invalid diplotype string: \"Possible novel allele or suballele present: interpret with caution; experimental validation and expert review through PharmVar is recommended\", returning \"no_call\"\n",
      "WARNING:root:[stellarpgx]Invalid diplotype string: \"Possible novel allele or suballele present: interpret with caution; experimental validation and expert review through PharmVar is recommended\", returning \"no_call\"\n",
      "WARNING:root:[cyrius]Invalid diplotype string: \"*1_*1_*83\", returning \"no_call\"\n",
      "WARNING:root:More than one genotype found in Aldy output, only first solution will be processed\n",
      "WARNING:root:[cyrius]Invalid diplotype string: \"*36_*4_*4\", returning \"no_call\"\n",
      "WARNING:root:[stellarpgx]Invalid diplotype string: \"Possible novel allele or suballele present: interpret with caution; experimental validation and expert review through PharmVar is recommended\", returning \"no_call\"\n",
      "WARNING:root:More than one genotype found in Aldy output, only first solution will be processed\n",
      "WARNING:root:[stellarpgx]Invalid diplotype string: \"Possible novel allele or suballele present: interpret with caution; experimental validation and expert review through PharmVar is recommended\", returning \"no_call\"\n",
      "WARNING:root:[stellarpgx]Invalid diplotype string: \"Possible novel allele or suballele present: interpret with caution; experimental validation and expert review through PharmVar is recommended\", returning \"no_call\"\n",
      "WARNING:root:[stellarpgx]Invalid diplotype string: \"Possible novel allele or suballele present: interpret with caution; experimental validation and expert review through PharmVar is recommended\", returning \"no_call\"\n",
      "WARNING:root:[stellarpgx]Invalid diplotype string: \"Possible novel allele or suballele present: interpret with caution; experimental validation and expert review through PharmVar is recommended\", returning \"no_call\"\n",
      "WARNING:root:[stellarpgx]Invalid diplotype string: \"*5/*other\", returning \"no_call\"\n",
      "WARNING:root:[stellarpgx]Invalid diplotype string: \"Possible novel allele or suballele present: interpret with caution; experimental validation and expert review through PharmVar is recommended\", returning \"no_call\"\n",
      "WARNING:root:[stellarpgx]Invalid diplotype string: \"Possible novel allele or suballele present: interpret with caution; experimental validation and expert review through PharmVar is recommended\", returning \"no_call\"\n",
      "WARNING:root:[stellarpgx]Invalid diplotype string: \"Possible novel allele or suballele present: interpret with caution; experimental validation and expert review through PharmVar is recommended\", returning \"no_call\"\n",
      "WARNING:root:More than one genotype found in Aldy output, only first solution will be processed\n",
      "WARNING:root:[stellarpgx]Invalid diplotype string: \"Possible novel allele or suballele present: interpret with caution; experimental validation and expert review through PharmVar is recommended\", returning \"no_call\"\n",
      "WARNING:root:[cyrius]Invalid diplotype string: \"*10_*36_*36_*36_*36\", returning \"no_call\"\n",
      "WARNING:root:More than one genotype found in Aldy output, only first solution will be processed\n",
      "WARNING:root:[stellarpgx]Invalid diplotype string: \"Possible novel allele or suballele present: interpret with caution; experimental validation and expert review through PharmVar is recommended\", returning \"no_call\"\n",
      "WARNING:root:[stellarpgx]Invalid diplotype string: \"Possible novel allele or suballele present: interpret with caution; experimental validation and expert review through PharmVar is recommended\", returning \"no_call\"\n",
      "WARNING:root:[stellarpgx]Invalid diplotype string: \"Possible novel allele or suballele present: interpret with caution; experimental validation and expert review through PharmVar is recommended\", returning \"no_call\"\n",
      "WARNING:root:[stellarpgx]Invalid diplotype string: \"Possible novel allele or suballele present: interpret with caution; experimental validation and expert review through PharmVar is recommended\", returning \"no_call\"\n",
      "WARNING:root:[stellarpgx]Invalid diplotype string: \"Possible novel allele or suballele present: interpret with caution; experimental validation and expert review through PharmVar is recommended\", returning \"no_call\"\n",
      "WARNING:root:[stellarpgx]Invalid diplotype string: \"Possible novel allele or suballele present: interpret with caution; experimental validation and expert review through PharmVar is recommended\", returning \"no_call\"\n",
      "WARNING:root:[stellarpgx]Invalid diplotype string: \"Possible novel allele or suballele present: interpret with caution; experimental validation and expert review through PharmVar is recommended\", returning \"no_call\"\n",
      "WARNING:root:[stellarpgx]Invalid diplotype string: \"Possible novel allele or suballele present: interpret with caution; experimental validation and expert review through PharmVar is recommended\", returning \"no_call\"\n",
      "WARNING:root:[stellarpgx]Invalid diplotype string: \"*10/*41 or *39/*69\tDuplication present\", returning \"no_call\"\n",
      "WARNING:root:[stellarpgx]Invalid diplotype string: \"Possible novel allele or suballele present: interpret with caution; experimental validation and expert review through PharmVar is recommended\", returning \"no_call\"\n",
      "WARNING:root:[stellarpgx]Invalid diplotype string: \"Possible novel allele or suballele present: interpret with caution; experimental validation and expert review through PharmVar is recommended\", returning \"no_call\"\n",
      "WARNING:root:[stellarpgx]Invalid diplotype string: \"Possible novel allele or suballele present: interpret with caution; experimental validation and expert review through PharmVar is recommended\", returning \"no_call\"\n",
      "WARNING:root:[stellarpgx]Invalid diplotype string: \"Possible novel allele or suballele present: interpret with caution; experimental validation and expert review through PharmVar is recommended\", returning \"no_call\"\n",
      "WARNING:root:[cyrius]Invalid diplotype string: \"*36_*41_*47\", returning \"no_call\"\n",
      "WARNING:root:[stellarpgx]Invalid diplotype string: \"Possible novel allele or suballele present: interpret with caution; experimental validation and expert review through PharmVar is recommended\", returning \"no_call\"\n",
      "WARNING:root:[stellarpgx]Invalid diplotype string: \"Possible novel allele or suballele present: interpret with caution; experimental validation and expert review through PharmVar is recommended\", returning \"no_call\"\n",
      "WARNING:root:More than one genotype found in Aldy output, only first solution will be processed\n",
      "WARNING:root:[stellarpgx]Invalid diplotype string: \"Possible novel allele or suballele present: interpret with caution; experimental validation and expert review through PharmVar is recommended\", returning \"no_call\"\n",
      "WARNING:root:[stellarpgx]Invalid diplotype string: \"Possible novel allele or suballele present: interpret with caution; experimental validation and expert review through PharmVar is recommended\", returning \"no_call\"\n",
      "WARNING:root:[stellarpgx]Invalid diplotype string: \"Possible novel allele or suballele present: interpret with caution; experimental validation and expert review through PharmVar is recommended\", returning \"no_call\"\n",
      "WARNING:root:[cyrius]Invalid diplotype string: \"*1_*36_*49\", returning \"no_call\"\n",
      "WARNING:root:[stellarpgx]Invalid diplotype string: \"Possible novel allele or suballele present: interpret with caution; experimental validation and expert review through PharmVar is recommended\", returning \"no_call\"\n",
      "WARNING:root:[stellarpgx]Invalid diplotype string: \"Possible novel allele or suballele present: interpret with caution; experimental validation and expert review through PharmVar is recommended\", returning \"no_call\"\n",
      "WARNING:root:[stellarpgx]Invalid diplotype string: \"Possible novel allele or suballele present: interpret with caution; experimental validation and expert review through PharmVar is recommended\", returning \"no_call\"\n",
      "WARNING:root:[cyrius]Invalid diplotype string: \"*2_*39_*68\", returning \"no_call\"\n",
      "WARNING:root:[stellarpgx]Invalid diplotype string: \"*10/*41 or *39/*69\tDuplication present\", returning \"no_call\"\n",
      "WARNING:root:[stellarpgx]Invalid diplotype string: \"Possible novel allele or suballele present: interpret with caution; experimental validation and expert review through PharmVar is recommended\", returning \"no_call\"\n",
      "WARNING:root:[stellarpgx]Invalid diplotype string: \"Possible novel allele or suballele present: interpret with caution; experimental validation and expert review through PharmVar is recommended\", returning \"no_call\"\n",
      "WARNING:root:[stellarpgx]Invalid diplotype string: \"Possible novel allele or suballele present: interpret with caution; experimental validation and expert review through PharmVar is recommended\", returning \"no_call\"\n",
      "WARNING:root:[stellarpgx]Invalid diplotype string: \"Possible novel allele or suballele present: interpret with caution; experimental validation and expert review through PharmVar is recommended\", returning \"no_call\"\n",
      "WARNING:root:[cyrius]Invalid diplotype string: \"*1_*1_*68\", returning \"no_call\"\n",
      "WARNING:root:[stellarpgx]Invalid diplotype string: \"Possible novel allele or suballele present: interpret with caution; experimental validation and expert review through PharmVar is recommended\", returning \"no_call\"\n",
      "WARNING:root:[cyrius]Invalid diplotype string: \"*1_*1_*83\", returning \"no_call\"\n",
      "WARNING:root:More than one genotype found in Aldy output, only first solution will be processed\n",
      "WARNING:root:More than one genotype found in Aldy output, only first solution will be processed\n",
      "WARNING:root:[stellarpgx]Invalid diplotype string: \"*10/*41 or *39/*69\tDuplication present\", returning \"no_call\"\n",
      "WARNING:root:[stellarpgx]Invalid diplotype string: \"Possible novel allele or suballele present: interpret with caution; experimental validation and expert review through PharmVar is recommended\", returning \"no_call\"\n",
      "WARNING:root:[stellarpgx]Invalid diplotype string: \"Possible novel allele or suballele present: interpret with caution; experimental validation and expert review through PharmVar is recommended\", returning \"no_call\"\n",
      "WARNING:root:[stellarpgx]Invalid diplotype string: \"Possible novel allele or suballele present: interpret with caution; experimental validation and expert review through PharmVar is recommended\", returning \"no_call\"\n",
      "WARNING:root:[stellarpgx]Invalid diplotype string: \"Possible novel allele or suballele present: interpret with caution; experimental validation and expert review through PharmVar is recommended\", returning \"no_call\"\n",
      "WARNING:root:[stellarpgx]Invalid diplotype string: \"Possible novel allele or suballele present: interpret with caution; experimental validation and expert review through PharmVar is recommended\", returning \"no_call\"\n",
      "WARNING:root:[stellarpgx]Invalid diplotype string: \"Possible novel allele or suballele present: interpret with caution; experimental validation and expert review through PharmVar is recommended\", returning \"no_call\"\n",
      "WARNING:root:[stellarpgx]Invalid diplotype string: \"Possible novel allele or suballele present: interpret with caution; experimental validation and expert review through PharmVar is recommended\", returning \"no_call\"\n",
      "WARNING:root:[stellarpgx]Invalid diplotype string: \"Possible novel allele or suballele present: interpret with caution; experimental validation and expert review through PharmVar is recommended\", returning \"no_call\"\n",
      "WARNING:root:[stellarpgx]Invalid diplotype string: \"Possible novel allele or suballele present: interpret with caution; experimental validation and expert review through PharmVar is recommended\", returning \"no_call\"\n",
      "WARNING:root:[stellarpgx]Invalid diplotype string: \"Possible novel allele or suballele present: interpret with caution; experimental validation and expert review through PharmVar is recommended\", returning \"no_call\"\n",
      "WARNING:root:[stellarpgx]Invalid diplotype string: \"Possible novel allele or suballele present: interpret with caution; experimental validation and expert review through PharmVar is recommended\", returning \"no_call\"\n",
      "WARNING:root:[stellarpgx]Invalid diplotype string: \"Possible novel allele or suballele present: interpret with caution; experimental validation and expert review through PharmVar is recommended\", returning \"no_call\"\n",
      "WARNING:root:[stellarpgx]Invalid diplotype string: \"Possible novel allele or suballele present: interpret with caution; experimental validation and expert review through PharmVar is recommended\", returning \"no_call\"\n",
      "WARNING:root:[cyrius]Invalid diplotype string: \"*1_*10_*68\", returning \"no_call\"\n",
      "WARNING:root:More than one genotype found in Aldy output, only first solution will be processed\n",
      "WARNING:root:More than one genotype found in Aldy output, only first solution will be processed\n",
      "WARNING:root:[stellarpgx]Invalid diplotype string: \"Possible novel allele or suballele present: interpret with caution; experimental validation and expert review through PharmVar is recommended\", returning \"no_call\"\n",
      "WARNING:root:[stellarpgx]Invalid diplotype string: \"*5/*other\", returning \"no_call\"\n",
      "WARNING:root:[stellarpgx]Invalid diplotype string: \"Possible novel allele or suballele present: interpret with caution; experimental validation and expert review through PharmVar is recommended\", returning \"no_call\"\n",
      "WARNING:root:[stellarpgx]Invalid diplotype string: \"Possible novel allele or suballele present: interpret with caution; experimental validation and expert review through PharmVar is recommended\", returning \"no_call\"\n",
      "WARNING:root:[stellarpgx]Invalid diplotype string: \"Possible novel allele or suballele present: interpret with caution; experimental validation and expert review through PharmVar is recommended\", returning \"no_call\"\n",
      "WARNING:root:[stellarpgx]Invalid diplotype string: \"Possible novel allele or suballele present: interpret with caution; experimental validation and expert review through PharmVar is recommended\", returning \"no_call\"\n",
      "WARNING:root:More than one genotype found in Aldy output, only first solution will be processed\n",
      "WARNING:root:[cyrius]Invalid diplotype string: \"*10_*4_*4.013;*36_*4_*4\", returning \"no_call\"\n",
      "WARNING:root:[cyrius]Invalid diplotype string: \"*119_*2;*1_*41\", returning \"no_call\"\n",
      "WARNING:root:[stellarpgx]Invalid diplotype string: \"Possible novel allele or suballele present: interpret with caution; experimental validation and expert review through PharmVar is recommended\", returning \"no_call\"\n",
      "WARNING:root:More than one genotype found in Aldy output, only first solution will be processed\n",
      "WARNING:root:[stellarpgx]Invalid diplotype string: \"Possible novel allele or suballele present: interpret with caution; experimental validation and expert review through PharmVar is recommended\", returning \"no_call\"\n",
      "WARNING:root:More than one genotype found in Aldy output, only first solution will be processed\n",
      "WARNING:root:[stellarpgx]Invalid diplotype string: \"Possible novel allele or suballele present: interpret with caution; experimental validation and expert review through PharmVar is recommended\", returning \"no_call\"\n",
      "WARNING:root:[stellarpgx]Invalid diplotype string: \"Possible novel allele or suballele present: interpret with caution; experimental validation and expert review through PharmVar is recommended\", returning \"no_call\"\n",
      "WARNING:root:[stellarpgx]Invalid diplotype string: \"Possible novel allele or suballele present: interpret with caution; experimental validation and expert review through PharmVar is recommended\", returning \"no_call\"\n",
      "WARNING:root:[stellarpgx]Invalid diplotype string: \"Possible novel allele or suballele present: interpret with caution; experimental validation and expert review through PharmVar is recommended\", returning \"no_call\"\n",
      "WARNING:root:[stellarpgx]Invalid diplotype string: \"Possible novel allele or suballele present: interpret with caution; experimental validation and expert review through PharmVar is recommended\", returning \"no_call\"\n",
      "WARNING:root:More than one genotype found in Aldy output, only first solution will be processed\n",
      "WARNING:root:[stellarpgx]Invalid diplotype string: \"*5/*other\", returning \"no_call\"\n",
      "WARNING:root:[stellarpgx]Invalid diplotype string: \"Possible novel allele or suballele present: interpret with caution; experimental validation and expert review through PharmVar is recommended\", returning \"no_call\"\n",
      "WARNING:root:[stellarpgx]Invalid diplotype string: \"Possible novel allele or suballele present: interpret with caution; experimental validation and expert review through PharmVar is recommended\", returning \"no_call\"\n",
      "WARNING:root:[stellarpgx]Invalid diplotype string: \"Possible novel allele or suballele present: interpret with caution; experimental validation and expert review through PharmVar is recommended\", returning \"no_call\"\n",
      "WARNING:root:[cyrius]Invalid diplotype string: \"*36_*4_*4\", returning \"no_call\"\n",
      "WARNING:root:[stellarpgx]Invalid diplotype string: \"Possible novel allele or suballele present: interpret with caution; experimental validation and expert review through PharmVar is recommended\", returning \"no_call\"\n",
      "WARNING:root:[cyrius]Invalid diplotype string: \"*119_*2;*1_*41\", returning \"no_call\"\n",
      "WARNING:root:[stellarpgx]Invalid diplotype string: \"Possible novel allele or suballele present: interpret with caution; experimental validation and expert review through PharmVar is recommended\", returning \"no_call\"\n",
      "WARNING:root:[stellarpgx]Invalid diplotype string: \"Possible novel allele or suballele present: interpret with caution; experimental validation and expert review through PharmVar is recommended\", returning \"no_call\"\n",
      "WARNING:root:[stellarpgx]Invalid diplotype string: \"Possible novel allele or suballele present: interpret with caution; experimental validation and expert review through PharmVar is recommended\", returning \"no_call\"\n",
      "WARNING:root:[stellarpgx]Invalid diplotype string: \"Possible novel allele or suballele present: interpret with caution; experimental validation and expert review through PharmVar is recommended\", returning \"no_call\"\n",
      "WARNING:root:[cyrius]Invalid diplotype string: \"*119_*2;*1_*41\", returning \"no_call\"\n",
      "WARNING:root:[stellarpgx]Invalid diplotype string: \"Possible novel allele or suballele present: interpret with caution; experimental validation and expert review through PharmVar is recommended\", returning \"no_call\"\n",
      "WARNING:root:[stellarpgx]Invalid diplotype string: \"Possible novel allele or suballele present: interpret with caution; experimental validation and expert review through PharmVar is recommended\", returning \"no_call\"\n",
      "WARNING:root:[stellarpgx]Invalid diplotype string: \"Possible novel allele or suballele present: interpret with caution; experimental validation and expert review through PharmVar is recommended\", returning \"no_call\"\n",
      "WARNING:root:[stellarpgx]Invalid diplotype string: \"Possible novel allele or suballele present: interpret with caution; experimental validation and expert review through PharmVar is recommended\", returning \"no_call\"\n",
      "WARNING:root:[stellarpgx]Invalid diplotype string: \"Possible novel allele or suballele present: interpret with caution; experimental validation and expert review through PharmVar is recommended\", returning \"no_call\"\n",
      "WARNING:root:[cyrius]Invalid diplotype string: \"*1_*2_*68\", returning \"no_call\"\n",
      "WARNING:root:[stellarpgx]Invalid diplotype string: \"Possible novel allele or suballele present: interpret with caution; experimental validation and expert review through PharmVar is recommended\", returning \"no_call\"\n",
      "WARNING:root:[stellarpgx]Invalid diplotype string: \"Possible novel allele or suballele present: interpret with caution; experimental validation and expert review through PharmVar is recommended\", returning \"no_call\"\n",
      "WARNING:root:[stellarpgx]Invalid diplotype string: \"Possible novel allele or suballele present: interpret with caution; experimental validation and expert review through PharmVar is recommended\", returning \"no_call\"\n",
      "WARNING:root:[stellarpgx]Invalid diplotype string: \"Possible novel allele or suballele present: interpret with caution; experimental validation and expert review through PharmVar is recommended\", returning \"no_call\"\n",
      "WARNING:root:[stellarpgx]Invalid diplotype string: \"Possible novel allele or suballele present: interpret with caution; experimental validation and expert review through PharmVar is recommended\", returning \"no_call\"\n",
      "WARNING:root:[stellarpgx]Invalid diplotype string: \"Possible novel allele or suballele present: interpret with caution; experimental validation and expert review through PharmVar is recommended\", returning \"no_call\"\n",
      "WARNING:root:[stellarpgx]Invalid diplotype string: \"Possible novel allele or suballele present: interpret with caution; experimental validation and expert review through PharmVar is recommended\", returning \"no_call\"\n",
      "WARNING:root:[stellarpgx]Invalid diplotype string: \"Possible novel allele or suballele present: interpret with caution; experimental validation and expert review through PharmVar is recommended\", returning \"no_call\"\n",
      "WARNING:root:[stellarpgx]Invalid diplotype string: \"Possible novel allele or suballele present: interpret with caution; experimental validation and expert review through PharmVar is recommended\", returning \"no_call\"\n",
      "WARNING:root:[stellarpgx]Invalid diplotype string: \"Possible novel allele or suballele present: interpret with caution; experimental validation and expert review through PharmVar is recommended\", returning \"no_call\"\n",
      "WARNING:root:[stellarpgx]Invalid diplotype string: \"Possible novel allele or suballele present: interpret with caution; experimental validation and expert review through PharmVar is recommended\", returning \"no_call\"\n",
      "WARNING:root:[stellarpgx]Invalid diplotype string: \"Possible novel allele or suballele present: interpret with caution; experimental validation and expert review through PharmVar is recommended\", returning \"no_call\"\n",
      "WARNING:root:[cyrius]Invalid diplotype string: \"*10_*36_*36_*36_*36\", returning \"no_call\"\n",
      "WARNING:root:[stellarpgx]Invalid diplotype string: \"Possible novel allele or suballele present: interpret with caution; experimental validation and expert review through PharmVar is recommended\", returning \"no_call\"\n",
      "WARNING:root:[stellarpgx]Invalid diplotype string: \"*5/*other\", returning \"no_call\"\n",
      "WARNING:root:[stellarpgx]Invalid diplotype string: \"Possible novel allele or suballele present: interpret with caution; experimental validation and expert review through PharmVar is recommended\", returning \"no_call\"\n",
      "WARNING:root:[stellarpgx]Invalid diplotype string: \"*5/*other\", returning \"no_call\"\n",
      "WARNING:root:[stellarpgx]Invalid diplotype string: \"Possible novel allele or suballele present: interpret with caution; experimental validation and expert review through PharmVar is recommended\", returning \"no_call\"\n",
      "WARNING:root:[stellarpgx]Invalid diplotype string: \"Possible novel allele or suballele present: interpret with caution; experimental validation and expert review through PharmVar is recommended\", returning \"no_call\"\n",
      "WARNING:root:[stellarpgx]Invalid diplotype string: \"Possible novel allele or suballele present: interpret with caution; experimental validation and expert review through PharmVar is recommended\", returning \"no_call\"\n"
     ]
    }
   ],
   "source": [
    "diplotypes = {}\n",
    "\n",
    "for sample in sample_list:\n",
    "    diplotypes[sample] = {}\n",
    "    files = {\n",
    "        \"cyrius\": [file for file in caller_outputs_path.glob(f\"sg10k-dragen/{sample}/cyrius/*.json\")][0],\n",
    "        \"aldy\": [file for file in caller_outputs_path.glob(f\"sg10k-dragen/{sample}/aldy/*.aldy\")][0],\n",
    "        \"stellarpgx\": [file for file in caller_outputs_path.glob(f\"stellarpgx/{sample}/**/*.alleles\")][0]\n",
    "    }\n",
    "    \n",
    "    for caller, file in files.items():\n",
    "        caller_output = eval(f\"Cyp2d6CallerOutput.{caller}(\\\"{file}\\\")\")\n",
    "        diplotypes[sample][f\"raw_{caller}\"] = caller_output.diplotype.raw\n",
    "        diplotypes[sample][caller] = caller_output.diplotype.parsed"
   ]
  },
  {
   "cell_type": "markdown",
   "metadata": {},
   "source": [
    "## Calculate consensus"
   ]
  },
  {
   "cell_type": "code",
   "execution_count": 4,
   "metadata": {},
   "outputs": [],
   "source": [
    "def simple_consensus(cyrius, aldy, stellarpgx):\n",
    "    consensus = None\n",
    "    if cyrius == aldy == stellarpgx:\n",
    "        consensus = cyrius\n",
    "    elif cyrius == aldy:\n",
    "        consensus = cyrius\n",
    "    elif cyrius == stellarpgx:\n",
    "        consensus =  cyrius\n",
    "    elif aldy == stellarpgx:\n",
    "        consensus = aldy\n",
    "    return consensus"
   ]
  },
  {
   "cell_type": "code",
   "execution_count": 5,
   "metadata": {},
   "outputs": [],
   "source": [
    "diplotypes_df = pd.DataFrame.from_dict(diplotypes, orient=\"index\")\n",
    "diplotypes_df[\"all_match\"] = (diplotypes_df[\"cyrius\"] == diplotypes_df[\"aldy\"]) & (diplotypes_df[\"cyrius\"] == diplotypes_df[\"stellarpgx\"])\n",
    "diplotypes_df[\"diplotype\"] = diplotypes_df.apply(lambda sample: simple_consensus(sample[\"cyrius\"], sample[\"aldy\"], sample[\"stellarpgx\"]), axis=1)"
   ]
  },
  {
   "cell_type": "code",
   "execution_count": 6,
   "metadata": {},
   "outputs": [],
   "source": [
    "#diplotypes_df.sample(10)"
   ]
  },
  {
   "cell_type": "markdown",
   "metadata": {},
   "source": [
    "## Add metadata"
   ]
  },
  {
   "cell_type": "code",
   "execution_count": 7,
   "metadata": {},
   "outputs": [],
   "source": [
    "metadata = pd.read_csv(\"../../_data/metadata/SG10K-DRAGEN.sample_list_full.20210719.csv\")\n",
    "metadata.set_index(\"npm_research_id\", inplace=True)"
   ]
  },
  {
   "cell_type": "code",
   "execution_count": 8,
   "metadata": {},
   "outputs": [],
   "source": [
    "diplotypes_with_metadata = pd.merge(diplotypes_df, metadata, how=\"left\", left_index=True, right_index=True,)"
   ]
  },
  {
   "cell_type": "code",
   "execution_count": 9,
   "metadata": {},
   "outputs": [],
   "source": [
    "#diplotypes_with_metadata.sample(5)"
   ]
  },
  {
   "cell_type": "markdown",
   "metadata": {},
   "source": [
    "## Consensus aggregate data"
   ]
  },
  {
   "cell_type": "code",
   "execution_count": 10,
   "metadata": {},
   "outputs": [],
   "source": [
    "consensus_df = diplotypes_with_metadata.loc[(diplotypes_with_metadata[\"diplotype\"].notna()) & (diplotypes_with_metadata[\"diplotype\"] != \"no_call\")]\n",
    "#consensus_df.sample(5)"
   ]
  },
  {
   "cell_type": "code",
   "execution_count": 11,
   "metadata": {},
   "outputs": [
    {
     "data": {
      "text/plain": [
       "genetic_ancestry\n",
       "C    1154\n",
       "I     166\n",
       "M     203\n",
       "O       2\n",
       "Name: diplotype, dtype: int64"
      ]
     },
     "execution_count": 11,
     "metadata": {},
     "output_type": "execute_result"
    }
   ],
   "source": [
    "ethnicity_counts = consensus_df.groupby(\"genetic_ancestry\")[\"diplotype\"].count()\n",
    "ethnicity_counts"
   ]
  },
  {
   "cell_type": "code",
   "execution_count": 12,
   "metadata": {},
   "outputs": [
    {
     "data": {
      "text/plain": [
       "1525"
      ]
     },
     "execution_count": 12,
     "metadata": {},
     "output_type": "execute_result"
    }
   ],
   "source": [
    "ethnicity_counts.sum()"
   ]
  },
  {
   "cell_type": "code",
   "execution_count": 13,
   "metadata": {},
   "outputs": [],
   "source": [
    "aggregate_df = consensus_df.groupby([\"diplotype\", \"genetic_ancestry\"])[\"diplotype\"].count().to_frame().rename(columns={\"diplotype\": \"diplotype_count\"}).reset_index()\n",
    "aggregate_df[\"diplotype_frequency\"] = aggregate_df.apply(lambda x: x[\"diplotype_count\"] / ethnicity_counts.loc[x[\"genetic_ancestry\"]], axis=1)\n",
    "aggregate_df[\"haplotypes\"] = aggregate_df[\"diplotype\"].str.split(\"/\")\n",
    "aggregate_df[\"star_alleles\"] = aggregate_df[\"diplotype\"].apply(Diplotype.from_string).apply(lambda x: list(pd.Series([list(h.star_alleles.elements()) for h in x.haplotypes]).explode()))"
   ]
  },
  {
   "cell_type": "code",
   "execution_count": 14,
   "metadata": {},
   "outputs": [],
   "source": [
    "haplotype_counts_by_ethnicity = {}\n",
    "star_allele_counts_by_ethnicity = {}\n",
    "for ethnicity, data in aggregate_df.groupby(\"genetic_ancestry\"):\n",
    "    haplotype_counts_by_ethnicity[ethnicity] = Counter((data[\"haplotypes\"] * data[\"diplotype_count\"]).explode())\n",
    "    star_allele_counts_by_ethnicity[ethnicity] = Counter((data[\"star_alleles\"] * data[\"diplotype_count\"]).explode())"
   ]
  },
  {
   "cell_type": "code",
   "execution_count": 15,
   "metadata": {},
   "outputs": [],
   "source": [
    "aggregate_df[\"haplotype_count\"] = aggregate_df.apply(lambda x: [haplotype_counts_by_ethnicity[x[\"genetic_ancestry\"]].get(haplotype) for haplotype in x[\"haplotypes\"]], axis=1)\n",
    "aggregate_df[\"haplotype_frequency\"] = aggregate_df.apply(lambda x: [hc / sum(haplotype_counts_by_ethnicity[x[\"genetic_ancestry\"]].values()) for hc in x[\"haplotype_count\"]], axis=1)\n",
    "aggregate_df[\"star_allele_count\"] = aggregate_df.apply(lambda x: [star_allele_counts_by_ethnicity[x[\"genetic_ancestry\"]].get(star_allele) for star_allele in x[\"star_alleles\"]], axis=1)\n",
    "aggregate_df[\"star_allele_frequency\"] = aggregate_df.apply(lambda x: [sac / sum(star_allele_counts_by_ethnicity[x[\"genetic_ancestry\"]].values()) for sac in x[\"star_allele_count\"]], axis=1)\n",
    "#aggregate_df[(aggregate_df[\"genetic_ancestry\"] == \"M\") & (aggregate_df[\"diplotype\"].str.contains(\"\\*10\"))]"
   ]
  },
  {
   "cell_type": "code",
   "execution_count": 16,
   "metadata": {},
   "outputs": [],
   "source": [
    "# Export\n",
    "columns = [\"genetic_ancestry\", \"diplotype\", \"diplotype_count\", \"diplotype_frequency\", \"haplotypes\", \"haplotype_count\", \"haplotype_frequency\", \"star_alleles\", \"star_allele_count\", \"star_allele_frequency\"]\n",
    "aggregate_df = aggregate_df.loc[:, columns]\n",
    "to_export = aggregate_df.sort_values([\"diplotype_count\"], ascending=False).reset_index(drop=True)\n",
    "\n",
    "export_file_name = \"sg10k_cyp2d6_diplotype_consensus_v2\"\n",
    "to_export.to_csv(f\"../../_data/{export_file_name}.tsv\", sep=\"\\t\", index=False)\n",
    "to_export.to_json(f\"../../_data/{export_file_name}.json\", indent=4)"
   ]
  },
  {
   "cell_type": "code",
   "execution_count": 17,
   "metadata": {},
   "outputs": [
    {
     "data": {
      "text/plain": [
       "12"
      ]
     },
     "execution_count": 17,
     "metadata": {},
     "output_type": "execute_result"
    }
   ],
   "source": [
    "(aggregate_df[\"haplotypes\"] * aggregate_df[\"diplotype_count\"]).explode().value_counts().loc[\"*10+*36x2\"]"
   ]
  },
  {
   "cell_type": "markdown",
   "metadata": {
    "tags": []
   },
   "source": [
    "## Samples without consensus"
   ]
  },
  {
   "cell_type": "code",
   "execution_count": 18,
   "metadata": {},
   "outputs": [],
   "source": [
    "no_consensus_df = diplotypes_with_metadata[diplotypes_with_metadata[\"diplotype\"].isna()]\n",
    "#no_consensus_df.sample(5)"
   ]
  },
  {
   "cell_type": "code",
   "execution_count": 19,
   "metadata": {},
   "outputs": [
    {
     "data": {
      "text/plain": [
       "C    200\n",
       "M     64\n",
       "I     27\n",
       "Name: genetic_ancestry, dtype: int64"
      ]
     },
     "execution_count": 19,
     "metadata": {},
     "output_type": "execute_result"
    }
   ],
   "source": [
    "no_consensus_df[\"genetic_ancestry\"].value_counts()"
   ]
  },
  {
   "cell_type": "code",
   "execution_count": 20,
   "metadata": {},
   "outputs": [
    {
     "data": {
      "text/plain": [
       "False    147\n",
       "True     144\n",
       "Name: cyrius, dtype: int64"
      ]
     },
     "execution_count": 20,
     "metadata": {},
     "output_type": "execute_result"
    }
   ],
   "source": [
    "(no_consensus_df[\"cyrius\"] == \"no_call\").value_counts()"
   ]
  },
  {
   "cell_type": "code",
   "execution_count": 21,
   "metadata": {},
   "outputs": [
    {
     "data": {
      "text/plain": [
       "['aldy,stellarpgx',\n",
       " '*10/*49,*10/*49x2',\n",
       " '*1/*10+*36,*1/*10+*36x2',\n",
       " '*1/*49,*1/*49x2',\n",
       " '*4/*10+*36,*4x3/*10',\n",
       " '*1/*41,*34/*119x2',\n",
       " '*10/*36,*10/*10+*36',\n",
       " '*36x2/*65x2,*10/*65x2',\n",
       " '*4/*86,*4+*68/*86',\n",
       " '*1/*5,*1/*1',\n",
       " '*1/*4,*1/*4x2',\n",
       " '*4+*68/*36,*4x2/*10+*36',\n",
       " '*63/*80,*2/*41',\n",
       " '*10x2/*68,*10/*10+*36',\n",
       " '*10/*10+*36,*10/*10',\n",
       " '*10+*36/*36,*10+*36/*10+*36',\n",
       " '*1/*41,*1/*41x2',\n",
       " '*10x3/*10+*36+*83,*10x2+*36x3/*39',\n",
       " '*1x2/*61,*1/*1x2',\n",
       " '*10/*36,*10/*10+*36',\n",
       " '*4/*10+*36,*4/*10x2',\n",
       " '*10/*10+*36,*10+*36/*10+*36',\n",
       " '*2/*2,*2/*2x2',\n",
       " '*2/*10+*36,*2/*10',\n",
       " '*2/*10+*36,*2/*10',\n",
       " '*1/*10+*36,*1/*10x2+*36',\n",
       " '*2/*10,*2x2/*10',\n",
       " '*1/*1,*1/*1x2',\n",
       " '*10x2+*36/*10+*36,*10+*36/*10+*36',\n",
       " '*1/*1,*1/*1x2',\n",
       " '*1/*10,*1/*10x2',\n",
       " '*10+*36/*10+*36,*10/*36x2',\n",
       " '*2/*10+*36,*2/*10x2+*36',\n",
       " '*1/*2,*1/*2x2',\n",
       " '*2/*10+*36,*2/*10x2+*36',\n",
       " '*1x2+*10+*36/*10x2+*36,*1/*10+*36x3',\n",
       " '*10/*10+*36,*10+*36/*10+*36',\n",
       " '*2/*10,*2x2/*10',\n",
       " '*10+*36/*10+*36,*10+*36/*10x2+*36',\n",
       " '*1+*36/*10+*36,*1/*10+*36',\n",
       " '*10/*10+*36,*10+*36/*10+*36',\n",
       " '*36+*47/*41,*41/*47x2',\n",
       " '*1/*1,*1/*1x2',\n",
       " '*10/*10,*10/*10x2',\n",
       " '*1/*10+*36,*1/*10+*36x2',\n",
       " '*10+*36/*10+*36+*41,*10x2+*36x2/*41',\n",
       " '*1+*49/*36,*1/*49x2',\n",
       " '*1/*36x2,*1/*10+*36',\n",
       " '*1/*36x2,*1/*10+*36',\n",
       " '*4/*5,*4/*4',\n",
       " '*2+*68/*39,*2/*10+*36',\n",
       " '*10+*36/*10+*36,*10/*10+*36',\n",
       " '*10/*10+*36,*10+*36/*10+*36',\n",
       " '*4/*10,*4x2/*10',\n",
       " '*10/*10+*36,*10/*10x2+*36',\n",
       " '*10+*36/*10+*36,*10/*10+*36',\n",
       " '*1/*10+*36,*10+*36/*143',\n",
       " '*1/*5,*1/*1',\n",
       " '*2/*4,*2/*4x2',\n",
       " '*5/*10,*10/*36',\n",
       " '*10x4+*36/*10+*36,*10/*10x5',\n",
       " '*5/*83,*1/*1x2',\n",
       " '*10/*10+*36,*10/*10x2+*36',\n",
       " '*1x2/*61,*1/*1',\n",
       " '*10+*36/*10+*36,*10+*36/*10+*36x2',\n",
       " '*10/*36,*10/*36x2',\n",
       " '*10/*10+*36,*10/*10x3+*36',\n",
       " '*1/*10+*36,*1/*10+*36x2',\n",
       " '*1/*10,*1/*10x2',\n",
       " '*10x4+*36/*10+*36,*10/*10x7',\n",
       " '*10/*10,*10/*10x2',\n",
       " '*1x2+*10+*36/*10+*36,*1/*10+*36x2',\n",
       " '*10/*10+*36,*10/*10x2',\n",
       " '*2/*43,*2x2/*43',\n",
       " '*1/*10+*36,*1/*10x2+*36x2',\n",
       " '*10/*10+*36,*10+*36/*10+*36',\n",
       " '*10x2+*36/*10+*36,*10/*10x3',\n",
       " '*10+*36/*10+*36,*10/*36x2',\n",
       " '*10+*36/*10+*36,*10/*10+*36',\n",
       " '*2/*10+*36,*2/*10x2+*36',\n",
       " '*1+*68/*10,*1/*10+*36',\n",
       " '*1/*10+*36,*1/*10x2+*36',\n",
       " '*1/*61,*1/*143',\n",
       " '*10+*22/*10+*36,*10+*36/*142x2',\n",
       " '*1x2+*10+*36/*10x4+*36,*1/*10+*36x4',\n",
       " '*1+*36/*10+*36,*1/*36x2',\n",
       " '*1/*2,*1/*2x2',\n",
       " '*1/*10,*1/*10x2',\n",
       " '*1/*10,*1/*10x2',\n",
       " '*10+*36/*10+*36,*10/*10+*36',\n",
       " '*10+*63/*114,*10/*14x2',\n",
       " '*1/*41,*1/*41x2',\n",
       " '*10+*36/*79,*10/*69',\n",
       " '*10/*107,*10/*107x2',\n",
       " '*35/*41,*35/*41x2',\n",
       " '*1/*2x2,*1/*2x3',\n",
       " '*10+*36/*10+*36,*10+*36/*10+*36x2',\n",
       " '*1/*10,*1/*10x2',\n",
       " '*10+*36/*10+*36,*10+*36/*10x2+*36',\n",
       " '*10+*36/*36,*10/*10+*36',\n",
       " '*10/*10,*10/*10x2',\n",
       " '*10+*36/*10+*36,*10/*10+*36',\n",
       " '*1/*41,*1/*41x2',\n",
       " '*10+*36/*49,*10+*36/*49x2',\n",
       " '*5/*41,*41/*41',\n",
       " '*4/*43,*4x2/*43',\n",
       " '*10+*36/*10+*36,*10/*10x5',\n",
       " '*10x2/*68+*83,*10+*36/*39',\n",
       " '*1/*10,*1/*10x2',\n",
       " '*1x2+*10+*36/*10x2+*36,*1/*10+*36x3',\n",
       " '*1/*10+*36,*1/*10x2+*36',\n",
       " '*10/*41,*10/*41x2',\n",
       " '*4/*10+*36,*4x2/*10',\n",
       " '*1/*10,*1/*10x2',\n",
       " '*1/*10+*36,*1/*10+*36x2',\n",
       " '*5/*119,*34x2/*119',\n",
       " '*10/*10+*36,*10/*10x2+*36',\n",
       " '*1/*2,*1/*2x2',\n",
       " '*1/*1,*1/*1x2',\n",
       " '*2/*10,*2x2/*10',\n",
       " '*2/*36x2,*2/*10+*36',\n",
       " '*1/*10,*1/*10x2',\n",
       " '*2/*10,*2x2/*10',\n",
       " '*1+*61/*10+*36,*1/*10+*36x3',\n",
       " '*2/*119,*1/*41x2',\n",
       " '*1/*5,*1/*2x2',\n",
       " '*4/*41,*4x2/*41',\n",
       " '*10x7+*36/*10+*36,*10/*10x6',\n",
       " '*1/*1,*1/*1x2',\n",
       " '*10x3/*10+*36+*83,*10+*36x3/*39',\n",
       " '*5/*5,*2/*2x2',\n",
       " '*1/*2,*1/*2x2',\n",
       " '*10+*36/*10+*36,*10/*10x5',\n",
       " '*1/*10,*1/*10x2',\n",
       " '*4/*10+*36,*4x2/*10',\n",
       " '*10+*36/*10+*36,*10/*36x2',\n",
       " '*1/*10+*36,*1/*10+*36x2',\n",
       " '*1/*41,*1/*41x2',\n",
       " '*41/*41,*41/*41x2',\n",
       " '*2/*10+*36,*2/*10x2+*36',\n",
       " '*2/*27,*2/*2',\n",
       " '*1/*41,*1/*41x2',\n",
       " '*10+*36/*10+*36,*10/*10x3',\n",
       " '*10+*36/*10+*36,*10/*10x5',\n",
       " '*1+*36/*10+*36,*1/*10x2+*36x2']"
      ]
     },
     "execution_count": 21,
     "metadata": {},
     "output_type": "execute_result"
    }
   ],
   "source": [
    "# Cyrius \"no_call\"\n",
    "no_consensus_df[no_consensus_df[\"cyrius\"] == \"no_call\"][[\"aldy\", \"stellarpgx\"]].to_csv(index=False).split()"
   ]
  },
  {
   "cell_type": "code",
   "execution_count": 22,
   "metadata": {},
   "outputs": [
    {
     "data": {
      "text/plain": [
       "['cyrius,aldy,stellarpgx',\n",
       " '*2/*10+*36x2,*2+*36/*10+*36,*10+*36/*39',\n",
       " '*1/*10+*36x2,*1+*36/*10+*36,*1/*10+*36',\n",
       " '*10/*10+*36,*10+*36/*10+*36,*10+*36/*10+*36x2',\n",
       " '*1/*10,*1/*10+*36,*1/*10x2+*36',\n",
       " '*1/*2,*13/*63,*1/*34',\n",
       " '*1/*10,*1/*10+*36,*1/*10+*36x2',\n",
       " '*5/*41,*1/*41,*1/*41x2',\n",
       " '*2/*10+*36x2,*10+*36/*83,*36x2/*39',\n",
       " '*10+*36x2/*49,*10+*36/*36+*49,*36x2/*49x2',\n",
       " '*10/*10,*10/*36,no_call',\n",
       " '*1/*10+*36,*1+*36/*10+*36,*1/*10x2+*36',\n",
       " '*2/*10,*2/*10+*36,*2/*10+*36x2',\n",
       " '*2/*10+*36,*2/*10+*83,*2/*10',\n",
       " '*1/*10+*36,*1x2/*10+*36+*68,*1/*10x2',\n",
       " '*10/*10+*36,*10+*36/*10+*36,*10+*36/*10+*36x2',\n",
       " '*2/*10+*36x2,*2+*36/*10+*36,*36x2/*39',\n",
       " '*10/*10+*36,*10x2/*10+*36,*10/*10x2',\n",
       " '*10+*36/*10+*36,*10x2+*36/*10+*36,*10/*10x3',\n",
       " '*1/*10,*36/*39,*1/*36',\n",
       " '*10/*10,*10/*10+*36,*10/*10x3',\n",
       " '*5/*10+*36,*36/*36,no_call',\n",
       " '*1/*13,*1/*2,*1/*2x2',\n",
       " '*5/*10+*36,*10/*61,*10/*36',\n",
       " '*1x2/*10+*36,*1+*79/*36,no_call',\n",
       " '*2/*5,*1/*2,*1/*2x2',\n",
       " '*10/*10+*36,*10+*52/*10+*36+*68,*10x2/*52',\n",
       " '*10+*36/*10+*36x2,*10x2+*36/*10+*36,*10+*36/*10+*36',\n",
       " '*1/*10,*1/*36,no_call',\n",
       " '*10/*10,*10/*10+*36,*10/*10x3',\n",
       " '*4/*5,*1/*4,*1/*4x2',\n",
       " '*10+*36/*10+*36x2,*10x2+*36/*10+*36,*10/*10x3',\n",
       " '*2/*10+*36x2,*2+*36/*10+*36,*2/*10+*36',\n",
       " '*2/*10+*36,*10+*36/*63,*2/*36x2',\n",
       " '*2/*10,*2/*10+*36,*2/*10x2+*36',\n",
       " '*2/*14,*14/*86,no_call',\n",
       " '*2/*10,*10+*36/*14,*2x2/*10',\n",
       " '*4+*68/*10,*4/*5,*4x2/*10',\n",
       " '*10/*10+*36,*10+*36/*79,*10/*10x2',\n",
       " '*10+*36/*41,*36+*39/*69,no_call',\n",
       " '*10+*36/*10+*36x2,*10x2+*36/*10+*36,*10+*36/*10x2+*36',\n",
       " '*10+*36/*10+*36,*10x2+*36/*10+*36,*10/*10+*36',\n",
       " '*10/*10+*36,*10/*36,*10/*36x2',\n",
       " '*2/*10+*36,*2+*79/*36,*2/*10',\n",
       " '*5/*10+*36,*36/*36,*10/*36',\n",
       " '*10+*36/*36x2,*10+*36/*10+*36,*10/*10x3',\n",
       " '*10/*41,*10+*36/*41,*10x2+*36/*41',\n",
       " '*5/*41,*41/*41,*41/*41x2',\n",
       " '*10+*36x2/*10+*36x2,*10x4+*36/*10+*36,*10+*36/*10+*36x2',\n",
       " '*2/*10,*2/*10+*36,*2/*10+*36x2',\n",
       " '*1/*36,*1/*1,no_call',\n",
       " '*2/*10+*36,*2/*10x2,*2x2/*10',\n",
       " '*1/*41,*39/*41,*2/*119',\n",
       " '*1/*35,*35/*86,no_call',\n",
       " '*10+*36/*10+*36,*10/*10+*36,*10/*10x3',\n",
       " '*10/*10+*36,*10+*36/*36,*10/*36x2',\n",
       " '*1/*10,*1/*10+*36,*1/*10+*36x2',\n",
       " '*10+*36x2/*10+*36x2,*10x3+*36/*10+*36,no_call',\n",
       " '*10/*10+*36,*10+*36/*10+*36,*10+*36/*10+*36x2',\n",
       " '*39/*69,*10/*41,*36/*41',\n",
       " '*2/*10,*2/*10+*36,*2/*10x2+*36',\n",
       " '*1/*41,*41+*83/*67,*34/*119',\n",
       " '*10+*36/*41,*13/*36,no_call',\n",
       " '*5/*10+*36,*36/*36,*10/*36',\n",
       " '*10+*36/*14,*2+*10+*36/*14+*68,*2/*10+*36',\n",
       " '*10/*10,*10/*10+*36,*10/*10x2+*36',\n",
       " '*10+*36/*10+*36,*10x2+*36/*10+*36,*10/*10+*36',\n",
       " '*1/*13,*1/*2,*1/*2x2',\n",
       " '*10/*10,*10/*10+*36,*10/*10x2+*36',\n",
       " '*5/*35,*1/*35,*1/*35x2',\n",
       " '*10/*10+*36,*10+*36/*36,*10/*36',\n",
       " '*1/*10+*36,*1+*39/*36,no_call',\n",
       " '*2/*10+*36,*10+*68/*10+*14+*36,*10+*36/*14',\n",
       " '*1/*43,*43/*86,no_call',\n",
       " '*2/*10,*2/*10+*36,*2/*10x2+*36',\n",
       " '*10+*36/*10+*36x2,*10x2+*36/*10+*36,*10+*36/*10+*36',\n",
       " '*10+*36x2/*132,*10+*36/*36+*132,*10/*10x3',\n",
       " '*1/*10+*36,*1/*10,no_call',\n",
       " '*1/*10,*13/*36,*1/*10x2+*36',\n",
       " '*2/*10,*2/*10+*36,*2/*10x2+*36',\n",
       " '*1/*10+*36x2,*1x2/*36x2,no_call',\n",
       " '*21/*36,*2/*36,*2/*10',\n",
       " '*10/*10+*36,*10+*36/*36,*10/*36x2',\n",
       " '*10/*10+*36,*10+*36/*10+*36,*10+*36/*10+*36x2',\n",
       " '*10/*10+*36,*10+*36/*10+*36,*10+*36/*10x2+*36',\n",
       " '*10/*41,*10+*36/*41,*10+*36x2/*41',\n",
       " '*10/*10,*10/*10+*36,*10/*10x3',\n",
       " '*5/*5,*1/*5,no_call',\n",
       " '*1/*14,*1/*63,no_call',\n",
       " '*5/*10+*36,*10/*10,*10/*36',\n",
       " '*1/*10,*1/*10+*36,*1/*10x2+*36',\n",
       " '*2/*10+*36,*2/*36+*39,*2x2/*10',\n",
       " '*10x2/*10+*36,*10+*36/*10+*36,*10/*36x2',\n",
       " '*10+*36/*10+*36,*10x2+*36/*10+*36,*10/*10+*36',\n",
       " '*21/*31,*2/*21,*2/*2',\n",
       " '*10+*36/*41,*10+*36+*68/*41+*65,*2/*10+*36',\n",
       " '*2/*10+*36,*10x2/*63,*10+*36/*39',\n",
       " '*1/*10+*36,*1+*10/*10+*36+*68,no_call',\n",
       " '*5/*10+*36,*36/*36,*10/*36',\n",
       " '*5/*10+*36,*36/*36,*10/*36',\n",
       " '*5/*10+*36,*36/*36,*10/*36',\n",
       " '*10/*10+*36x2+*83,*10x2/*10+*36+*83,*10+*36x2/*39',\n",
       " '*1/*5,*1/*1,*1/*1x2',\n",
       " '*1/*10+*36,*36x2/*39,*1/*36x2',\n",
       " '*1/*41,*13/*63,*34/*119',\n",
       " '*2/*36x2,*10+*36/*63,*2/*10',\n",
       " '*1/*10,*1/*10+*36,*1/*10x2+*36',\n",
       " '*10+*36/*10+*36x2,*10x2+*36/*10+*36,*10/*10x3',\n",
       " '*10/*113,*10+*36/*113,*10x2+*36/*113',\n",
       " '*10/*10,*10/*10+*36,*10+*36/*10+*36',\n",
       " '*2/*75,*1/*2,*1/*34',\n",
       " '*2/*10+*36x2,*2+*36/*10+*36,*10+*36x2/*39',\n",
       " '*10/*10+*36,*10+*36/*36,*10/*36x2',\n",
       " '*10/*10,*10/*10+*36,*10/*10x2+*36',\n",
       " '*2/*4+*68,no_call,*2/*4',\n",
       " '*10+*36/*10+*36,*10+*36/*36,*10/*10+*36',\n",
       " '*13/*34,*1/*2,*1/*2x2',\n",
       " '*1/*10+*36x2,*1+*36/*10+*36,*1/*10x3',\n",
       " '*10/*10+*36,*10+*36/*36,*10/*36x2',\n",
       " '*1/*41,*41/*83,no_call',\n",
       " '*1/*10+*36x2,*1+*36/*10+*36,no_call',\n",
       " '*10+*36x2/*21,*10+*36/*21+*36,*2/*10+*36',\n",
       " '*10/*10,*10/*10+*36,*10+*36/*10+*36',\n",
       " '*10+*36x2/*41,*10+*36/*36+*41,*39/*69x2',\n",
       " '*10/*10,*10/*10+*36,*10/*10x2+*36',\n",
       " '*5/*10+*36,*10/*10+*36,*10+*36/*10+*36',\n",
       " '*1/*10+*36x2,*1+*36/*10+*36,*1/*10+*36',\n",
       " '*10+*36/*10+*36x2,*10x3+*36/*10+*36,*10+*36/*10+*36',\n",
       " '*10+*36/*10+*36,*10x2+*36/*10+*36,*10/*10+*36',\n",
       " '*5/*10+*36,*10/*36,*10/*10',\n",
       " '*5/*10+*36,*10+*36/*68,*10/*36',\n",
       " '*1/*10,*1/*10+*36,*1/*10+*36x2',\n",
       " '*35/*49,*39/*49,no_call',\n",
       " '*10+*36/*10+*36x2,*10x2+*36/*10+*36,*10/*10x3',\n",
       " '*10+*36/*10+*36,*10x2+*36/*10+*36,*10/*10x2',\n",
       " '*1/*2,*1+*63/*2,*1/*34',\n",
       " '*10+*36/*10+*36x2,*10x2+*36/*10+*36,*10+*36/*10+*36',\n",
       " '*1/*10x2,*1/*10+*36,no_call',\n",
       " '*10+*36/*36x2,*10+*36/*10+*36,*10/*10x3',\n",
       " '*10+*36/*36x2,*10+*36/*10+*36,*10/*36x2',\n",
       " '*1/*2,*1/*63,*1/*34',\n",
       " '*1/*10,*1/*10+*36,*1/*10x2+*36',\n",
       " '*10+*36/*10+*36x2,*10x2+*36/*10+*36,*10/*10x3',\n",
       " '*10+*36/*41,*10+*36/*119,*39/*69x2',\n",
       " '*10+*36/*10+*36,*10x2+*36/*10+*36,*10/*10+*36',\n",
       " '*10+*36/*10+*36x2,*10x2+*36/*10+*36,*10+*36/*10+*36',\n",
       " '*10/*10,*10/*10+*36,*10+*36/*10+*36',\n",
       " '*5/*10+*36,*10/*36,*10/*10']"
      ]
     },
     "execution_count": 22,
     "metadata": {},
     "output_type": "execute_result"
    }
   ],
   "source": [
    "# Cyrius call\n",
    "no_consensus_df[no_consensus_df[\"cyrius\"] != \"no_call\"][[\"cyrius\", \"aldy\", \"stellarpgx\"]].to_csv(index=False).split()"
   ]
  }
 ],
 "metadata": {
  "interpreter": {
   "hash": "b5b955d98a984774b329488fa6ec1e96bc983552e1b0cf177cdc63f1afde6ddf"
  },
  "kernelspec": {
   "display_name": "Python 3 (ipykernel)",
   "language": "python",
   "name": "python3"
  },
  "language_info": {
   "codemirror_mode": {
    "name": "ipython",
    "version": 3
   },
   "file_extension": ".py",
   "mimetype": "text/x-python",
   "name": "python",
   "nbconvert_exporter": "python",
   "pygments_lexer": "ipython3",
   "version": "3.9.12"
  }
 },
 "nbformat": 4,
 "nbformat_minor": 4
}
