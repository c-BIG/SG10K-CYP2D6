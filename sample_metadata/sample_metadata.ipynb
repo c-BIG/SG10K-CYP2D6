{
 "cells": [
  {
   "cell_type": "markdown",
   "id": "residential-politics",
   "metadata": {},
   "source": [
    "# Set up"
   ]
  },
  {
   "cell_type": "code",
   "execution_count": 1,
   "id": "broken-newman",
   "metadata": {
    "ExecuteTime": {
     "end_time": "2021-07-22T05:46:37.079608Z",
     "start_time": "2021-07-22T05:46:36.001Z"
    }
   },
   "outputs": [
    {
     "name": "stderr",
     "output_type": "stream",
     "text": [
      "── \u001b[1mAttaching packages\u001b[22m ─────────────────────────────────────── tidyverse 1.3.0 ──\n",
      "\n",
      "\u001b[32m✔\u001b[39m \u001b[34mggplot2\u001b[39m 3.3.3     \u001b[32m✔\u001b[39m \u001b[34mpurrr  \u001b[39m 0.3.4\n",
      "\u001b[32m✔\u001b[39m \u001b[34mtibble \u001b[39m 3.0.4     \u001b[32m✔\u001b[39m \u001b[34mdplyr  \u001b[39m 1.0.2\n",
      "\u001b[32m✔\u001b[39m \u001b[34mtidyr  \u001b[39m 1.1.2     \u001b[32m✔\u001b[39m \u001b[34mstringr\u001b[39m 1.4.0\n",
      "\u001b[32m✔\u001b[39m \u001b[34mreadr  \u001b[39m 1.4.0     \u001b[32m✔\u001b[39m \u001b[34mforcats\u001b[39m 0.5.0\n",
      "\n",
      "── \u001b[1mConflicts\u001b[22m ────────────────────────────────────────── tidyverse_conflicts() ──\n",
      "\u001b[31m✖\u001b[39m \u001b[34mdplyr\u001b[39m::\u001b[32mfilter()\u001b[39m masks \u001b[34mstats\u001b[39m::filter()\n",
      "\u001b[31m✖\u001b[39m \u001b[34mdplyr\u001b[39m::\u001b[32mlag()\u001b[39m    masks \u001b[34mstats\u001b[39m::lag()\n",
      "\n",
      "\n",
      "Attaching package: ‘janitor’\n",
      "\n",
      "\n",
      "The following objects are masked from ‘package:stats’:\n",
      "\n",
      "    chisq.test, fisher.test\n",
      "\n",
      "\n"
     ]
    }
   ],
   "source": [
    "library(\"tidyverse\")\n",
    "library(\"janitor\")"
   ]
  },
  {
   "cell_type": "markdown",
   "id": "pressing-treatment",
   "metadata": {},
   "source": [
    "# Load data"
   ]
  },
  {
   "cell_type": "code",
   "execution_count": 2,
   "id": "disturbed-contamination",
   "metadata": {
    "ExecuteTime": {
     "end_time": "2021-07-22T05:46:37.315522Z",
     "start_time": "2021-07-22T05:46:36.005Z"
    }
   },
   "outputs": [
    {
     "data": {
      "text/html": [
       "<table>\n",
       "<caption>A tibble: 6 × 14</caption>\n",
       "<thead>\n",
       "\t<tr><th scope=col>npm_research_id</th><th scope=col>multiplex_pool_id</th><th scope=col>supplier_id</th><th scope=col>site_supplying_sample</th><th scope=col>supplied_gender</th><th scope=col>genetic_sex</th><th scope=col>self_reported_ethnicity</th><th scope=col>genetic_ancestry</th><th scope=col>extraction_kit</th><th scope=col>library_prep_kit</th><th scope=col>sequencing_depth</th><th scope=col>estimate_of_sequence_coverage</th><th scope=col>qc_pass_in_r5_3</th><th scope=col>industry_consent</th></tr>\n",
       "\t<tr><th scope=col>&lt;chr&gt;</th><th scope=col>&lt;chr&gt;</th><th scope=col>&lt;chr&gt;</th><th scope=col>&lt;chr&gt;</th><th scope=col>&lt;chr&gt;</th><th scope=col>&lt;chr&gt;</th><th scope=col>&lt;chr&gt;</th><th scope=col>&lt;chr&gt;</th><th scope=col>&lt;chr&gt;</th><th scope=col>&lt;chr&gt;</th><th scope=col>&lt;chr&gt;</th><th scope=col>&lt;dbl&gt;</th><th scope=col>&lt;lgl&gt;</th><th scope=col>&lt;lgl&gt;</th></tr>\n",
       "</thead>\n",
       "<tbody>\n",
       "\t<tr><td>FAILED00365</td><td>NA</td><td>00365</td><td>HELIOS</td><td>M</td><td>NA</td><td>Chinese</td><td>NA</td><td>abGENIX Whole Blood Genomic DNA Extraction Kit</td><td>NEBNext UltraII DNA library Prep Kit for Illumina</td><td>15x</td><td>NA</td><td>FALSE</td><td>TRUE</td></tr>\n",
       "\t<tr><td>FAILED01615</td><td>NA</td><td>01615</td><td>HELIOS</td><td>F</td><td>NA</td><td>Chinese</td><td>NA</td><td>abGENIX Whole Blood Genomic DNA Extraction Kit</td><td>NEBNext UltraII DNA library Prep Kit for Illumina</td><td>15x</td><td>NA</td><td>FALSE</td><td>TRUE</td></tr>\n",
       "\t<tr><td>FAILED01688</td><td>NA</td><td>01688</td><td>HELIOS</td><td>F</td><td>NA</td><td>Others </td><td>NA</td><td>abGENIX Whole Blood Genomic DNA Extraction Kit</td><td>NEBNext UltraII DNA library Prep Kit for Illumina</td><td>15x</td><td>NA</td><td>FALSE</td><td>TRUE</td></tr>\n",
       "\t<tr><td>FAILED01750</td><td>NA</td><td>01750</td><td>HELIOS</td><td>F</td><td>NA</td><td>Chinese</td><td>NA</td><td>abGENIX Whole Blood Genomic DNA Extraction Kit</td><td>NEBNext UltraII DNA library Prep Kit for Illumina</td><td>15x</td><td>NA</td><td>FALSE</td><td>TRUE</td></tr>\n",
       "\t<tr><td>FAILED01799</td><td>NA</td><td>01799</td><td>HELIOS</td><td>F</td><td>NA</td><td>Chinese</td><td>NA</td><td>abGENIX Whole Blood Genomic DNA Extraction Kit</td><td>NEBNext UltraII DNA library Prep Kit for Illumina</td><td>15x</td><td>NA</td><td>FALSE</td><td>TRUE</td></tr>\n",
       "\t<tr><td>FAILED02755</td><td>NA</td><td>02755</td><td>HELIOS</td><td>F</td><td>NA</td><td>Chinese</td><td>NA</td><td>abGENIX Whole Blood Genomic DNA Extraction Kit</td><td>NEBNext UltraII DNA library Prep Kit for Illumina</td><td>15x</td><td>NA</td><td>FALSE</td><td>TRUE</td></tr>\n",
       "</tbody>\n",
       "</table>\n"
      ],
      "text/latex": [
       "A tibble: 6 × 14\n",
       "\\begin{tabular}{llllllllllllll}\n",
       " npm\\_research\\_id & multiplex\\_pool\\_id & supplier\\_id & site\\_supplying\\_sample & supplied\\_gender & genetic\\_sex & self\\_reported\\_ethnicity & genetic\\_ancestry & extraction\\_kit & library\\_prep\\_kit & sequencing\\_depth & estimate\\_of\\_sequence\\_coverage & qc\\_pass\\_in\\_r5\\_3 & industry\\_consent\\\\\n",
       " <chr> & <chr> & <chr> & <chr> & <chr> & <chr> & <chr> & <chr> & <chr> & <chr> & <chr> & <dbl> & <lgl> & <lgl>\\\\\n",
       "\\hline\n",
       "\t FAILED00365 & NA & 00365 & HELIOS & M & NA & Chinese & NA & abGENIX Whole Blood Genomic DNA Extraction Kit & NEBNext UltraII DNA library Prep Kit for Illumina & 15x & NA & FALSE & TRUE\\\\\n",
       "\t FAILED01615 & NA & 01615 & HELIOS & F & NA & Chinese & NA & abGENIX Whole Blood Genomic DNA Extraction Kit & NEBNext UltraII DNA library Prep Kit for Illumina & 15x & NA & FALSE & TRUE\\\\\n",
       "\t FAILED01688 & NA & 01688 & HELIOS & F & NA & Others  & NA & abGENIX Whole Blood Genomic DNA Extraction Kit & NEBNext UltraII DNA library Prep Kit for Illumina & 15x & NA & FALSE & TRUE\\\\\n",
       "\t FAILED01750 & NA & 01750 & HELIOS & F & NA & Chinese & NA & abGENIX Whole Blood Genomic DNA Extraction Kit & NEBNext UltraII DNA library Prep Kit for Illumina & 15x & NA & FALSE & TRUE\\\\\n",
       "\t FAILED01799 & NA & 01799 & HELIOS & F & NA & Chinese & NA & abGENIX Whole Blood Genomic DNA Extraction Kit & NEBNext UltraII DNA library Prep Kit for Illumina & 15x & NA & FALSE & TRUE\\\\\n",
       "\t FAILED02755 & NA & 02755 & HELIOS & F & NA & Chinese & NA & abGENIX Whole Blood Genomic DNA Extraction Kit & NEBNext UltraII DNA library Prep Kit for Illumina & 15x & NA & FALSE & TRUE\\\\\n",
       "\\end{tabular}\n"
      ],
      "text/markdown": [
       "\n",
       "A tibble: 6 × 14\n",
       "\n",
       "| npm_research_id &lt;chr&gt; | multiplex_pool_id &lt;chr&gt; | supplier_id &lt;chr&gt; | site_supplying_sample &lt;chr&gt; | supplied_gender &lt;chr&gt; | genetic_sex &lt;chr&gt; | self_reported_ethnicity &lt;chr&gt; | genetic_ancestry &lt;chr&gt; | extraction_kit &lt;chr&gt; | library_prep_kit &lt;chr&gt; | sequencing_depth &lt;chr&gt; | estimate_of_sequence_coverage &lt;dbl&gt; | qc_pass_in_r5_3 &lt;lgl&gt; | industry_consent &lt;lgl&gt; |\n",
       "|---|---|---|---|---|---|---|---|---|---|---|---|---|---|\n",
       "| FAILED00365 | NA | 00365 | HELIOS | M | NA | Chinese | NA | abGENIX Whole Blood Genomic DNA Extraction Kit | NEBNext UltraII DNA library Prep Kit for Illumina | 15x | NA | FALSE | TRUE |\n",
       "| FAILED01615 | NA | 01615 | HELIOS | F | NA | Chinese | NA | abGENIX Whole Blood Genomic DNA Extraction Kit | NEBNext UltraII DNA library Prep Kit for Illumina | 15x | NA | FALSE | TRUE |\n",
       "| FAILED01688 | NA | 01688 | HELIOS | F | NA | Others  | NA | abGENIX Whole Blood Genomic DNA Extraction Kit | NEBNext UltraII DNA library Prep Kit for Illumina | 15x | NA | FALSE | TRUE |\n",
       "| FAILED01750 | NA | 01750 | HELIOS | F | NA | Chinese | NA | abGENIX Whole Blood Genomic DNA Extraction Kit | NEBNext UltraII DNA library Prep Kit for Illumina | 15x | NA | FALSE | TRUE |\n",
       "| FAILED01799 | NA | 01799 | HELIOS | F | NA | Chinese | NA | abGENIX Whole Blood Genomic DNA Extraction Kit | NEBNext UltraII DNA library Prep Kit for Illumina | 15x | NA | FALSE | TRUE |\n",
       "| FAILED02755 | NA | 02755 | HELIOS | F | NA | Chinese | NA | abGENIX Whole Blood Genomic DNA Extraction Kit | NEBNext UltraII DNA library Prep Kit for Illumina | 15x | NA | FALSE | TRUE |\n",
       "\n"
      ],
      "text/plain": [
       "  npm_research_id multiplex_pool_id supplier_id site_supplying_sample\n",
       "1 FAILED00365     NA                00365       HELIOS               \n",
       "2 FAILED01615     NA                01615       HELIOS               \n",
       "3 FAILED01688     NA                01688       HELIOS               \n",
       "4 FAILED01750     NA                01750       HELIOS               \n",
       "5 FAILED01799     NA                01799       HELIOS               \n",
       "6 FAILED02755     NA                02755       HELIOS               \n",
       "  supplied_gender genetic_sex self_reported_ethnicity genetic_ancestry\n",
       "1 M               NA          Chinese                 NA              \n",
       "2 F               NA          Chinese                 NA              \n",
       "3 F               NA          Others                  NA              \n",
       "4 F               NA          Chinese                 NA              \n",
       "5 F               NA          Chinese                 NA              \n",
       "6 F               NA          Chinese                 NA              \n",
       "  extraction_kit                                \n",
       "1 abGENIX Whole Blood Genomic DNA Extraction Kit\n",
       "2 abGENIX Whole Blood Genomic DNA Extraction Kit\n",
       "3 abGENIX Whole Blood Genomic DNA Extraction Kit\n",
       "4 abGENIX Whole Blood Genomic DNA Extraction Kit\n",
       "5 abGENIX Whole Blood Genomic DNA Extraction Kit\n",
       "6 abGENIX Whole Blood Genomic DNA Extraction Kit\n",
       "  library_prep_kit                                  sequencing_depth\n",
       "1 NEBNext UltraII DNA library Prep Kit for Illumina 15x             \n",
       "2 NEBNext UltraII DNA library Prep Kit for Illumina 15x             \n",
       "3 NEBNext UltraII DNA library Prep Kit for Illumina 15x             \n",
       "4 NEBNext UltraII DNA library Prep Kit for Illumina 15x             \n",
       "5 NEBNext UltraII DNA library Prep Kit for Illumina 15x             \n",
       "6 NEBNext UltraII DNA library Prep Kit for Illumina 15x             \n",
       "  estimate_of_sequence_coverage qc_pass_in_r5_3 industry_consent\n",
       "1 NA                            FALSE           TRUE            \n",
       "2 NA                            FALSE           TRUE            \n",
       "3 NA                            FALSE           TRUE            \n",
       "4 NA                            FALSE           TRUE            \n",
       "5 NA                            FALSE           TRUE            \n",
       "6 NA                            FALSE           TRUE            "
      ]
     },
     "metadata": {},
     "output_type": "display_data"
    },
    {
     "data": {
      "text/html": [
       "<style>\n",
       ".list-inline {list-style: none; margin:0; padding: 0}\n",
       ".list-inline>li {display: inline-block}\n",
       ".list-inline>li:not(:last-child)::after {content: \"\\00b7\"; padding: 0 .5ex}\n",
       "</style>\n",
       "<ol class=list-inline><li>10714</li><li>14</li></ol>\n"
      ],
      "text/latex": [
       "\\begin{enumerate*}\n",
       "\\item 10714\n",
       "\\item 14\n",
       "\\end{enumerate*}\n"
      ],
      "text/markdown": [
       "1. 10714\n",
       "2. 14\n",
       "\n",
       "\n"
      ],
      "text/plain": [
       "[1] 10714    14"
      ]
     },
     "metadata": {},
     "output_type": "display_data"
    }
   ],
   "source": [
    "in_csv = \"/data/SG10K-DRAGEN/s3/sg10k-dragen/pilot/select_samples/SG10K-DRAGEN.sample_list_full.20210719.csv\"\n",
    "sample_list = read_csv(in_csv, col_types = cols()) %>% \n",
    "clean_names\n",
    "\n",
    "sample_list %>% head\n",
    "sample_list %>% dim"
   ]
  },
  {
   "cell_type": "code",
   "execution_count": 3,
   "id": "instrumental-monday",
   "metadata": {
    "ExecuteTime": {
     "end_time": "2021-07-22T05:46:37.343180Z",
     "start_time": "2021-07-22T05:46:36.007Z"
    }
   },
   "outputs": [],
   "source": [
    "sel_samples = sample_list %>% \n",
    "filter(qc_pass_in_r5_3 == TRUE) %>% \n",
    "filter(industry_consent == TRUE) %>% \n",
    "filter(sequencing_depth == \"30x\")"
   ]
  },
  {
   "cell_type": "code",
   "execution_count": null,
   "id": "funny-sweden",
   "metadata": {
    "ExecuteTime": {
     "end_time": "2021-07-22T04:59:38.661969Z",
     "start_time": "2021-07-22T04:59:38.502Z"
    }
   },
   "outputs": [],
   "source": []
  },
  {
   "cell_type": "code",
   "execution_count": 4,
   "id": "virtual-promise",
   "metadata": {
    "ExecuteTime": {
     "end_time": "2021-07-22T05:46:37.411031Z",
     "start_time": "2021-07-22T05:46:36.010Z"
    }
   },
   "outputs": [
    {
     "name": "stderr",
     "output_type": "stream",
     "text": [
      "`summarise()` regrouping output by 'genetic_ancestry' (override with `.groups` argument)\n",
      "\n"
     ]
    },
    {
     "data": {
      "text/html": [
       "<table>\n",
       "<caption>A tabyl: 3 × 5</caption>\n",
       "<thead>\n",
       "\t<tr><th scope=col>site_supplying_sample</th><th scope=col>C</th><th scope=col>I</th><th scope=col>M</th><th scope=col>Total</th></tr>\n",
       "\t<tr><th scope=col>&lt;chr&gt;</th><th scope=col>&lt;int&gt;</th><th scope=col>&lt;int&gt;</th><th scope=col>&lt;int&gt;</th><th scope=col>&lt;dbl&gt;</th></tr>\n",
       "</thead>\n",
       "<tbody>\n",
       "\t<tr><td>GUSTO_Kids</td><td>572</td><td>161</td><td>236</td><td> 969</td></tr>\n",
       "\t<tr><td>SE ASIAN  </td><td>  3</td><td> NA</td><td> 60</td><td>  63</td></tr>\n",
       "\t<tr><td>Total     </td><td>575</td><td>161</td><td>296</td><td>1032</td></tr>\n",
       "</tbody>\n",
       "</table>\n"
      ],
      "text/latex": [
       "A tabyl: 3 × 5\n",
       "\\begin{tabular}{lllll}\n",
       " site\\_supplying\\_sample & C & I & M & Total\\\\\n",
       " <chr> & <int> & <int> & <int> & <dbl>\\\\\n",
       "\\hline\n",
       "\t GUSTO\\_Kids & 572 & 161 & 236 &  969\\\\\n",
       "\t SE ASIAN   &   3 &  NA &  60 &   63\\\\\n",
       "\t Total      & 575 & 161 & 296 & 1032\\\\\n",
       "\\end{tabular}\n"
      ],
      "text/markdown": [
       "\n",
       "A tabyl: 3 × 5\n",
       "\n",
       "| site_supplying_sample &lt;chr&gt; | C &lt;int&gt; | I &lt;int&gt; | M &lt;int&gt; | Total &lt;dbl&gt; |\n",
       "|---|---|---|---|---|\n",
       "| GUSTO_Kids | 572 | 161 | 236 |  969 |\n",
       "| SE ASIAN   |   3 |  NA |  60 |   63 |\n",
       "| Total      | 575 | 161 | 296 | 1032 |\n",
       "\n"
      ],
      "text/plain": [
       "  site_supplying_sample C   I   M   Total\n",
       "1 GUSTO_Kids            572 161 236  969 \n",
       "2 SE ASIAN                3  NA  60   63 \n",
       "3 Total                 575 161 296 1032 "
      ]
     },
     "metadata": {},
     "output_type": "display_data"
    }
   ],
   "source": [
    "sel_samples %>% \n",
    "group_by(genetic_ancestry, site_supplying_sample) %>% \n",
    "summarise(n = n()) %>% \n",
    "spread(genetic_ancestry, n) %>% \n",
    "adorn_totals(where = \"both\")"
   ]
  },
  {
   "cell_type": "code",
   "execution_count": 5,
   "id": "ranking-guatemala",
   "metadata": {
    "ExecuteTime": {
     "end_time": "2021-07-22T05:46:37.462374Z",
     "start_time": "2021-07-22T05:46:36.013Z"
    }
   },
   "outputs": [
    {
     "name": "stderr",
     "output_type": "stream",
     "text": [
      "`summarise()` ungrouping output (override with `.groups` argument)\n",
      "\n"
     ]
    },
    {
     "data": {
      "text/html": [
       "<table>\n",
       "<caption>A tibble: 2 × 2</caption>\n",
       "<thead>\n",
       "\t<tr><th scope=col>library_prep_kit</th><th scope=col>n</th></tr>\n",
       "\t<tr><th scope=col>&lt;chr&gt;</th><th scope=col>&lt;int&gt;</th></tr>\n",
       "</thead>\n",
       "<tbody>\n",
       "\t<tr><td>NEBNext UltraII DNA library Prep Kit for Illumina</td><td>969</td></tr>\n",
       "\t<tr><td>Unknown                                          </td><td> 63</td></tr>\n",
       "</tbody>\n",
       "</table>\n"
      ],
      "text/latex": [
       "A tibble: 2 × 2\n",
       "\\begin{tabular}{ll}\n",
       " library\\_prep\\_kit & n\\\\\n",
       " <chr> & <int>\\\\\n",
       "\\hline\n",
       "\t NEBNext UltraII DNA library Prep Kit for Illumina & 969\\\\\n",
       "\t Unknown                                           &  63\\\\\n",
       "\\end{tabular}\n"
      ],
      "text/markdown": [
       "\n",
       "A tibble: 2 × 2\n",
       "\n",
       "| library_prep_kit &lt;chr&gt; | n &lt;int&gt; |\n",
       "|---|---|\n",
       "| NEBNext UltraII DNA library Prep Kit for Illumina | 969 |\n",
       "| Unknown                                           |  63 |\n",
       "\n"
      ],
      "text/plain": [
       "  library_prep_kit                                  n  \n",
       "1 NEBNext UltraII DNA library Prep Kit for Illumina 969\n",
       "2 Unknown                                            63"
      ]
     },
     "metadata": {},
     "output_type": "display_data"
    },
    {
     "data": {
      "text/html": [
       "<table>\n",
       "<caption>A tibble: 6 × 14</caption>\n",
       "<thead>\n",
       "\t<tr><th scope=col>npm_research_id</th><th scope=col>multiplex_pool_id</th><th scope=col>supplier_id</th><th scope=col>site_supplying_sample</th><th scope=col>supplied_gender</th><th scope=col>genetic_sex</th><th scope=col>self_reported_ethnicity</th><th scope=col>genetic_ancestry</th><th scope=col>extraction_kit</th><th scope=col>library_prep_kit</th><th scope=col>sequencing_depth</th><th scope=col>estimate_of_sequence_coverage</th><th scope=col>qc_pass_in_r5_3</th><th scope=col>industry_consent</th></tr>\n",
       "\t<tr><th scope=col>&lt;chr&gt;</th><th scope=col>&lt;chr&gt;</th><th scope=col>&lt;chr&gt;</th><th scope=col>&lt;chr&gt;</th><th scope=col>&lt;chr&gt;</th><th scope=col>&lt;chr&gt;</th><th scope=col>&lt;chr&gt;</th><th scope=col>&lt;chr&gt;</th><th scope=col>&lt;chr&gt;</th><th scope=col>&lt;chr&gt;</th><th scope=col>&lt;chr&gt;</th><th scope=col>&lt;dbl&gt;</th><th scope=col>&lt;lgl&gt;</th><th scope=col>&lt;lgl&gt;</th></tr>\n",
       "</thead>\n",
       "<tbody>\n",
       "\t<tr><td>SSM002</td><td>NA</td><td>SSM002</td><td>SE ASIAN</td><td>F</td><td>female</td><td>Malay</td><td>M</td><td>Unknown</td><td>Unknown</td><td>30x</td><td>44.40143</td><td>TRUE</td><td>TRUE</td></tr>\n",
       "\t<tr><td>SSM003</td><td>NA</td><td>SSM003</td><td>SE ASIAN</td><td>M</td><td>male  </td><td>Malay</td><td>M</td><td>Unknown</td><td>Unknown</td><td>30x</td><td>47.47151</td><td>TRUE</td><td>TRUE</td></tr>\n",
       "\t<tr><td>SSM004</td><td>NA</td><td>SSM004</td><td>SE ASIAN</td><td>F</td><td>female</td><td>Malay</td><td>M</td><td>Unknown</td><td>Unknown</td><td>30x</td><td>51.96134</td><td>TRUE</td><td>TRUE</td></tr>\n",
       "\t<tr><td>SSM007</td><td>NA</td><td>SSM007</td><td>SE ASIAN</td><td>F</td><td>female</td><td>Malay</td><td>M</td><td>Unknown</td><td>Unknown</td><td>30x</td><td>53.34756</td><td>TRUE</td><td>TRUE</td></tr>\n",
       "\t<tr><td>SSM009</td><td>NA</td><td>SSM009</td><td>SE ASIAN</td><td>F</td><td>female</td><td>Malay</td><td>M</td><td>Unknown</td><td>Unknown</td><td>30x</td><td>53.65297</td><td>TRUE</td><td>TRUE</td></tr>\n",
       "\t<tr><td>SSM010</td><td>NA</td><td>SSM010</td><td>SE ASIAN</td><td>F</td><td>female</td><td>Malay</td><td>M</td><td>Unknown</td><td>Unknown</td><td>30x</td><td>42.95423</td><td>TRUE</td><td>TRUE</td></tr>\n",
       "</tbody>\n",
       "</table>\n"
      ],
      "text/latex": [
       "A tibble: 6 × 14\n",
       "\\begin{tabular}{llllllllllllll}\n",
       " npm\\_research\\_id & multiplex\\_pool\\_id & supplier\\_id & site\\_supplying\\_sample & supplied\\_gender & genetic\\_sex & self\\_reported\\_ethnicity & genetic\\_ancestry & extraction\\_kit & library\\_prep\\_kit & sequencing\\_depth & estimate\\_of\\_sequence\\_coverage & qc\\_pass\\_in\\_r5\\_3 & industry\\_consent\\\\\n",
       " <chr> & <chr> & <chr> & <chr> & <chr> & <chr> & <chr> & <chr> & <chr> & <chr> & <chr> & <dbl> & <lgl> & <lgl>\\\\\n",
       "\\hline\n",
       "\t SSM002 & NA & SSM002 & SE ASIAN & F & female & Malay & M & Unknown & Unknown & 30x & 44.40143 & TRUE & TRUE\\\\\n",
       "\t SSM003 & NA & SSM003 & SE ASIAN & M & male   & Malay & M & Unknown & Unknown & 30x & 47.47151 & TRUE & TRUE\\\\\n",
       "\t SSM004 & NA & SSM004 & SE ASIAN & F & female & Malay & M & Unknown & Unknown & 30x & 51.96134 & TRUE & TRUE\\\\\n",
       "\t SSM007 & NA & SSM007 & SE ASIAN & F & female & Malay & M & Unknown & Unknown & 30x & 53.34756 & TRUE & TRUE\\\\\n",
       "\t SSM009 & NA & SSM009 & SE ASIAN & F & female & Malay & M & Unknown & Unknown & 30x & 53.65297 & TRUE & TRUE\\\\\n",
       "\t SSM010 & NA & SSM010 & SE ASIAN & F & female & Malay & M & Unknown & Unknown & 30x & 42.95423 & TRUE & TRUE\\\\\n",
       "\\end{tabular}\n"
      ],
      "text/markdown": [
       "\n",
       "A tibble: 6 × 14\n",
       "\n",
       "| npm_research_id &lt;chr&gt; | multiplex_pool_id &lt;chr&gt; | supplier_id &lt;chr&gt; | site_supplying_sample &lt;chr&gt; | supplied_gender &lt;chr&gt; | genetic_sex &lt;chr&gt; | self_reported_ethnicity &lt;chr&gt; | genetic_ancestry &lt;chr&gt; | extraction_kit &lt;chr&gt; | library_prep_kit &lt;chr&gt; | sequencing_depth &lt;chr&gt; | estimate_of_sequence_coverage &lt;dbl&gt; | qc_pass_in_r5_3 &lt;lgl&gt; | industry_consent &lt;lgl&gt; |\n",
       "|---|---|---|---|---|---|---|---|---|---|---|---|---|---|\n",
       "| SSM002 | NA | SSM002 | SE ASIAN | F | female | Malay | M | Unknown | Unknown | 30x | 44.40143 | TRUE | TRUE |\n",
       "| SSM003 | NA | SSM003 | SE ASIAN | M | male   | Malay | M | Unknown | Unknown | 30x | 47.47151 | TRUE | TRUE |\n",
       "| SSM004 | NA | SSM004 | SE ASIAN | F | female | Malay | M | Unknown | Unknown | 30x | 51.96134 | TRUE | TRUE |\n",
       "| SSM007 | NA | SSM007 | SE ASIAN | F | female | Malay | M | Unknown | Unknown | 30x | 53.34756 | TRUE | TRUE |\n",
       "| SSM009 | NA | SSM009 | SE ASIAN | F | female | Malay | M | Unknown | Unknown | 30x | 53.65297 | TRUE | TRUE |\n",
       "| SSM010 | NA | SSM010 | SE ASIAN | F | female | Malay | M | Unknown | Unknown | 30x | 42.95423 | TRUE | TRUE |\n",
       "\n"
      ],
      "text/plain": [
       "  npm_research_id multiplex_pool_id supplier_id site_supplying_sample\n",
       "1 SSM002          NA                SSM002      SE ASIAN             \n",
       "2 SSM003          NA                SSM003      SE ASIAN             \n",
       "3 SSM004          NA                SSM004      SE ASIAN             \n",
       "4 SSM007          NA                SSM007      SE ASIAN             \n",
       "5 SSM009          NA                SSM009      SE ASIAN             \n",
       "6 SSM010          NA                SSM010      SE ASIAN             \n",
       "  supplied_gender genetic_sex self_reported_ethnicity genetic_ancestry\n",
       "1 F               female      Malay                   M               \n",
       "2 M               male        Malay                   M               \n",
       "3 F               female      Malay                   M               \n",
       "4 F               female      Malay                   M               \n",
       "5 F               female      Malay                   M               \n",
       "6 F               female      Malay                   M               \n",
       "  extraction_kit library_prep_kit sequencing_depth\n",
       "1 Unknown        Unknown          30x             \n",
       "2 Unknown        Unknown          30x             \n",
       "3 Unknown        Unknown          30x             \n",
       "4 Unknown        Unknown          30x             \n",
       "5 Unknown        Unknown          30x             \n",
       "6 Unknown        Unknown          30x             \n",
       "  estimate_of_sequence_coverage qc_pass_in_r5_3 industry_consent\n",
       "1 44.40143                      TRUE            TRUE            \n",
       "2 47.47151                      TRUE            TRUE            \n",
       "3 51.96134                      TRUE            TRUE            \n",
       "4 53.34756                      TRUE            TRUE            \n",
       "5 53.65297                      TRUE            TRUE            \n",
       "6 42.95423                      TRUE            TRUE            "
      ]
     },
     "metadata": {},
     "output_type": "display_data"
    }
   ],
   "source": [
    "sel_samples %>% \n",
    "group_by(library_prep_kit) %>% \n",
    "summarise(n = n())\n",
    "\n",
    "sel_samples %>% \n",
    "filter(library_prep_kit == \"Unknown\") %>% \n",
    "head"
   ]
  },
  {
   "cell_type": "code",
   "execution_count": 6,
   "id": "reasonable-recycling",
   "metadata": {
    "ExecuteTime": {
     "end_time": "2021-07-22T05:46:37.482932Z",
     "start_time": "2021-07-22T05:46:36.014Z"
    }
   },
   "outputs": [],
   "source": [
    "out_csv = \"/home/jupyter-mgonzalezporta/workspace/data/SG10K-CYP2D6/s3/sg10k-cyp2d6/metadata/SG10K-CYP2D6.sample_list.20210722.csv\"\n",
    "write_csv(sel_samples, file = out_csv)"
   ]
  },
  {
   "cell_type": "code",
   "execution_count": null,
   "id": "killing-tomato",
   "metadata": {},
   "outputs": [],
   "source": []
  }
 ],
 "metadata": {
  "kernelspec": {
   "display_name": "R 3.6.1",
   "language": "R",
   "name": "ir361"
  },
  "language_info": {
   "codemirror_mode": "r",
   "file_extension": ".r",
   "mimetype": "text/x-r-source",
   "name": "R",
   "pygments_lexer": "r",
   "version": "3.6.1"
  },
  "toc": {
   "base_numbering": 1,
   "nav_menu": {},
   "number_sections": true,
   "sideBar": true,
   "skip_h1_title": false,
   "title_cell": "Table of Contents",
   "title_sidebar": "Contents",
   "toc_cell": false,
   "toc_position": {},
   "toc_section_display": true,
   "toc_window_display": false
  }
 },
 "nbformat": 4,
 "nbformat_minor": 5
}
