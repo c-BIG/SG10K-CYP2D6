{
 "cells": [
  {
   "cell_type": "code",
   "execution_count": 1,
   "metadata": {},
   "outputs": [],
   "source": [
    "import pandas as pd\n",
    "import numpy as np\n",
    "from pathlib import Path\n"
   ]
  },
  {
   "attachments": {},
   "cell_type": "markdown",
   "metadata": {},
   "source": [
    "# Load consensus_df and PharmGKB reference"
   ]
  },
  {
   "cell_type": "code",
   "execution_count": 2,
   "metadata": {},
   "outputs": [],
   "source": [
    "consensus_df = pd.read_parquet(\"output/2_consensus.parquet\")\n",
    "# PharmGKB data\n",
    "pgkb = pd.read_csv(\"/home/jupyter-yusuf/Consensus/data_viz/References/pgkb_haplotype_function.tsv\", sep = \"\\t\", dtype = {'activity_value': 'float64'})\n"
   ]
  },
  {
   "attachments": {},
   "cell_type": "markdown",
   "metadata": {},
   "source": [
    "# Filter out potentially novel alleles, drop samples with no diplotype consensus and drop no_call"
   ]
  },
  {
   "cell_type": "code",
   "execution_count": 3,
   "metadata": {},
   "outputs": [
    {
     "data": {
      "text/plain": [
       "1487"
      ]
     },
     "execution_count": 3,
     "metadata": {},
     "output_type": "execute_result"
    }
   ],
   "source": [
    "# Still keeping the novel alleles if they passed the threshold\n",
    "# [consensus_df[\"novel_allele\"].apply(lambda x: len(x) == 0)]\n",
    "filt_df = (\n",
    "    consensus_df\n",
    "    .dropna(subset=[\"diplotype_consensus\"])\n",
    "    .copy()\n",
    ")\n",
    "filt_df = filt_df.query(\"diplotype_consensus != 'no_call'\")\n",
    "potential_novel_alleles = [\n",
    "    'WHB3711', 'WHB4034', 'WHB4120', 'WHB4360', 'WHB4694', 'WHB5352',\n",
    "    'WHB3484', 'WHB4156', 'WHB5002', 'WHB5419', 'WHB3646', 'WHB3750',\n",
    "    'WHB5450', 'WHB3827', 'WHB4038', 'WHB3823', 'WHB4039', 'WHB4775',\n",
    "    'WHB5383', 'WHB4768', 'WHB4836', 'WHB3871', 'WHB3653', 'WHB3493',\n",
    "    'WHB4615', 'WHB4943', 'WHB4891', 'WHB4967'\n",
    "]\n",
    "filt_df = filt_df[~filt_df['sample_id'].isin(potential_novel_alleles)]\n",
    "len(filt_df)"
   ]
  },
  {
   "cell_type": "markdown",
   "metadata": {},
   "source": [
    "# Analyzing no consensus samples"
   ]
  },
  {
   "cell_type": "code",
   "execution_count": 6,
   "metadata": {},
   "outputs": [],
   "source": [
    "no_consensus_df = consensus_df[~consensus_df['sample_id'].isin(filt_df['sample_id'])]"
   ]
  },
  {
   "cell_type": "code",
   "execution_count": 9,
   "metadata": {},
   "outputs": [
    {
     "name": "stdout",
     "output_type": "stream",
     "text": [
      "percentage of sv in non consensus: 90.35812672176309\n",
      "percentage of novel in non consensus: 15.151515151515152\n"
     ]
    }
   ],
   "source": [
    "def contains_SV(lst):\n",
    "    if lst is not None:\n",
    "        for item in lst:\n",
    "            if isinstance(item, str) and ('+' in item or 'x' in item):\n",
    "                return True\n",
    "    return False\n",
    "\n",
    "# Apply the function to the 'aldy' column\n",
    "mask_aldy = no_consensus_df['aldy'].apply(contains_SV)\n",
    "mask_cyrius = no_consensus_df['cyrius'].apply(contains_SV)\n",
    "mask_stellarpgx = no_consensus_df['stellarpgx'].apply(contains_SV)\n",
    "\n",
    "combined_mask = mask_aldy | mask_cyrius | mask_stellarpgx\n",
    "\n",
    "# Use the mask to filter the DataFrame\n",
    "sv_df = no_consensus_df[combined_mask]\n",
    "novel_df = no_consensus_df[no_consensus_df['novel_allele'].apply(lambda x: 'stellarpgx' in x )]\n",
    "print(f\"percentage of sv in non consensus: {len(sv_df) / len(no_consensus_df) * 100}\")\n",
    "print(f\"percentage of novel in non consensus: {len(novel_df) / len(no_consensus_df) * 100}\")\n"
   ]
  },
  {
   "cell_type": "code",
   "execution_count": 84,
   "metadata": {},
   "outputs": [
    {
     "data": {
      "text/plain": [
       "1487"
      ]
     },
     "execution_count": 84,
     "metadata": {},
     "output_type": "execute_result"
    }
   ],
   "source": [
    "len(filt_df)"
   ]
  },
  {
   "attachments": {},
   "cell_type": "markdown",
   "metadata": {},
   "source": [
    "# Aggregate by diplotype"
   ]
  },
  {
   "cell_type": "code",
   "execution_count": 10,
   "metadata": {},
   "outputs": [
    {
     "data": {
      "text/html": [
       "<div>\n",
       "<style scoped>\n",
       "    .dataframe tbody tr th:only-of-type {\n",
       "        vertical-align: middle;\n",
       "    }\n",
       "\n",
       "    .dataframe tbody tr th {\n",
       "        vertical-align: top;\n",
       "    }\n",
       "\n",
       "    .dataframe thead th {\n",
       "        text-align: right;\n",
       "    }\n",
       "</style>\n",
       "<table border=\"1\" class=\"dataframe\">\n",
       "  <thead>\n",
       "    <tr style=\"text-align: right;\">\n",
       "      <th></th>\n",
       "      <th>diplotype</th>\n",
       "      <th>AC</th>\n",
       "      <th>AF</th>\n",
       "      <th>AC_C</th>\n",
       "      <th>AF_C</th>\n",
       "      <th>AF_GA_C</th>\n",
       "      <th>AC_I</th>\n",
       "      <th>AF_I</th>\n",
       "      <th>AF_GA_I</th>\n",
       "      <th>AC_M</th>\n",
       "      <th>AF_M</th>\n",
       "      <th>AF_GA_M</th>\n",
       "    </tr>\n",
       "  </thead>\n",
       "  <tbody>\n",
       "    <tr>\n",
       "      <th>0</th>\n",
       "      <td>*1/*10+*36</td>\n",
       "      <td>248</td>\n",
       "      <td>16.677875</td>\n",
       "      <td>223.0</td>\n",
       "      <td>14.996638</td>\n",
       "      <td>19.839858</td>\n",
       "      <td>2.0</td>\n",
       "      <td>0.134499</td>\n",
       "      <td>1.219512</td>\n",
       "      <td>23.0</td>\n",
       "      <td>1.546738</td>\n",
       "      <td>11.557789</td>\n",
       "    </tr>\n",
       "    <tr>\n",
       "      <th>1</th>\n",
       "      <td>*10+*36/*10+*36</td>\n",
       "      <td>163</td>\n",
       "      <td>10.961668</td>\n",
       "      <td>151.0</td>\n",
       "      <td>10.154674</td>\n",
       "      <td>13.434164</td>\n",
       "      <td>1.0</td>\n",
       "      <td>0.067249</td>\n",
       "      <td>0.609756</td>\n",
       "      <td>11.0</td>\n",
       "      <td>0.739744</td>\n",
       "      <td>5.527638</td>\n",
       "    </tr>\n",
       "    <tr>\n",
       "      <th>2</th>\n",
       "      <td>*10/*10+*36</td>\n",
       "      <td>150</td>\n",
       "      <td>10.087424</td>\n",
       "      <td>130.0</td>\n",
       "      <td>8.742434</td>\n",
       "      <td>11.565836</td>\n",
       "      <td>1.0</td>\n",
       "      <td>0.067249</td>\n",
       "      <td>0.609756</td>\n",
       "      <td>19.0</td>\n",
       "      <td>1.277740</td>\n",
       "      <td>9.547739</td>\n",
       "    </tr>\n",
       "    <tr>\n",
       "      <th>3</th>\n",
       "      <td>*1/*1</td>\n",
       "      <td>118</td>\n",
       "      <td>7.935440</td>\n",
       "      <td>75.0</td>\n",
       "      <td>5.043712</td>\n",
       "      <td>6.672598</td>\n",
       "      <td>23.0</td>\n",
       "      <td>1.546738</td>\n",
       "      <td>14.024390</td>\n",
       "      <td>20.0</td>\n",
       "      <td>1.344990</td>\n",
       "      <td>10.050251</td>\n",
       "    </tr>\n",
       "    <tr>\n",
       "      <th>4</th>\n",
       "      <td>*1/*10</td>\n",
       "      <td>111</td>\n",
       "      <td>7.464694</td>\n",
       "      <td>77.0</td>\n",
       "      <td>5.178211</td>\n",
       "      <td>6.850534</td>\n",
       "      <td>2.0</td>\n",
       "      <td>0.134499</td>\n",
       "      <td>1.219512</td>\n",
       "      <td>32.0</td>\n",
       "      <td>2.151984</td>\n",
       "      <td>16.080402</td>\n",
       "    </tr>\n",
       "    <tr>\n",
       "      <th>5</th>\n",
       "      <td>*1/*2</td>\n",
       "      <td>91</td>\n",
       "      <td>6.119704</td>\n",
       "      <td>49.0</td>\n",
       "      <td>3.295225</td>\n",
       "      <td>4.359431</td>\n",
       "      <td>29.0</td>\n",
       "      <td>1.950235</td>\n",
       "      <td>17.682927</td>\n",
       "      <td>13.0</td>\n",
       "      <td>0.874243</td>\n",
       "      <td>6.532663</td>\n",
       "    </tr>\n",
       "    <tr>\n",
       "      <th>6</th>\n",
       "      <td>*2/*10+*36</td>\n",
       "      <td>70</td>\n",
       "      <td>4.707465</td>\n",
       "      <td>57.0</td>\n",
       "      <td>3.833221</td>\n",
       "      <td>5.071174</td>\n",
       "      <td>3.0</td>\n",
       "      <td>0.201748</td>\n",
       "      <td>1.829268</td>\n",
       "      <td>10.0</td>\n",
       "      <td>0.672495</td>\n",
       "      <td>5.025126</td>\n",
       "    </tr>\n",
       "    <tr>\n",
       "      <th>7</th>\n",
       "      <td>*2/*10</td>\n",
       "      <td>53</td>\n",
       "      <td>3.564223</td>\n",
       "      <td>41.0</td>\n",
       "      <td>2.757229</td>\n",
       "      <td>3.647687</td>\n",
       "      <td>4.0</td>\n",
       "      <td>0.268998</td>\n",
       "      <td>2.439024</td>\n",
       "      <td>8.0</td>\n",
       "      <td>0.537996</td>\n",
       "      <td>4.020101</td>\n",
       "    </tr>\n",
       "    <tr>\n",
       "      <th>8</th>\n",
       "      <td>*10/*10</td>\n",
       "      <td>51</td>\n",
       "      <td>3.429724</td>\n",
       "      <td>38.0</td>\n",
       "      <td>2.555481</td>\n",
       "      <td>3.380783</td>\n",
       "      <td>1.0</td>\n",
       "      <td>0.067249</td>\n",
       "      <td>0.609756</td>\n",
       "      <td>12.0</td>\n",
       "      <td>0.806994</td>\n",
       "      <td>6.030151</td>\n",
       "    </tr>\n",
       "    <tr>\n",
       "      <th>9</th>\n",
       "      <td>*10/*36</td>\n",
       "      <td>44</td>\n",
       "      <td>2.958978</td>\n",
       "      <td>39.0</td>\n",
       "      <td>2.622730</td>\n",
       "      <td>3.469751</td>\n",
       "      <td>0.0</td>\n",
       "      <td>0.000000</td>\n",
       "      <td>0.000000</td>\n",
       "      <td>5.0</td>\n",
       "      <td>0.336247</td>\n",
       "      <td>2.512563</td>\n",
       "    </tr>\n",
       "  </tbody>\n",
       "</table>\n",
       "</div>"
      ],
      "text/plain": [
       "         diplotype   AC         AF   AC_C       AF_C    AF_GA_C  AC_I  \\\n",
       "0       *1/*10+*36  248  16.677875  223.0  14.996638  19.839858   2.0   \n",
       "1  *10+*36/*10+*36  163  10.961668  151.0  10.154674  13.434164   1.0   \n",
       "2      *10/*10+*36  150  10.087424  130.0   8.742434  11.565836   1.0   \n",
       "3            *1/*1  118   7.935440   75.0   5.043712   6.672598  23.0   \n",
       "4           *1/*10  111   7.464694   77.0   5.178211   6.850534   2.0   \n",
       "5            *1/*2   91   6.119704   49.0   3.295225   4.359431  29.0   \n",
       "6       *2/*10+*36   70   4.707465   57.0   3.833221   5.071174   3.0   \n",
       "7           *2/*10   53   3.564223   41.0   2.757229   3.647687   4.0   \n",
       "8          *10/*10   51   3.429724   38.0   2.555481   3.380783   1.0   \n",
       "9          *10/*36   44   2.958978   39.0   2.622730   3.469751   0.0   \n",
       "\n",
       "       AF_I    AF_GA_I  AC_M      AF_M    AF_GA_M  \n",
       "0  0.134499   1.219512  23.0  1.546738  11.557789  \n",
       "1  0.067249   0.609756  11.0  0.739744   5.527638  \n",
       "2  0.067249   0.609756  19.0  1.277740   9.547739  \n",
       "3  1.546738  14.024390  20.0  1.344990  10.050251  \n",
       "4  0.134499   1.219512  32.0  2.151984  16.080402  \n",
       "5  1.950235  17.682927  13.0  0.874243   6.532663  \n",
       "6  0.201748   1.829268  10.0  0.672495   5.025126  \n",
       "7  0.268998   2.439024   8.0  0.537996   4.020101  \n",
       "8  0.067249   0.609756  12.0  0.806994   6.030151  \n",
       "9  0.000000   0.000000   5.0  0.336247   2.512563  "
      ]
     },
     "execution_count": 10,
     "metadata": {},
     "output_type": "execute_result"
    }
   ],
   "source": [
    "diplotype_df = pd.DataFrame(\n",
    "    {\n",
    "        \"AC\": filt_df[\"diplotype_consensus\"].value_counts(),\n",
    "        \"AF\": filt_df[\"diplotype_consensus\"].value_counts(normalize=True) * 100,\n",
    "    }\n",
    ")\n",
    "\n",
    "for ancestry, ancestry_df in filt_df.groupby(\"genetic_ancestry\"):\n",
    "    ancestry_af_ac = {\n",
    "        f\"AC_{ancestry}\": ancestry_df[\"diplotype_consensus\"].value_counts(),\n",
    "        f\"AF_{ancestry}\": ancestry_df[\"diplotype_consensus\"].value_counts() / len(filt_df) * 100,\n",
    "        f\"AF_GA_{ancestry}\": ancestry_df[\"diplotype_consensus\"].value_counts(normalize=True) * 100,\n",
    "        \n",
    "    }\n",
    "    # display(pd.DataFrame(ancestry_af_ac))\n",
    "    diplotype_df = pd.concat([diplotype_df, pd.DataFrame(ancestry_af_ac)], axis=1)\n",
    "\n",
    "diplotype_df = diplotype_df.fillna(0).reset_index(names=\"diplotype\")\n",
    "diplotype_df.head(10)\n"
   ]
  },
  {
   "attachments": {},
   "cell_type": "markdown",
   "metadata": {},
   "source": [
    "# Function to retrieve the activity value and phenotype from the reference"
   ]
  },
  {
   "cell_type": "code",
   "execution_count": 11,
   "metadata": {},
   "outputs": [],
   "source": [
    "def get_av(df, ref):    \n",
    "    av = 0\n",
    "    diplotype = df['diplotype'].split('/')\n",
    "    for haplotype in diplotype:\n",
    "        if haplotype in ref['haplotype'].values:\n",
    "            av += ref.loc[ref['haplotype'] == haplotype, 'activity_value'].iloc[0]\n",
    "                \n",
    "    return av\n",
    "\n",
    "@np.vectorize\n",
    "def phenotype(row):\n",
    "    if (0 == row):\n",
    "        return 'PM'\n",
    "    elif (0 < row <1.25):\n",
    "        return 'IM' \n",
    "    elif (1.25 <= row <=2.25):\n",
    "        return 'NM'\n",
    "    elif (2.25 < row <15):\n",
    "        return 'UM'\n",
    "    else:\n",
    "        return 'Indeterminate'"
   ]
  },
  {
   "cell_type": "code",
   "execution_count": 12,
   "metadata": {},
   "outputs": [
    {
     "name": "stderr",
     "output_type": "stream",
     "text": [
      "/home/jupyter-yusuf/.conda/envs/cyp2d6/lib/python3.9/site-packages/numpy/lib/function_base.py:2412: RuntimeWarning: invalid value encountered in phenotype (vectorized)\n",
      "  outputs = ufunc(*inputs)\n"
     ]
    }
   ],
   "source": [
    "diplotype_df['activity_value'] = diplotype_df.apply(lambda x: get_av(x, pgkb), axis=1)\n",
    "diplotype_df['phenotype'] = phenotype(diplotype_df['activity_value'])"
   ]
  },
  {
   "attachments": {},
   "cell_type": "markdown",
   "metadata": {},
   "source": [
    "# Aggregate by haplotype"
   ]
  },
  {
   "cell_type": "code",
   "execution_count": 13,
   "metadata": {},
   "outputs": [],
   "source": [
    "filt_hap_df = filt_df.copy()\n",
    "filt_hap_df[\"haplotype\"] = filt_hap_df[\"diplotype_consensus\"].str.split(\"/\")\n",
    "filt_hap_df = filt_hap_df.explode(\"haplotype\")\n",
    "\n",
    "haplotype_df = pd.DataFrame(\n",
    "    {\n",
    "        \"AC\": filt_hap_df[\"haplotype\"].value_counts(),\n",
    "        \"AF\": filt_hap_df[\"haplotype\"].value_counts(normalize=True) * 100,\n",
    "    }\n",
    ")\n",
    "\n",
    "for ancestry, ancestry_df in filt_hap_df.groupby(\"genetic_ancestry\"):\n",
    "    ancestry_af_ac = {\n",
    "        f\"AC_{ancestry}\": ancestry_df[\"haplotype\"].value_counts(),\n",
    "        f\"AF_{ancestry}\": ancestry_df[\"haplotype\"].value_counts() / len(filt_hap_df) * 100,\n",
    "        f\"AF_GA_{ancestry}\": ancestry_df[\"haplotype\"].value_counts(normalize=True) * 100,\n",
    "    }\n",
    "    haplotype_df = pd.concat([haplotype_df, pd.DataFrame(ancestry_af_ac)], axis=1)\n",
    "\n",
    "haplotype_df = haplotype_df.fillna(0).reset_index(names=\"haplotype\")\n"
   ]
  },
  {
   "attachments": {},
   "cell_type": "markdown",
   "metadata": {},
   "source": [
    "# Add activity values and function from pharmgkb"
   ]
  },
  {
   "cell_type": "code",
   "execution_count": 14,
   "metadata": {},
   "outputs": [
    {
     "data": {
      "text/html": [
       "<div>\n",
       "<style scoped>\n",
       "    .dataframe tbody tr th:only-of-type {\n",
       "        vertical-align: middle;\n",
       "    }\n",
       "\n",
       "    .dataframe tbody tr th {\n",
       "        vertical-align: top;\n",
       "    }\n",
       "\n",
       "    .dataframe thead th {\n",
       "        text-align: right;\n",
       "    }\n",
       "</style>\n",
       "<table border=\"1\" class=\"dataframe\">\n",
       "  <thead>\n",
       "    <tr style=\"text-align: right;\">\n",
       "      <th></th>\n",
       "      <th>haplotype</th>\n",
       "      <th>AC</th>\n",
       "      <th>AF</th>\n",
       "      <th>AC_C</th>\n",
       "      <th>AF_C</th>\n",
       "      <th>AF_GA_C</th>\n",
       "      <th>AC_I</th>\n",
       "      <th>AF_I</th>\n",
       "      <th>AF_GA_I</th>\n",
       "      <th>AC_M</th>\n",
       "      <th>AF_M</th>\n",
       "      <th>AF_GA_M</th>\n",
       "      <th>activity_value</th>\n",
       "      <th>function</th>\n",
       "    </tr>\n",
       "  </thead>\n",
       "  <tbody>\n",
       "    <tr>\n",
       "      <th>0</th>\n",
       "      <td>*10+*36</td>\n",
       "      <td>861</td>\n",
       "      <td>28.950908</td>\n",
       "      <td>771.0</td>\n",
       "      <td>25.924681</td>\n",
       "      <td>34.297153</td>\n",
       "      <td>10.0</td>\n",
       "      <td>0.336247</td>\n",
       "      <td>3.048780</td>\n",
       "      <td>80.0</td>\n",
       "      <td>2.689980</td>\n",
       "      <td>20.100503</td>\n",
       "      <td>0.25</td>\n",
       "      <td>Decreased function</td>\n",
       "    </tr>\n",
       "    <tr>\n",
       "      <th>1</th>\n",
       "      <td>*1</td>\n",
       "      <td>827</td>\n",
       "      <td>27.807666</td>\n",
       "      <td>581.0</td>\n",
       "      <td>19.535978</td>\n",
       "      <td>25.845196</td>\n",
       "      <td>124.0</td>\n",
       "      <td>4.169469</td>\n",
       "      <td>37.804878</td>\n",
       "      <td>122.0</td>\n",
       "      <td>4.102219</td>\n",
       "      <td>30.653266</td>\n",
       "      <td>1.00</td>\n",
       "      <td>Normal function</td>\n",
       "    </tr>\n",
       "    <tr>\n",
       "      <th>2</th>\n",
       "      <td>*10</td>\n",
       "      <td>519</td>\n",
       "      <td>17.451244</td>\n",
       "      <td>405.0</td>\n",
       "      <td>13.618023</td>\n",
       "      <td>18.016014</td>\n",
       "      <td>11.0</td>\n",
       "      <td>0.369872</td>\n",
       "      <td>3.353659</td>\n",
       "      <td>103.0</td>\n",
       "      <td>3.463349</td>\n",
       "      <td>25.879397</td>\n",
       "      <td>0.25</td>\n",
       "      <td>Decreased function</td>\n",
       "    </tr>\n",
       "    <tr>\n",
       "      <th>3</th>\n",
       "      <td>*2</td>\n",
       "      <td>295</td>\n",
       "      <td>9.919301</td>\n",
       "      <td>193.0</td>\n",
       "      <td>6.489576</td>\n",
       "      <td>8.585409</td>\n",
       "      <td>64.0</td>\n",
       "      <td>2.151984</td>\n",
       "      <td>19.512195</td>\n",
       "      <td>38.0</td>\n",
       "      <td>1.277740</td>\n",
       "      <td>9.547739</td>\n",
       "      <td>1.00</td>\n",
       "      <td>Normal function</td>\n",
       "    </tr>\n",
       "    <tr>\n",
       "      <th>4</th>\n",
       "      <td>*41</td>\n",
       "      <td>141</td>\n",
       "      <td>4.741089</td>\n",
       "      <td>84.0</td>\n",
       "      <td>2.824479</td>\n",
       "      <td>3.736655</td>\n",
       "      <td>40.0</td>\n",
       "      <td>1.344990</td>\n",
       "      <td>12.195122</td>\n",
       "      <td>17.0</td>\n",
       "      <td>0.571621</td>\n",
       "      <td>4.271357</td>\n",
       "      <td>0.50</td>\n",
       "      <td>Decreased function</td>\n",
       "    </tr>\n",
       "  </tbody>\n",
       "</table>\n",
       "</div>"
      ],
      "text/plain": [
       "  haplotype   AC         AF   AC_C       AF_C    AF_GA_C   AC_I      AF_I  \\\n",
       "0   *10+*36  861  28.950908  771.0  25.924681  34.297153   10.0  0.336247   \n",
       "1        *1  827  27.807666  581.0  19.535978  25.845196  124.0  4.169469   \n",
       "2       *10  519  17.451244  405.0  13.618023  18.016014   11.0  0.369872   \n",
       "3        *2  295   9.919301  193.0   6.489576   8.585409   64.0  2.151984   \n",
       "4       *41  141   4.741089   84.0   2.824479   3.736655   40.0  1.344990   \n",
       "\n",
       "     AF_GA_I   AC_M      AF_M    AF_GA_M  activity_value            function  \n",
       "0   3.048780   80.0  2.689980  20.100503            0.25  Decreased function  \n",
       "1  37.804878  122.0  4.102219  30.653266            1.00     Normal function  \n",
       "2   3.353659  103.0  3.463349  25.879397            0.25  Decreased function  \n",
       "3  19.512195   38.0  1.277740   9.547739            1.00     Normal function  \n",
       "4  12.195122   17.0  0.571621   4.271357            0.50  Decreased function  "
      ]
     },
     "execution_count": 14,
     "metadata": {},
     "output_type": "execute_result"
    }
   ],
   "source": [
    "haplotype_df = pd.merge(haplotype_df, pgkb, on = \"haplotype\", how = \"left\")\n",
    "haplotype_df.head(5)\n"
   ]
  },
  {
   "attachments": {},
   "cell_type": "markdown",
   "metadata": {},
   "source": [
    "# Export TSV and parquet for both diplotype and haplotype tables "
   ]
  },
  {
   "cell_type": "code",
   "execution_count": 16,
   "metadata": {},
   "outputs": [],
   "source": [
    "output_dir = Path(\"output\")\n",
    "dip_file_name = \"3_diplotypes\"\n",
    "hap_file_name = \"3_haplotypes\"\n",
    "\n",
    "if not output_dir.exists():\n",
    "    output_dir.mkdir()\n",
    "\n",
    "# Export diplotypes\n",
    "diplotype_df.to_csv(output_dir / f\"{dip_file_name}.tsv\", sep=\"\\t\", index=False)\n",
    "diplotype_df.to_parquet(output_dir / f\"{dip_file_name}.parquet\", index=False)\n",
    "\n",
    "# Export haplotypes\n",
    "haplotype_df.to_csv(output_dir / f\"{hap_file_name}.tsv\", sep=\"\\t\", index=False)\n",
    "haplotype_df.to_parquet(output_dir / f\"{hap_file_name}.parquet\", index=False)\n"
   ]
  },
  {
   "cell_type": "code",
   "execution_count": 20,
   "metadata": {},
   "outputs": [
    {
     "name": "stdout",
     "output_type": "stream",
     "text": [
      "Total haplotype: 2974, Chinese: 2248.0, Malay: 398.0, Indian: 328.0\n"
     ]
    }
   ],
   "source": [
    "print(f\"Total haplotype: {haplotype_df['AC'].sum()}, Chinese: {haplotype_df['AC_C'].sum()}, Malay: {haplotype_df['AC_M'].sum()}, Indian: {haplotype_df['AC_I'].sum()}\")"
   ]
  },
  {
   "cell_type": "code",
   "execution_count": 21,
   "metadata": {},
   "outputs": [
    {
     "name": "stdout",
     "output_type": "stream",
     "text": [
      "Total haplotype: 1487, Chinese: 1124.0, Malay: 199.0, Indian: 164.0\n"
     ]
    }
   ],
   "source": [
    "print(f\"Total haplotype: {diplotype_df['AC'].sum()}, Chinese: {diplotype_df['AC_C'].sum()}, Malay: {diplotype_df['AC_M'].sum()}, Indian: {diplotype_df['AC_I'].sum()}\")"
   ]
  }
 ],
 "metadata": {
  "kernelspec": {
   "display_name": "bfx",
   "language": "python",
   "name": "python3"
  },
  "language_info": {
   "codemirror_mode": {
    "name": "ipython",
    "version": 3
   },
   "file_extension": ".py",
   "mimetype": "text/x-python",
   "name": "python",
   "nbconvert_exporter": "python",
   "pygments_lexer": "ipython3",
   "version": "3.9.10"
  },
  "orig_nbformat": 4
 },
 "nbformat": 4,
 "nbformat_minor": 2
}
