{
 "cells": [
  {
   "cell_type": "code",
   "execution_count": 44,
   "metadata": {},
   "outputs": [],
   "source": [
    "import pandas as pd\n",
    "import numpy as np"
   ]
  },
  {
   "cell_type": "code",
   "execution_count": 45,
   "metadata": {},
   "outputs": [],
   "source": [
    "file = \"/home/jupyter-yusuf/Consensus/novel_alleles/vep/vep_novel_core_alleles.txt\"\n",
    "with open(file, 'r') as file:\n",
    "    lines = file.readlines()\n",
    "    header_line = [line.strip('#').strip() for line in lines if line.startswith('#') and not line.startswith('##')][0].split('\\t')\n",
    "    data_lines = [line for line in lines if not line.startswith('#')]"
   ]
  },
  {
   "cell_type": "code",
   "execution_count": 46,
   "metadata": {},
   "outputs": [
    {
     "data": {
      "text/plain": [
       "['Uploaded_variation',\n",
       " 'Location',\n",
       " 'Allele',\n",
       " 'Gene',\n",
       " 'Feature',\n",
       " 'Feature_type',\n",
       " 'Consequence',\n",
       " 'cDNA_position',\n",
       " 'CDS_position',\n",
       " 'Protein_position',\n",
       " 'Amino_acids',\n",
       " 'Codons',\n",
       " 'Existing_variation',\n",
       " 'Extra']"
      ]
     },
     "execution_count": 46,
     "metadata": {},
     "output_type": "execute_result"
    }
   ],
   "source": [
    "header_line"
   ]
  },
  {
   "cell_type": "code",
   "execution_count": 47,
   "metadata": {},
   "outputs": [],
   "source": [
    "df = pd.DataFrame([line.split('\\t') for line in data_lines], columns=header_line)\n"
   ]
  },
  {
   "cell_type": "code",
   "execution_count": 48,
   "metadata": {},
   "outputs": [],
   "source": [
    "df = df.query(\"Feature == 'ENST00000645361'\")"
   ]
  },
  {
   "cell_type": "code",
   "execution_count": 49,
   "metadata": {},
   "outputs": [],
   "source": [
    "def split_extra_column(row):\n",
    "    extra_data = row.split(';')\n",
    "    extra_dict = {}\n",
    "    for item in extra_data:\n",
    "        key, value = item.split('=')\n",
    "        extra_dict[key] = value\n",
    "    return extra_dict\n",
    "\n",
    "# Apply the function to the 'Extra' column\n",
    "extra_data = df['Extra'].apply(split_extra_column).apply(pd.Series)"
   ]
  },
  {
   "cell_type": "code",
   "execution_count": 50,
   "metadata": {},
   "outputs": [],
   "source": [
    "# df = df.drop('Extra', axis=1).join(extra_data)\n",
    "df =pd.concat([df, extra_data], axis=1)"
   ]
  },
  {
   "cell_type": "code",
   "execution_count": 51,
   "metadata": {},
   "outputs": [],
   "source": [
    "df.to_csv(\"/home/jupyter-yusuf/Consensus/novel_alleles/vep/vep_novel_core_alleles_ENST00000645361.txt\", sep='\\t', index=False)"
   ]
  },
  {
   "cell_type": "code",
   "execution_count": null,
   "metadata": {},
   "outputs": [],
   "source": []
  }
 ],
 "metadata": {
  "kernelspec": {
   "display_name": "cyp2d6",
   "language": "python",
   "name": "python3"
  },
  "language_info": {
   "codemirror_mode": {
    "name": "ipython",
    "version": 3
   },
   "file_extension": ".py",
   "mimetype": "text/x-python",
   "name": "python",
   "nbconvert_exporter": "python",
   "pygments_lexer": "ipython3",
   "version": "3.9.10"
  }
 },
 "nbformat": 4,
 "nbformat_minor": 2
}
