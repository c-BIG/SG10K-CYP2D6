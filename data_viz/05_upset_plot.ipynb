{
 "cells": [
  {
   "cell_type": "code",
   "execution_count": 1,
   "metadata": {},
   "outputs": [],
   "source": [
    "import pandas as pd\n",
    "from upsetplot import UpSet, plot\n",
    "import matplotlib.pyplot as plt\n"
   ]
  },
  {
   "cell_type": "code",
   "execution_count": 2,
   "metadata": {},
   "outputs": [],
   "source": [
    "consensus_df = pd.read_parquet('/home/jupyter-yusuf/Consensus/output/2_consensus.parquet')"
   ]
  },
  {
   "cell_type": "code",
   "execution_count": 3,
   "metadata": {},
   "outputs": [
    {
     "data": {
      "text/html": [
       "<div>\n",
       "<style scoped>\n",
       "    .dataframe tbody tr th:only-of-type {\n",
       "        vertical-align: middle;\n",
       "    }\n",
       "\n",
       "    .dataframe tbody tr th {\n",
       "        vertical-align: top;\n",
       "    }\n",
       "\n",
       "    .dataframe thead th {\n",
       "        text-align: right;\n",
       "    }\n",
       "</style>\n",
       "<table border=\"1\" class=\"dataframe\">\n",
       "  <thead>\n",
       "    <tr style=\"text-align: right;\">\n",
       "      <th></th>\n",
       "      <th>list_combination</th>\n",
       "      <th>count</th>\n",
       "    </tr>\n",
       "  </thead>\n",
       "  <tbody>\n",
       "    <tr>\n",
       "      <th>0</th>\n",
       "      <td>[aldy, cyrius, stellarpgx]</td>\n",
       "      <td>1047</td>\n",
       "    </tr>\n",
       "    <tr>\n",
       "      <th>1</th>\n",
       "      <td>[]</td>\n",
       "      <td>346</td>\n",
       "    </tr>\n",
       "    <tr>\n",
       "      <th>2</th>\n",
       "      <td>[aldy, cyrius]</td>\n",
       "      <td>230</td>\n",
       "    </tr>\n",
       "    <tr>\n",
       "      <th>3</th>\n",
       "      <td>[cyrius, stellarpgx]</td>\n",
       "      <td>127</td>\n",
       "    </tr>\n",
       "    <tr>\n",
       "      <th>4</th>\n",
       "      <td>[aldy, stellarpgx]</td>\n",
       "      <td>100</td>\n",
       "    </tr>\n",
       "  </tbody>\n",
       "</table>\n",
       "</div>"
      ],
      "text/plain": [
       "             list_combination  count\n",
       "0  [aldy, cyrius, stellarpgx]   1047\n",
       "1                          []    346\n",
       "2              [aldy, cyrius]    230\n",
       "3        [cyrius, stellarpgx]    127\n",
       "4          [aldy, stellarpgx]    100"
      ]
     },
     "execution_count": 3,
     "metadata": {},
     "output_type": "execute_result"
    }
   ],
   "source": [
    "# Count the occurrences of each unique list combination in the 'callers_in_agreement' column\n",
    "list_combination_counts = consensus_df['callers_in_agreement'].apply(tuple).value_counts()\n",
    "\n",
    "# Create a DataFrame from the counts\n",
    "counts_df = list_combination_counts.reset_index()\n",
    "\n",
    "# Rename the columns\n",
    "counts_df.columns = ['list_combination', 'count']\n",
    "\n",
    "# Convert the 'list_combination' column back to list format\n",
    "counts_df['list_combination'] = counts_df['list_combination'].apply(list)\n",
    "\n",
    "counts_df\n",
    "\n"
   ]
  },
  {
   "cell_type": "code",
   "execution_count": 5,
   "metadata": {},
   "outputs": [
    {
     "data": {
      "text/plain": [
       "{'matrix': <Axes: >,\n",
       " 'shading': <Axes: >,\n",
       " 'totals': <Axes: >,\n",
       " 'intersections': <Axes: ylabel='Intersection size'>}"
      ]
     },
     "execution_count": 5,
     "metadata": {},
     "output_type": "execute_result"
    },
    {
     "data": {
      "text/plain": [
       "<Figure size 1080x720 with 0 Axes>"
      ]
     },
     "metadata": {},
     "output_type": "display_data"
    },
    {
     "data": {
      "image/png": "[encoded data removed]",
      "text/plain": [
       "<Figure size 416x288 with 4 Axes>"
      ]
     },
     "metadata": {
      "needs_background": "light"
     },
     "output_type": "display_data"
    }
   ],
   "source": [
    "# Inputting manually, for testing purposes\n",
    "plt.figure(figsize=(15, 10))\n",
    "\n",
    "data = {\n",
    "    (False, False, False): 346,\n",
    "    (True, False, False): 473,\n",
    "    (False, True, False): 446,\n",
    "    (False, False, True): 576,\n",
    "    (True, True, False): 230,\n",
    "    (True, False, True): 100,\n",
    "    (False, True, True): 127,\n",
    "    (True, True, True): 1047,\n",
    "}\n",
    "\n",
    "\n",
    "# Filter out the zero-value groups\n",
    "filtered_data = {k: v for k, v in data.items() if v != 0}\n",
    "\n",
    "# Create a MultiIndex with the data\n",
    "index = pd.MultiIndex.from_tuples(filtered_data.keys(), names=['aldy', 'cyrius', 'stellarpgx'])\n",
    "\n",
    "# Create a Series from the index and data\n",
    "series_data = pd.Series(list(filtered_data.values()), index=index)\n",
    "\n",
    "# Create an UpSet plot\n",
    "upset_plot = UpSet(series_data, show_counts=True,)\n",
    "# fig = plt.figure(figsize=(15, 10))\n",
    "# upset_plot.plot( fig = fig)\n",
    "# # Set plot size\n",
    "plt.rcParams[\"figure.figsize\"] = [50, 20]\n",
    "\n",
    "# Plot\n",
    "upset_plot.plot()\n",
    "# plt.show()\n",
    "\n",
    "# series_data"
   ]
  },
  {
   "cell_type": "code",
   "execution_count": 5,
   "metadata": {},
   "outputs": [
    {
     "data": {
      "image/png": "[encoded data removed]",
      "text/plain": [
       "<Figure size 576x432 with 1 Axes>"
      ]
     },
     "metadata": {
      "needs_background": "light"
     },
     "output_type": "display_data"
    }
   ],
   "source": [
    "import pandas as pd\n",
    "import seaborn as sns\n",
    "import matplotlib.pyplot as plt\n",
    "\n",
    "# Create a DataFrame with your data\n",
    "data = {\n",
    "    'Tools': ['Cyrius', 'Aldy', 'StellarPGx'],\n",
    "    'Call rate (%)': [88.61, 99.95, 99.35]\n",
    "}\n",
    "df = pd.DataFrame(data)\n",
    "\n",
    "# Create the barplot\n",
    "plt.figure(figsize=(8, 6))\n",
    "sns.set_palette(\"Set2\")\n",
    "barplot = sns.barplot(x='Tools', y='Call rate (%)', data=df, edgecolor=\"black\", linewidth=1)\n",
    "\n",
    "# Add values on the bars\n",
    "for p in barplot.patches:\n",
    "    barplot.annotate(format(p.get_height(), '.2f') + \"%\", \n",
    "                   (p.get_x() + p.get_width() / 2., p.get_height()), \n",
    "                   ha = 'center', va = 'center', \n",
    "                   xytext = (0, 10), \n",
    "                   textcoords = 'offset points')\n",
    "\n",
    "plt.title(\"Call Rate by Tools\")\n",
    "plt.grid(alpha=0.2)\n",
    "plt.xlabel(None)\n",
    "plt.ylim(0, 110)\n",
    "plt.show()\n"
   ]
  }
 ],
 "metadata": {
  "kernelspec": {
   "display_name": "cyp2d6",
   "language": "python",
   "name": "python3"
  },
  "language_info": {
   "codemirror_mode": {
    "name": "ipython",
    "version": 3
   },
   "file_extension": ".py",
   "mimetype": "text/x-python",
   "name": "python",
   "nbconvert_exporter": "python",
   "pygments_lexer": "ipython3",
   "version": "3.9.10"
  },
  "orig_nbformat": 4
 },
 "nbformat": 4,
 "nbformat_minor": 2
}
