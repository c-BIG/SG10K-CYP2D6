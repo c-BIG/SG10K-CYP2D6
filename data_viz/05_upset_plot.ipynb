{
 "cells": [
  {
   "cell_type": "code",
   "execution_count": 1,
   "metadata": {},
   "outputs": [],
   "source": [
    "import pandas as pd\n",
    "from upsetplot import UpSet, plot\n",
    "import matplotlib.pyplot as plt\n"
   ]
  },
  {
   "cell_type": "code",
   "execution_count": 10,
   "metadata": {},
   "outputs": [],
   "source": [
    "consensus_df = pd.read_parquet('/home/jupyter-yusuf/Consensus/output/2_consensus.parquet')"
   ]
  },
  {
   "cell_type": "code",
   "execution_count": 11,
   "metadata": {},
   "outputs": [
    {
     "data": {
      "text/plain": [
       "1850"
      ]
     },
     "execution_count": 11,
     "metadata": {},
     "output_type": "execute_result"
    }
   ],
   "source": [
    "len(consensus_df)"
   ]
  },
  {
   "cell_type": "code",
   "execution_count": 12,
   "metadata": {},
   "outputs": [
    {
     "data": {
      "text/plain": [
       "1487"
      ]
     },
     "execution_count": 12,
     "metadata": {},
     "output_type": "execute_result"
    }
   ],
   "source": [
    "passed_consensus_df = (\n",
    "    consensus_df\n",
    "    .dropna(subset=[\"diplotype_consensus\"])\n",
    "    .copy()\n",
    ")\n",
    "passed_consensus_df = passed_consensus_df.query(\"diplotype_consensus != 'no_call'\")\n",
    "potential_novel_alleles = [\n",
    "    'WHB3711', 'WHB4034', 'WHB4120', 'WHB4360', 'WHB4694', 'WHB5352',\n",
    "    'WHB3484', 'WHB4156', 'WHB5002', 'WHB5419', 'WHB3646', 'WHB3750',\n",
    "    'WHB5450', 'WHB3827', 'WHB4038', 'WHB3823', 'WHB4039', 'WHB4775',\n",
    "    'WHB5383', 'WHB4768', 'WHB4836', 'WHB3871', 'WHB3653', 'WHB3493',\n",
    "    'WHB4615', 'WHB4943', 'WHB4891', 'WHB4967'\n",
    "]\n",
    "passed_consensus_df = passed_consensus_df[~passed_consensus_df['sample_id'].isin(potential_novel_alleles)]\n",
    "len(passed_consensus_df)"
   ]
  },
  {
   "cell_type": "code",
   "execution_count": 15,
   "metadata": {},
   "outputs": [
    {
     "data": {
      "text/plain": [
       "363"
      ]
     },
     "execution_count": 15,
     "metadata": {},
     "output_type": "execute_result"
    }
   ],
   "source": [
    "non_consensus_df = consensus_df[~consensus_df['sample_id'].isin(passed_consensus_df['sample_id'])]\n",
    "len(non_consensus_df)"
   ]
  },
  {
   "cell_type": "markdown",
   "metadata": {},
   "source": [
    "## Count consensus_diplotype is no_call "
   ]
  },
  {
   "cell_type": "code",
   "execution_count": 3,
   "metadata": {},
   "outputs": [
    {
     "data": {
      "text/plain": [
       "935    [cyrius, stellarpgx]\n",
       "Name: callers_in_agreement, dtype: object"
      ]
     },
     "execution_count": 3,
     "metadata": {},
     "output_type": "execute_result"
    }
   ],
   "source": [
    "list_combination_counts = consensus_df['callers_in_agreement'].apply(tuple).value_counts()\n",
    "no_call = consensus_df.query(\"diplotype_consensus == 'no_call'\")['callers_in_agreement']\n",
    "no_call"
   ]
  },
  {
   "cell_type": "markdown",
   "metadata": {},
   "source": [
    "## Count combination"
   ]
  },
  {
   "cell_type": "code",
   "execution_count": 21,
   "metadata": {},
   "outputs": [
    {
     "name": "stdout",
     "output_type": "stream",
     "text": [
      "             list_combination  count\n",
      "0  [aldy, cyrius, stellarpgx]   1040\n",
      "1              [aldy, cyrius]    226\n",
      "2        [cyrius, stellarpgx]    125\n",
      "3          [aldy, stellarpgx]     96\n"
     ]
    }
   ],
   "source": [
    "# Count the occurrences of each unique list combination in the 'callers_in_agreement' column\n",
    "# \n",
    "list_combination_counts = passed_consensus_df['callers_in_agreement'].apply(tuple).value_counts()\n",
    "\n",
    "counts_df = list_combination_counts.reset_index()\n",
    "\n",
    "counts_df.columns = ['list_combination', 'count']\n",
    "\n",
    "counts_df['list_combination'] = counts_df['list_combination'].apply(list)\n",
    "\n",
    "aldy_combination = counts_df[counts_df['list_combination'].apply(lambda x: 'aldy' in x)]['count'].sum()\n",
    "stellarpgx_combination = counts_df[counts_df['list_combination'].apply(lambda x: 'stellarpgx' in x)]['count'].sum()\n",
    "cyrius_combination = counts_df[counts_df['list_combination'].apply(lambda x: 'cyrius' in x)]['count'].sum()\n",
    "\n",
    "print(counts_df)"
   ]
  },
  {
   "cell_type": "markdown",
   "metadata": {},
   "source": [
    "## Count no call"
   ]
  },
  {
   "cell_type": "code",
   "execution_count": 31,
   "metadata": {},
   "outputs": [
    {
     "name": "stdout",
     "output_type": "stream",
     "text": [
      "False    1849\n",
      "True        1\n",
      "Name: aldy, dtype: int64 False    1846\n",
      "True        4\n",
      "Name: stellarpgx, dtype: int64 False    1658\n",
      "True      192\n",
      "Name: cyrius, dtype: int64\n"
     ]
    }
   ],
   "source": [
    "aldy_noCall = len(consensus_df[consensus_df['aldy'].apply(lambda x: x[0] is None)])\n",
    "stellarpgx_noCall = len(consensus_df[consensus_df['stellarpgx'].apply(lambda x: x[0] is None)])\n",
    "cyrius_noCall = len(consensus_df[consensus_df['cyrius'].apply(lambda x: x[0] is None)])\n",
    "\n",
    "print(consensus_df['aldy'].apply(lambda x: x[0] is None  ).value_counts(),\n",
    "consensus_df['stellarpgx'].apply(lambda x: x[0] is None ).value_counts(),\n",
    "consensus_df['cyrius'].apply(lambda x: x[0] is None ).value_counts())\n",
    "\n",
    "# False is equal to succesful calls and True is equal to failed calls"
   ]
  },
  {
   "cell_type": "markdown",
   "metadata": {},
   "source": [
    "## Count unique succesful calls"
   ]
  },
  {
   "cell_type": "code",
   "execution_count": 32,
   "metadata": {},
   "outputs": [
    {
     "name": "stdout",
     "output_type": "stream",
     "text": [
      "unique_aldy = 487, unique_cyrius = 267, unique_steallarpgx = 585\n"
     ]
    }
   ],
   "source": [
    "# 1850 - no calls - combination calls\n",
    "\n",
    "unique_aldy = len(consensus_df) - aldy_noCall - aldy_combination\n",
    "unique_cyrius = len(consensus_df) - cyrius_noCall - cyrius_combination\n",
    "unique_steallarpgx = len(consensus_df) - stellarpgx_noCall - stellarpgx_combination\n",
    "print(f\"unique_aldy = {unique_aldy}, unique_cyrius = {unique_cyrius}, unique_steallarpgx = {unique_steallarpgx}\")"
   ]
  },
  {
   "cell_type": "code",
   "execution_count": 33,
   "metadata": {},
   "outputs": [
    {
     "data": {
      "text/plain": [
       "{'matrix': <Axes: >,\n",
       " 'shading': <Axes: >,\n",
       " 'totals': <Axes: >,\n",
       " 'intersections': <Axes: ylabel='Intersection size'>}"
      ]
     },
     "execution_count": 33,
     "metadata": {},
     "output_type": "execute_result"
    },
    {
     "data": {
      "text/plain": [
       "<Figure size 1080x720 with 0 Axes>"
      ]
     },
     "metadata": {},
     "output_type": "display_data"
    },
    {
     "data": {
      "image/png": "[encoded data removed]",
      "text/plain": [
       "<Figure size 384x288 with 4 Axes>"
      ]
     },
     "metadata": {
      "needs_background": "light"
     },
     "output_type": "display_data"
    }
   ],
   "source": [
    "# New consensus (1487)\n",
    "# Inputting manually, for testing purposes\n",
    "plt.figure(figsize=(15, 10))\n",
    "\n",
    "data = {\n",
    "    (True, False, False): 487, #Unique aldy\n",
    "    (False, True, False): 267, #Unique cyrius\n",
    "    (False, False, True): 585, #Unique stellarpgx\n",
    "    (True, True, False): 226, #Aldy and cyrius\n",
    "    (True, False, True): 96, #Aldy and stellarpgx\n",
    "    (False, True, True): 125, #Cyrius and stellarpgx\n",
    "    (True, True, True): 1040, #All three\n",
    "}\n",
    "\n",
    "\n",
    "# Filter out the zero-value groups\n",
    "filtered_data = {k: v for k, v in data.items() if v != 0}\n",
    "\n",
    "index = pd.MultiIndex.from_tuples(filtered_data.keys(), names=['aldy', 'cyrius', 'stellarpgx'])\n",
    "\n",
    "series_data = pd.Series(list(filtered_data.values()), index=index)\n",
    "\n",
    "upset_plot = UpSet(series_data, show_counts=True,)\n",
    "plt.rcParams[\"figure.figsize\"] = [50, 20]\n",
    "\n",
    "# Plot\n",
    "upset_plot.plot()\n",
    "# plt.show()\n",
    "\n"
   ]
  },
  {
   "cell_type": "code",
   "execution_count": 7,
   "metadata": {},
   "outputs": [
    {
     "data": {
      "text/plain": [
       "{'matrix': <Axes: >,\n",
       " 'shading': <Axes: >,\n",
       " 'totals': <Axes: >,\n",
       " 'intersections': <Axes: ylabel='Intersection size'>}"
      ]
     },
     "execution_count": 7,
     "metadata": {},
     "output_type": "execute_result"
    },
    {
     "data": {
      "text/plain": [
       "<Figure size 1080x720 with 0 Axes>"
      ]
     },
     "metadata": {},
     "output_type": "display_data"
    },
    {
     "data": {
      "image/png": "[encoded data removed]",
      "text/plain": [
       "<Figure size 384x288 with 4 Axes>"
      ]
     },
     "metadata": {
      "needs_background": "light"
     },
     "output_type": "display_data"
    }
   ],
   "source": [
    "# Inputting manually, for testing purposes\n",
    "plt.figure(figsize=(15, 10))\n",
    "\n",
    "data = {\n",
    "    (True, False, False): 472, #Unique aldy\n",
    "    (False, True, False): 254, #Unique cyrius\n",
    "    (False, False, True): 572, #Unique stellarpgx\n",
    "    (True, True, False): 230, #Aldy and cyrius\n",
    "    (True, False, True): 100, #Aldy and stellarpgx\n",
    "    (False, True, True): 126, #Cyrius and stellarpgx\n",
    "    (True, True, True): 1047, #All three\n",
    "}\n",
    "\n",
    "\n",
    "# Filter out the zero-value groups\n",
    "filtered_data = {k: v for k, v in data.items() if v != 0}\n",
    "\n",
    "index = pd.MultiIndex.from_tuples(filtered_data.keys(), names=['aldy', 'cyrius', 'stellarpgx'])\n",
    "\n",
    "series_data = pd.Series(list(filtered_data.values()), index=index)\n",
    "\n",
    "upset_plot = UpSet(series_data, show_counts=True,)\n",
    "plt.rcParams[\"figure.figsize\"] = [50, 20]\n",
    "\n",
    "# Plot\n",
    "upset_plot.plot()\n",
    "# plt.show()\n",
    "\n"
   ]
  },
  {
   "cell_type": "code",
   "execution_count": 35,
   "metadata": {},
   "outputs": [],
   "source": [
    "import pandas as pd\n",
    "import seaborn as sns\n",
    "import matplotlib.pyplot as plt\n",
    "\n",
    "\n",
    "aldy_callRate = (len(consensus_df) - aldy_noCall) / len(consensus_df) * 100\n",
    "cyrius_callRate = (len(consensus_df) - cyrius_noCall) / len(consensus_df) * 100\n",
    "stellarpgx_callRate = (len(consensus_df) - stellarpgx_noCall) / len(consensus_df) * 100\n",
    "# Create a DataFrame with your data\n",
    "data = {\n",
    "    'Tools': ['Cyrius', 'Aldy', 'StellarPGx'],\n",
    "    'Call rate (%)': [cyrius_callRate, aldy_callRate, stellarpgx_callRate],\n",
    "}\n",
    "df = pd.DataFrame(data)\n",
    "\n",
    "\n"
   ]
  },
  {
   "cell_type": "code",
   "execution_count": 36,
   "metadata": {},
   "outputs": [
    {
     "data": {
      "image/png": "[encoded data removed]",
      "text/plain": [
       "<Figure size 216x216 with 1 Axes>"
      ]
     },
     "metadata": {
      "needs_background": "light"
     },
     "output_type": "display_data"
    }
   ],
   "source": [
    "plt.figure(figsize=(3, 3))  # Reduced the figure size\n",
    "barplot = sns.barplot(x='Tools', y='Call rate (%)', data=df, color='black', edgecolor=\"black\", linewidth=1)\n",
    "\n",
    "# Adjusting the width and position of the bars to balance them\n",
    "for bar in barplot.patches:\n",
    "    bar.set_width(bar.get_width() * 0.5)\n",
    "    bar.set_x(bar.get_x() + bar.get_width() * 0.5)\n",
    "\n",
    "barplot.patches[0].set_x(barplot.patches[0].get_x() - 0.04)\n",
    "barplot.patches[1].set_x(barplot.patches[1].get_x() - 0.02)\n",
    "barplot.patches[2].set_x(barplot.patches[2].get_x())\n",
    "\n",
    "for p in barplot.patches:\n",
    "    barplot.annotate(format(p.get_height(), '.2f') + \"%\", \n",
    "                     (p.get_x() + p.get_width() / 2., p.get_height()), \n",
    "                     ha = 'center', va = 'center', \n",
    "                     xytext = (0, 10), \n",
    "                     textcoords = 'offset points',)\n",
    "\n",
    "plt.grid(alpha=0.2)\n",
    "plt.xlabel(None)\n",
    "plt.ylim(0, 115)\n",
    "plt.show()"
   ]
  },
  {
   "cell_type": "markdown",
   "metadata": {},
   "source": [
    "## Notes\n",
    "16 samples have consensus but found to have potential novel alleles and therefore removed from the analysis"
   ]
  }
 ],
 "metadata": {
  "kernelspec": {
   "display_name": "cyp2d6",
   "language": "python",
   "name": "python3"
  },
  "language_info": {
   "codemirror_mode": {
    "name": "ipython",
    "version": 3
   },
   "file_extension": ".py",
   "mimetype": "text/x-python",
   "name": "python",
   "nbconvert_exporter": "python",
   "pygments_lexer": "ipython3",
   "version": "3.9.10"
  },
  "orig_nbformat": 4
 },
 "nbformat": 4,
 "nbformat_minor": 2
}
